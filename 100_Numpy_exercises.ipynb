{
 "cells": [
  {
   "cell_type": "markdown",
   "id": "6293cc50",
   "metadata": {},
   "source": [
    "# 100 numpy exercises\n",
    "\n",
    "This is a collection of exercises that have been collected in the numpy mailing list, on stack overflow\n",
    "and in the numpy documentation. The goal of this collection is to offer a quick reference for both old\n",
    "and new users but also to provide a set of exercises for those who teach.\n",
    "\n",
    "If you find an error or think you've a better way to solve some of them, feel\n",
    "free to open an issue at <https://github.com/rougier/numpy-100>.\n"
   ]
  },
  {
   "cell_type": "markdown",
   "id": "a167c052",
   "metadata": {},
   "source": [
    "File automatically generated. See the documentation to update questions/answers/hints programmatically.\n"
   ]
  },
  {
   "cell_type": "markdown",
   "id": "57fc0ee5",
   "metadata": {},
   "source": [
    "Run the `initialize.py` module, then for each question you can query the\n",
    "answer or an hint with `hint(n)` or `answer(n)` for `n` question number.\n"
   ]
  },
  {
   "cell_type": "code",
   "execution_count": 2,
   "id": "3d46fba2",
   "metadata": {},
   "outputs": [],
   "source": [
    "%run initialise.py"
   ]
  },
  {
   "cell_type": "markdown",
   "id": "3c1222ff",
   "metadata": {},
   "source": [
    "#### 1. Import the numpy package under the name `np` (★☆☆)\n"
   ]
  },
  {
   "cell_type": "code",
   "execution_count": 3,
   "id": "f52e6a0b",
   "metadata": {},
   "outputs": [],
   "source": [
    "import numpy as np"
   ]
  },
  {
   "cell_type": "markdown",
   "id": "9d9f4753",
   "metadata": {},
   "source": [
    "#### 2. Print the numpy version and the configuration (★☆☆)\n"
   ]
  },
  {
   "cell_type": "code",
   "execution_count": 8,
   "id": "b7fa5fa1",
   "metadata": {},
   "outputs": [
    {
     "name": "stdout",
     "output_type": "stream",
     "text": [
      "hint: np.__version__, np.show_config)\n",
      "1.25.2\n",
      "openblas64__info:\n",
      "    libraries = ['openblas64_', 'openblas64_']\n",
      "    library_dirs = ['/usr/local/lib']\n",
      "    language = c\n",
      "    define_macros = [('HAVE_CBLAS', None), ('BLAS_SYMBOL_SUFFIX', '64_'), ('HAVE_BLAS_ILP64', None)]\n",
      "    runtime_library_dirs = ['/usr/local/lib']\n",
      "blas_ilp64_opt_info:\n",
      "    libraries = ['openblas64_', 'openblas64_']\n",
      "    library_dirs = ['/usr/local/lib']\n",
      "    language = c\n",
      "    define_macros = [('HAVE_CBLAS', None), ('BLAS_SYMBOL_SUFFIX', '64_'), ('HAVE_BLAS_ILP64', None)]\n",
      "    runtime_library_dirs = ['/usr/local/lib']\n",
      "openblas64__lapack_info:\n",
      "    libraries = ['openblas64_', 'openblas64_']\n",
      "    library_dirs = ['/usr/local/lib']\n",
      "    language = c\n",
      "    define_macros = [('HAVE_CBLAS', None), ('BLAS_SYMBOL_SUFFIX', '64_'), ('HAVE_BLAS_ILP64', None), ('HAVE_LAPACKE', None)]\n",
      "    runtime_library_dirs = ['/usr/local/lib']\n",
      "lapack_ilp64_opt_info:\n",
      "    libraries = ['openblas64_', 'openblas64_']\n",
      "    library_dirs = ['/usr/local/lib']\n",
      "    language = c\n",
      "    define_macros = [('HAVE_CBLAS', None), ('BLAS_SYMBOL_SUFFIX', '64_'), ('HAVE_BLAS_ILP64', None), ('HAVE_LAPACKE', None)]\n",
      "    runtime_library_dirs = ['/usr/local/lib']\n",
      "Supported SIMD extensions in this NumPy install:\n",
      "    baseline = NEON,NEON_FP16,NEON_VFPV4,ASIMD\n",
      "    found = ASIMDHP,ASIMDDP\n",
      "    not found = ASIMDFHM\n"
     ]
    }
   ],
   "source": [
    "hint(2)\n",
    "print(np.__version__)\n",
    "np.show_config()"
   ]
  },
  {
   "cell_type": "markdown",
   "id": "3e4c23c6",
   "metadata": {},
   "source": [
    "#### 3. Create a null vector of size 10 (★☆☆)\n"
   ]
  },
  {
   "cell_type": "code",
   "execution_count": 10,
   "id": "083c5c46",
   "metadata": {},
   "outputs": [
    {
     "data": {
      "text/plain": [
       "array([0., 0., 0., 0., 0., 0., 0., 0., 0., 0.])"
      ]
     },
     "execution_count": 10,
     "metadata": {},
     "output_type": "execute_result"
    }
   ],
   "source": [
    "null_vec = np.zeros(10)\n",
    "null_vec"
   ]
  },
  {
   "cell_type": "markdown",
   "id": "c38bbe82",
   "metadata": {},
   "source": [
    "#### 4. How to find the memory size of any array (★☆☆)\n"
   ]
  },
  {
   "cell_type": "code",
   "execution_count": 13,
   "id": "02b04021",
   "metadata": {},
   "outputs": [
    {
     "name": "stdout",
     "output_type": "stream",
     "text": [
      "hint: size, itemsize\n",
      "10\n",
      "8\n"
     ]
    }
   ],
   "source": [
    "hint(4)\n",
    "print(null_vec.size)\n",
    "print(null_vec.itemsize)"
   ]
  },
  {
   "cell_type": "markdown",
   "id": "67f893d4",
   "metadata": {},
   "source": [
    "#### 5. How to get the documentation of the numpy add function from the command line? (★☆☆)\n"
   ]
  },
  {
   "cell_type": "code",
   "execution_count": 22,
   "id": "40e6b70d",
   "metadata": {},
   "outputs": [
    {
     "name": "stdout",
     "output_type": "stream",
     "text": [
      "Help on ufunc:\n",
      "\n",
      "add = <ufunc 'add'>\n",
      "    add(x1, x2, /, out=None, *, where=True, casting='same_kind', order='K', dtype=None, subok=True[, signature, extobj])\n",
      "    \n",
      "    Add arguments element-wise.\n",
      "    \n",
      "    Parameters\n",
      "    ----------\n",
      "    x1, x2 : array_like\n",
      "        The arrays to be added.\n",
      "        If ``x1.shape != x2.shape``, they must be broadcastable to a common\n",
      "        shape (which becomes the shape of the output).\n",
      "    out : ndarray, None, or tuple of ndarray and None, optional\n",
      "        A location into which the result is stored. If provided, it must have\n",
      "        a shape that the inputs broadcast to. If not provided or None,\n",
      "        a freshly-allocated array is returned. A tuple (possible only as a\n",
      "        keyword argument) must have length equal to the number of outputs.\n",
      "    where : array_like, optional\n",
      "        This condition is broadcast over the input. At locations where the\n",
      "        condition is True, the `out` array will be set to the ufunc result.\n",
      "        Elsewhere, the `out` array will retain its original value.\n",
      "        Note that if an uninitialized `out` array is created via the default\n",
      "        ``out=None``, locations within it where the condition is False will\n",
      "        remain uninitialized.\n",
      "    **kwargs\n",
      "        For other keyword-only arguments, see the\n",
      "        :ref:`ufunc docs <ufuncs.kwargs>`.\n",
      "    \n",
      "    Returns\n",
      "    -------\n",
      "    add : ndarray or scalar\n",
      "        The sum of `x1` and `x2`, element-wise.\n",
      "        This is a scalar if both `x1` and `x2` are scalars.\n",
      "    \n",
      "    Notes\n",
      "    -----\n",
      "    Equivalent to `x1` + `x2` in terms of array broadcasting.\n",
      "    \n",
      "    Examples\n",
      "    --------\n",
      "    >>> np.add(1.0, 4.0)\n",
      "    5.0\n",
      "    >>> x1 = np.arange(9.0).reshape((3, 3))\n",
      "    >>> x2 = np.arange(3.0)\n",
      "    >>> np.add(x1, x2)\n",
      "    array([[  0.,   2.,   4.],\n",
      "           [  3.,   5.,   7.],\n",
      "           [  6.,   8.,  10.]])\n",
      "    \n",
      "    The ``+`` operator can be used as a shorthand for ``np.add`` on ndarrays.\n",
      "    \n",
      "    >>> x1 = np.arange(9.0).reshape((3, 3))\n",
      "    >>> x2 = np.arange(3.0)\n",
      "    >>> x1 + x2\n",
      "    array([[ 0.,  2.,  4.],\n",
      "           [ 3.,  5.,  7.],\n",
      "           [ 6.,  8., 10.]])\n",
      "\n"
     ]
    }
   ],
   "source": [
    "help(np.add)"
   ]
  },
  {
   "cell_type": "markdown",
   "id": "e0c739c6",
   "metadata": {},
   "source": [
    "#### 6. Create a null vector of size 10 but the fifth value which is 1 (★☆☆)\n"
   ]
  },
  {
   "cell_type": "code",
   "execution_count": 23,
   "id": "bcceacf7",
   "metadata": {},
   "outputs": [
    {
     "data": {
      "text/plain": [
       "array([0., 0., 0., 0., 1., 0., 0., 0., 0., 0.])"
      ]
     },
     "execution_count": 23,
     "metadata": {},
     "output_type": "execute_result"
    }
   ],
   "source": [
    "null_vec[4] = 1\n",
    "null_vec"
   ]
  },
  {
   "cell_type": "markdown",
   "id": "fbebedab",
   "metadata": {},
   "source": [
    "#### 7. Create a vector with values ranging from 10 to 49 (★☆☆)\n"
   ]
  },
  {
   "cell_type": "code",
   "execution_count": 26,
   "id": "3d117d54",
   "metadata": {},
   "outputs": [
    {
     "data": {
      "text/plain": [
       "array([10, 11, 12, 13, 14, 15, 16, 17, 18, 19, 20, 21, 22, 23, 24, 25, 26,\n",
       "       27, 28, 29, 30, 31, 32, 33, 34, 35, 36, 37, 38, 39, 40, 41, 42, 43,\n",
       "       44, 45, 46, 47, 48, 49])"
      ]
     },
     "execution_count": 26,
     "metadata": {},
     "output_type": "execute_result"
    }
   ],
   "source": [
    "arange_vec = np.arange(10, 50)\n",
    "arange_vec"
   ]
  },
  {
   "cell_type": "markdown",
   "id": "ad0bff02",
   "metadata": {},
   "source": [
    "#### 8. Reverse a vector (first element becomes last) (★☆☆)\n"
   ]
  },
  {
   "cell_type": "code",
   "execution_count": 29,
   "id": "22d23470",
   "metadata": {},
   "outputs": [
    {
     "name": "stdout",
     "output_type": "stream",
     "text": [
      "hint: array[::-1]\n"
     ]
    },
    {
     "data": {
      "text/plain": [
       "array([49, 48, 47, 46, 45, 44, 43, 42, 41, 40, 39, 38, 37, 36, 35, 34, 33,\n",
       "       32, 31, 30, 29, 28, 27, 26, 25, 24, 23, 22, 21, 20, 19, 18, 17, 16,\n",
       "       15, 14, 13, 12, 11, 10])"
      ]
     },
     "execution_count": 29,
     "metadata": {},
     "output_type": "execute_result"
    }
   ],
   "source": [
    "hint(8)\n",
    "reverse_arange_vec = arange_vec[::-1]\n",
    "reverse_arange_vec"
   ]
  },
  {
   "cell_type": "markdown",
   "id": "9f59d7e1",
   "metadata": {},
   "source": [
    "#### 9. Create a 3x3 matrix with values ranging from 0 to 8 (★☆☆)\n"
   ]
  },
  {
   "cell_type": "code",
   "execution_count": 35,
   "id": "7449e82d",
   "metadata": {},
   "outputs": [
    {
     "name": "stdout",
     "output_type": "stream",
     "text": [
      "hint: reshape\n"
     ]
    },
    {
     "data": {
      "text/plain": [
       "array([[0, 1, 2],\n",
       "       [3, 4, 5],\n",
       "       [6, 7, 8]])"
      ]
     },
     "execution_count": 35,
     "metadata": {},
     "output_type": "execute_result"
    }
   ],
   "source": [
    "hint(9)\n",
    "arange_matrix = np.arange(9).reshape(3, 3)\n",
    "arange_matrix"
   ]
  },
  {
   "cell_type": "markdown",
   "id": "f374c4cf",
   "metadata": {},
   "source": [
    "#### 10. Find indices of non-zero elements from [1,2,0,0,4,0] (★☆☆)\n"
   ]
  },
  {
   "cell_type": "code",
   "execution_count": 56,
   "id": "1a84bed8",
   "metadata": {},
   "outputs": [
    {
     "name": "stdout",
     "output_type": "stream",
     "text": [
      "(0, 1, 4)\n",
      "hint: np.nonzero\n"
     ]
    },
    {
     "data": {
      "text/plain": [
       "(array([0, 1, 4]),)"
      ]
     },
     "execution_count": 56,
     "metadata": {},
     "output_type": "execute_result"
    }
   ],
   "source": [
    "list = [1, 2, 0, 0, 4, 0]\n",
    "non_zero_idx = tuple(np.array([i for i, v in enumerate(list) if v]))\n",
    "print(non_zero_idx)\n",
    "\n",
    "hint(10)\n",
    "non_zero_idx = np.nonzero(list)\n",
    "non_zero_idx"
   ]
  },
  {
   "cell_type": "markdown",
   "id": "9c4707f5",
   "metadata": {},
   "source": [
    "#### 11. Create a 3x3 identity matrix (★☆☆)\n"
   ]
  },
  {
   "cell_type": "code",
   "execution_count": 51,
   "id": "29dc1fd3",
   "metadata": {},
   "outputs": [
    {
     "name": "stdout",
     "output_type": "stream",
     "text": [
      "hint: np.eye\n"
     ]
    },
    {
     "data": {
      "text/plain": [
       "array([[1., 0., 0.],\n",
       "       [0., 1., 0.],\n",
       "       [0., 0., 1.]])"
      ]
     },
     "execution_count": 51,
     "metadata": {},
     "output_type": "execute_result"
    }
   ],
   "source": [
    "hint(11)\n",
    "identity_matrix = np.eye(3)\n",
    "identity_matrix"
   ]
  },
  {
   "cell_type": "markdown",
   "id": "3bac294a",
   "metadata": {},
   "source": [
    "#### 12. Create a 3x3x3 array with random values (★☆☆)\n"
   ]
  },
  {
   "cell_type": "code",
   "execution_count": 54,
   "id": "eadfae67",
   "metadata": {},
   "outputs": [
    {
     "data": {
      "text/plain": [
       "array([[[0.95508834, 0.05020932, 0.38373463],\n",
       "        [0.23962888, 0.13358002, 0.74650712],\n",
       "        [0.72756854, 0.24759988, 0.79386588]],\n",
       "\n",
       "       [[0.31400339, 0.41569823, 0.35741695],\n",
       "        [0.18129375, 0.40179329, 0.10528801],\n",
       "        [0.33661974, 0.68730179, 0.93267939]],\n",
       "\n",
       "       [[0.20975321, 0.23641349, 0.77422578],\n",
       "        [0.49452119, 0.16010192, 0.1787374 ],\n",
       "        [0.24274503, 0.46763821, 0.35254232]]])"
      ]
     },
     "execution_count": 54,
     "metadata": {},
     "output_type": "execute_result"
    }
   ],
   "source": [
    "random_matrix = np.random.random((3, 3, 3))\n",
    "random_matrix"
   ]
  },
  {
   "cell_type": "markdown",
   "id": "466c2989",
   "metadata": {},
   "source": [
    "#### 13. Create a 10x10 array with random values and find the minimum and maximum values (★☆☆)\n"
   ]
  },
  {
   "cell_type": "code",
   "execution_count": 58,
   "id": "9a74dbfc",
   "metadata": {},
   "outputs": [
    {
     "name": "stdout",
     "output_type": "stream",
     "text": [
      "min=0.0010562561555893524, max=0.9992476022773893\n"
     ]
    }
   ],
   "source": [
    "random_matrix = np.random.random((10, 10))\n",
    "min_val, max_val = random_matrix.min(), random_matrix.max()\n",
    "print(f\"min={min_val}, max={max_val}\")"
   ]
  },
  {
   "cell_type": "markdown",
   "id": "53a8edb2",
   "metadata": {},
   "source": [
    "#### 14. Create a random vector of size 30 and find the mean value (★☆☆)\n"
   ]
  },
  {
   "cell_type": "code",
   "execution_count": 89,
   "id": "6691530b",
   "metadata": {},
   "outputs": [
    {
     "data": {
      "text/plain": [
       "0.4714383561793961"
      ]
     },
     "execution_count": 89,
     "metadata": {},
     "output_type": "execute_result"
    }
   ],
   "source": [
    "random_vec = np.random.random(30)\n",
    "mean_val = np.mean(random_vec)\n",
    "mean_val"
   ]
  },
  {
   "cell_type": "markdown",
   "id": "cbaad31c",
   "metadata": {},
   "source": [
    "#### 15. Create a 2d array with 1 on the border and 0 inside (★☆☆)\n"
   ]
  },
  {
   "cell_type": "code",
   "execution_count": 60,
   "id": "ad8308e3",
   "metadata": {},
   "outputs": [
    {
     "name": "stdout",
     "output_type": "stream",
     "text": [
      "hint: array[1:-1, 1:-1]\n"
     ]
    },
    {
     "data": {
      "text/plain": [
       "array([[1., 1., 1., 1., 1., 1., 1., 1., 1., 1.],\n",
       "       [1., 0., 0., 0., 0., 0., 0., 0., 0., 1.],\n",
       "       [1., 0., 0., 0., 0., 0., 0., 0., 0., 1.],\n",
       "       [1., 0., 0., 0., 0., 0., 0., 0., 0., 1.],\n",
       "       [1., 0., 0., 0., 0., 0., 0., 0., 0., 1.],\n",
       "       [1., 0., 0., 0., 0., 0., 0., 0., 0., 1.],\n",
       "       [1., 0., 0., 0., 0., 0., 0., 0., 0., 1.],\n",
       "       [1., 0., 0., 0., 0., 0., 0., 0., 0., 1.],\n",
       "       [1., 0., 0., 0., 0., 0., 0., 0., 0., 1.],\n",
       "       [1., 1., 1., 1., 1., 1., 1., 1., 1., 1.]])"
      ]
     },
     "execution_count": 60,
     "metadata": {},
     "output_type": "execute_result"
    }
   ],
   "source": [
    "hint(15)\n",
    "ones_matrix = np.ones((10, 10))\n",
    "ones_matrix[1:-1, 1:-1] = 0\n",
    "ones_matrix"
   ]
  },
  {
   "cell_type": "markdown",
   "id": "c5ecc267",
   "metadata": {},
   "source": [
    "#### 16. How to add a border (filled with 0's) around an existing array? (★☆☆)\n"
   ]
  },
  {
   "cell_type": "code",
   "execution_count": 63,
   "id": "9d5c78c4",
   "metadata": {},
   "outputs": [
    {
     "name": "stdout",
     "output_type": "stream",
     "text": [
      "hint: np.pad\n",
      "Help on _ArrayFunctionDispatcher in module numpy:\n",
      "\n",
      "pad(array, pad_width, mode='constant', **kwargs)\n",
      "    Pad an array.\n",
      "    \n",
      "    Parameters\n",
      "    ----------\n",
      "    array : array_like of rank N\n",
      "        The array to pad.\n",
      "    pad_width : {sequence, array_like, int}\n",
      "        Number of values padded to the edges of each axis.\n",
      "        ``((before_1, after_1), ... (before_N, after_N))`` unique pad widths\n",
      "        for each axis.\n",
      "        ``(before, after)`` or ``((before, after),)`` yields same before\n",
      "        and after pad for each axis.\n",
      "        ``(pad,)`` or ``int`` is a shortcut for before = after = pad width\n",
      "        for all axes.\n",
      "    mode : str or function, optional\n",
      "        One of the following string values or a user supplied function.\n",
      "    \n",
      "        'constant' (default)\n",
      "            Pads with a constant value.\n",
      "        'edge'\n",
      "            Pads with the edge values of array.\n",
      "        'linear_ramp'\n",
      "            Pads with the linear ramp between end_value and the\n",
      "            array edge value.\n",
      "        'maximum'\n",
      "            Pads with the maximum value of all or part of the\n",
      "            vector along each axis.\n",
      "        'mean'\n",
      "            Pads with the mean value of all or part of the\n",
      "            vector along each axis.\n",
      "        'median'\n",
      "            Pads with the median value of all or part of the\n",
      "            vector along each axis.\n",
      "        'minimum'\n",
      "            Pads with the minimum value of all or part of the\n",
      "            vector along each axis.\n",
      "        'reflect'\n",
      "            Pads with the reflection of the vector mirrored on\n",
      "            the first and last values of the vector along each\n",
      "            axis.\n",
      "        'symmetric'\n",
      "            Pads with the reflection of the vector mirrored\n",
      "            along the edge of the array.\n",
      "        'wrap'\n",
      "            Pads with the wrap of the vector along the axis.\n",
      "            The first values are used to pad the end and the\n",
      "            end values are used to pad the beginning.\n",
      "        'empty'\n",
      "            Pads with undefined values.\n",
      "    \n",
      "            .. versionadded:: 1.17\n",
      "    \n",
      "        <function>\n",
      "            Padding function, see Notes.\n",
      "    stat_length : sequence or int, optional\n",
      "        Used in 'maximum', 'mean', 'median', and 'minimum'.  Number of\n",
      "        values at edge of each axis used to calculate the statistic value.\n",
      "    \n",
      "        ``((before_1, after_1), ... (before_N, after_N))`` unique statistic\n",
      "        lengths for each axis.\n",
      "    \n",
      "        ``(before, after)`` or ``((before, after),)`` yields same before\n",
      "        and after statistic lengths for each axis.\n",
      "    \n",
      "        ``(stat_length,)`` or ``int`` is a shortcut for\n",
      "        ``before = after = statistic`` length for all axes.\n",
      "    \n",
      "        Default is ``None``, to use the entire axis.\n",
      "    constant_values : sequence or scalar, optional\n",
      "        Used in 'constant'.  The values to set the padded values for each\n",
      "        axis.\n",
      "    \n",
      "        ``((before_1, after_1), ... (before_N, after_N))`` unique pad constants\n",
      "        for each axis.\n",
      "    \n",
      "        ``(before, after)`` or ``((before, after),)`` yields same before\n",
      "        and after constants for each axis.\n",
      "    \n",
      "        ``(constant,)`` or ``constant`` is a shortcut for\n",
      "        ``before = after = constant`` for all axes.\n",
      "    \n",
      "        Default is 0.\n",
      "    end_values : sequence or scalar, optional\n",
      "        Used in 'linear_ramp'.  The values used for the ending value of the\n",
      "        linear_ramp and that will form the edge of the padded array.\n",
      "    \n",
      "        ``((before_1, after_1), ... (before_N, after_N))`` unique end values\n",
      "        for each axis.\n",
      "    \n",
      "        ``(before, after)`` or ``((before, after),)`` yields same before\n",
      "        and after end values for each axis.\n",
      "    \n",
      "        ``(constant,)`` or ``constant`` is a shortcut for\n",
      "        ``before = after = constant`` for all axes.\n",
      "    \n",
      "        Default is 0.\n",
      "    reflect_type : {'even', 'odd'}, optional\n",
      "        Used in 'reflect', and 'symmetric'.  The 'even' style is the\n",
      "        default with an unaltered reflection around the edge value.  For\n",
      "        the 'odd' style, the extended part of the array is created by\n",
      "        subtracting the reflected values from two times the edge value.\n",
      "    \n",
      "    Returns\n",
      "    -------\n",
      "    pad : ndarray\n",
      "        Padded array of rank equal to `array` with shape increased\n",
      "        according to `pad_width`.\n",
      "    \n",
      "    Notes\n",
      "    -----\n",
      "    .. versionadded:: 1.7.0\n",
      "    \n",
      "    For an array with rank greater than 1, some of the padding of later\n",
      "    axes is calculated from padding of previous axes.  This is easiest to\n",
      "    think about with a rank 2 array where the corners of the padded array\n",
      "    are calculated by using padded values from the first axis.\n",
      "    \n",
      "    The padding function, if used, should modify a rank 1 array in-place. It\n",
      "    has the following signature::\n",
      "    \n",
      "        padding_func(vector, iaxis_pad_width, iaxis, kwargs)\n",
      "    \n",
      "    where\n",
      "    \n",
      "        vector : ndarray\n",
      "            A rank 1 array already padded with zeros.  Padded values are\n",
      "            vector[:iaxis_pad_width[0]] and vector[-iaxis_pad_width[1]:].\n",
      "        iaxis_pad_width : tuple\n",
      "            A 2-tuple of ints, iaxis_pad_width[0] represents the number of\n",
      "            values padded at the beginning of vector where\n",
      "            iaxis_pad_width[1] represents the number of values padded at\n",
      "            the end of vector.\n",
      "        iaxis : int\n",
      "            The axis currently being calculated.\n",
      "        kwargs : dict\n",
      "            Any keyword arguments the function requires.\n",
      "    \n",
      "    Examples\n",
      "    --------\n",
      "    >>> a = [1, 2, 3, 4, 5]\n",
      "    >>> np.pad(a, (2, 3), 'constant', constant_values=(4, 6))\n",
      "    array([4, 4, 1, ..., 6, 6, 6])\n",
      "    \n",
      "    >>> np.pad(a, (2, 3), 'edge')\n",
      "    array([1, 1, 1, ..., 5, 5, 5])\n",
      "    \n",
      "    >>> np.pad(a, (2, 3), 'linear_ramp', end_values=(5, -4))\n",
      "    array([ 5,  3,  1,  2,  3,  4,  5,  2, -1, -4])\n",
      "    \n",
      "    >>> np.pad(a, (2,), 'maximum')\n",
      "    array([5, 5, 1, 2, 3, 4, 5, 5, 5])\n",
      "    \n",
      "    >>> np.pad(a, (2,), 'mean')\n",
      "    array([3, 3, 1, 2, 3, 4, 5, 3, 3])\n",
      "    \n",
      "    >>> np.pad(a, (2,), 'median')\n",
      "    array([3, 3, 1, 2, 3, 4, 5, 3, 3])\n",
      "    \n",
      "    >>> a = [[1, 2], [3, 4]]\n",
      "    >>> np.pad(a, ((3, 2), (2, 3)), 'minimum')\n",
      "    array([[1, 1, 1, 2, 1, 1, 1],\n",
      "           [1, 1, 1, 2, 1, 1, 1],\n",
      "           [1, 1, 1, 2, 1, 1, 1],\n",
      "           [1, 1, 1, 2, 1, 1, 1],\n",
      "           [3, 3, 3, 4, 3, 3, 3],\n",
      "           [1, 1, 1, 2, 1, 1, 1],\n",
      "           [1, 1, 1, 2, 1, 1, 1]])\n",
      "    \n",
      "    >>> a = [1, 2, 3, 4, 5]\n",
      "    >>> np.pad(a, (2, 3), 'reflect')\n",
      "    array([3, 2, 1, 2, 3, 4, 5, 4, 3, 2])\n",
      "    \n",
      "    >>> np.pad(a, (2, 3), 'reflect', reflect_type='odd')\n",
      "    array([-1,  0,  1,  2,  3,  4,  5,  6,  7,  8])\n",
      "    \n",
      "    >>> np.pad(a, (2, 3), 'symmetric')\n",
      "    array([2, 1, 1, 2, 3, 4, 5, 5, 4, 3])\n",
      "    \n",
      "    >>> np.pad(a, (2, 3), 'symmetric', reflect_type='odd')\n",
      "    array([0, 1, 1, 2, 3, 4, 5, 5, 6, 7])\n",
      "    \n",
      "    >>> np.pad(a, (2, 3), 'wrap')\n",
      "    array([4, 5, 1, 2, 3, 4, 5, 1, 2, 3])\n",
      "    \n",
      "    >>> def pad_with(vector, pad_width, iaxis, kwargs):\n",
      "    ...     pad_value = kwargs.get('padder', 10)\n",
      "    ...     vector[:pad_width[0]] = pad_value\n",
      "    ...     vector[-pad_width[1]:] = pad_value\n",
      "    >>> a = np.arange(6)\n",
      "    >>> a = a.reshape((2, 3))\n",
      "    >>> np.pad(a, 2, pad_with)\n",
      "    array([[10, 10, 10, 10, 10, 10, 10],\n",
      "           [10, 10, 10, 10, 10, 10, 10],\n",
      "           [10, 10,  0,  1,  2, 10, 10],\n",
      "           [10, 10,  3,  4,  5, 10, 10],\n",
      "           [10, 10, 10, 10, 10, 10, 10],\n",
      "           [10, 10, 10, 10, 10, 10, 10]])\n",
      "    >>> np.pad(a, 2, pad_with, padder=100)\n",
      "    array([[100, 100, 100, 100, 100, 100, 100],\n",
      "           [100, 100, 100, 100, 100, 100, 100],\n",
      "           [100, 100,   0,   1,   2, 100, 100],\n",
      "           [100, 100,   3,   4,   5, 100, 100],\n",
      "           [100, 100, 100, 100, 100, 100, 100],\n",
      "           [100, 100, 100, 100, 100, 100, 100]])\n",
      "\n"
     ]
    },
    {
     "data": {
      "text/plain": [
       "array([[0., 0., 0., 0., 0., 0., 0., 0., 0., 0., 0., 0.],\n",
       "       [0., 1., 1., 1., 1., 1., 1., 1., 1., 1., 1., 0.],\n",
       "       [0., 1., 0., 0., 0., 0., 0., 0., 0., 0., 1., 0.],\n",
       "       [0., 1., 0., 0., 0., 0., 0., 0., 0., 0., 1., 0.],\n",
       "       [0., 1., 0., 0., 0., 0., 0., 0., 0., 0., 1., 0.],\n",
       "       [0., 1., 0., 0., 0., 0., 0., 0., 0., 0., 1., 0.],\n",
       "       [0., 1., 0., 0., 0., 0., 0., 0., 0., 0., 1., 0.],\n",
       "       [0., 1., 0., 0., 0., 0., 0., 0., 0., 0., 1., 0.],\n",
       "       [0., 1., 0., 0., 0., 0., 0., 0., 0., 0., 1., 0.],\n",
       "       [0., 1., 0., 0., 0., 0., 0., 0., 0., 0., 1., 0.],\n",
       "       [0., 1., 1., 1., 1., 1., 1., 1., 1., 1., 1., 0.],\n",
       "       [0., 0., 0., 0., 0., 0., 0., 0., 0., 0., 0., 0.]])"
      ]
     },
     "execution_count": 63,
     "metadata": {},
     "output_type": "execute_result"
    }
   ],
   "source": [
    "hint(16)\n",
    "help(np.pad)\n",
    "matrix_with_border = np.pad(ones_matrix, ((1, 1), (1, 1)))\n",
    "matrix_with_border"
   ]
  },
  {
   "cell_type": "markdown",
   "id": "ef909b72",
   "metadata": {},
   "source": [
    "#### 17. What is the result of the following expression? (★☆☆)\n",
    "\n",
    "```python\n",
    "0 * np.nan\n",
    "np.nan == np.nan\n",
    "np.inf > np.nan\n",
    "np.nan - np.nan\n",
    "np.nan in set([np.nan])\n",
    "0.3 == 3 * 0.1\n",
    "```\n"
   ]
  },
  {
   "cell_type": "code",
   "execution_count": 67,
   "id": "3b4985f2",
   "metadata": {},
   "outputs": [
    {
     "name": "stdout",
     "output_type": "stream",
     "text": [
      "nan\n",
      "False\n",
      "False\n",
      "nan\n",
      "True\n",
      "False\n"
     ]
    }
   ],
   "source": [
    "print(0 * np.nan)\n",
    "print(np.nan == np.nan)\n",
    "print(np.inf > np.nan)\n",
    "print(np.nan - np.nan)\n",
    "print(np.nan in set([np.nan]))\n",
    "print(0.3 == 3 * 0.1)"
   ]
  },
  {
   "cell_type": "markdown",
   "id": "502738ac",
   "metadata": {},
   "source": [
    "#### 18. Create a 5x5 matrix with values 1,2,3,4 just below the diagonal (★☆☆)\n"
   ]
  },
  {
   "cell_type": "code",
   "execution_count": 73,
   "id": "faed6e2b",
   "metadata": {},
   "outputs": [
    {
     "name": "stdout",
     "output_type": "stream",
     "text": [
      "hint: np.diag\n",
      "Help on _ArrayFunctionDispatcher in module numpy:\n",
      "\n",
      "diag(v, k=0)\n",
      "    Extract a diagonal or construct a diagonal array.\n",
      "    \n",
      "    See the more detailed documentation for ``numpy.diagonal`` if you use this\n",
      "    function to extract a diagonal and wish to write to the resulting array;\n",
      "    whether it returns a copy or a view depends on what version of numpy you\n",
      "    are using.\n",
      "    \n",
      "    Parameters\n",
      "    ----------\n",
      "    v : array_like\n",
      "        If `v` is a 2-D array, return a copy of its `k`-th diagonal.\n",
      "        If `v` is a 1-D array, return a 2-D array with `v` on the `k`-th\n",
      "        diagonal.\n",
      "    k : int, optional\n",
      "        Diagonal in question. The default is 0. Use `k>0` for diagonals\n",
      "        above the main diagonal, and `k<0` for diagonals below the main\n",
      "        diagonal.\n",
      "    \n",
      "    Returns\n",
      "    -------\n",
      "    out : ndarray\n",
      "        The extracted diagonal or constructed diagonal array.\n",
      "    \n",
      "    See Also\n",
      "    --------\n",
      "    diagonal : Return specified diagonals.\n",
      "    diagflat : Create a 2-D array with the flattened input as a diagonal.\n",
      "    trace : Sum along diagonals.\n",
      "    triu : Upper triangle of an array.\n",
      "    tril : Lower triangle of an array.\n",
      "    \n",
      "    Examples\n",
      "    --------\n",
      "    >>> x = np.arange(9).reshape((3,3))\n",
      "    >>> x\n",
      "    array([[0, 1, 2],\n",
      "           [3, 4, 5],\n",
      "           [6, 7, 8]])\n",
      "    \n",
      "    >>> np.diag(x)\n",
      "    array([0, 4, 8])\n",
      "    >>> np.diag(x, k=1)\n",
      "    array([1, 5])\n",
      "    >>> np.diag(x, k=-1)\n",
      "    array([3, 7])\n",
      "    \n",
      "    >>> np.diag(np.diag(x))\n",
      "    array([[0, 0, 0],\n",
      "           [0, 4, 0],\n",
      "           [0, 0, 8]])\n",
      "\n"
     ]
    },
    {
     "data": {
      "text/plain": [
       "array([[0, 0, 0, 0, 0],\n",
       "       [1, 0, 0, 0, 0],\n",
       "       [0, 2, 0, 0, 0],\n",
       "       [0, 0, 3, 0, 0],\n",
       "       [0, 0, 0, 4, 0]])"
      ]
     },
     "execution_count": 73,
     "metadata": {},
     "output_type": "execute_result"
    }
   ],
   "source": [
    "hint(18)\n",
    "help(np.diag)\n",
    "diagonal_matrix = np.diag(np.arange(1, 5), k=-1)\n",
    "diagonal_matrix"
   ]
  },
  {
   "cell_type": "markdown",
   "id": "a65da660",
   "metadata": {},
   "source": [
    "#### 19. Create a 8x8 matrix and fill it with a checkerboard pattern (★☆☆)\n"
   ]
  },
  {
   "cell_type": "code",
   "execution_count": 75,
   "id": "ed150400",
   "metadata": {},
   "outputs": [
    {
     "name": "stdout",
     "output_type": "stream",
     "text": [
      "hint: array[::2]\n"
     ]
    },
    {
     "data": {
      "text/plain": [
       "array([[0., 0., 0., 0., 0., 0., 0., 0.],\n",
       "       [1., 0., 1., 0., 1., 0., 1., 0.],\n",
       "       [0., 0., 0., 0., 0., 0., 0., 0.],\n",
       "       [1., 0., 1., 0., 1., 0., 1., 0.],\n",
       "       [0., 0., 0., 0., 0., 0., 0., 0.],\n",
       "       [1., 0., 1., 0., 1., 0., 1., 0.],\n",
       "       [0., 0., 0., 0., 0., 0., 0., 0.],\n",
       "       [1., 0., 1., 0., 1., 0., 1., 0.]])"
      ]
     },
     "execution_count": 75,
     "metadata": {},
     "output_type": "execute_result"
    }
   ],
   "source": [
    "hint(19)\n",
    "checkerboard_matrix = np.zeros((8, 8))\n",
    "checkerboard_matrix[1::2, ::2] = 1\n",
    "checkerboard_matrix"
   ]
  },
  {
   "cell_type": "markdown",
   "id": "9f7f9c49",
   "metadata": {},
   "source": [
    "#### 20. Consider a (6,7,8) shape array, what is the index (x,y,z) of the 100th element? (★☆☆)\n"
   ]
  },
  {
   "cell_type": "code",
   "execution_count": 83,
   "id": "3782b5a9",
   "metadata": {},
   "outputs": [
    {
     "name": "stdout",
     "output_type": "stream",
     "text": [
      "hint: np.unravel_index\n",
      "Help on _ArrayFunctionDispatcher in module numpy:\n",
      "\n",
      "unravel_index(...)\n",
      "    unravel_index(indices, shape, order='C')\n",
      "    \n",
      "    Converts a flat index or array of flat indices into a tuple\n",
      "    of coordinate arrays.\n",
      "    \n",
      "    Parameters\n",
      "    ----------\n",
      "    indices : array_like\n",
      "        An integer array whose elements are indices into the flattened\n",
      "        version of an array of dimensions ``shape``. Before version 1.6.0,\n",
      "        this function accepted just one index value.\n",
      "    shape : tuple of ints\n",
      "        The shape of the array to use for unraveling ``indices``.\n",
      "    \n",
      "        .. versionchanged:: 1.16.0\n",
      "            Renamed from ``dims`` to ``shape``.\n",
      "    \n",
      "    order : {'C', 'F'}, optional\n",
      "        Determines whether the indices should be viewed as indexing in\n",
      "        row-major (C-style) or column-major (Fortran-style) order.\n",
      "    \n",
      "        .. versionadded:: 1.6.0\n",
      "    \n",
      "    Returns\n",
      "    -------\n",
      "    unraveled_coords : tuple of ndarray\n",
      "        Each array in the tuple has the same shape as the ``indices``\n",
      "        array.\n",
      "    \n",
      "    See Also\n",
      "    --------\n",
      "    ravel_multi_index\n",
      "    \n",
      "    Examples\n",
      "    --------\n",
      "    >>> np.unravel_index([22, 41, 37], (7,6))\n",
      "    (array([3, 6, 6]), array([4, 5, 1]))\n",
      "    >>> np.unravel_index([31, 41, 13], (7,6), order='F')\n",
      "    (array([3, 6, 6]), array([4, 5, 1]))\n",
      "    \n",
      "    >>> np.unravel_index(1621, (6,7,8,9))\n",
      "    (3, 1, 4, 1)\n",
      "\n"
     ]
    },
    {
     "data": {
      "text/plain": [
       "(1, 5, 3)"
      ]
     },
     "execution_count": 83,
     "metadata": {},
     "output_type": "execute_result"
    }
   ],
   "source": [
    "hint(20)\n",
    "help(np.unravel_index)\n",
    "np.unravel_index(99, (6, 7, 8))"
   ]
  },
  {
   "cell_type": "markdown",
   "id": "66bfda35",
   "metadata": {},
   "source": [
    "#### 21. Create a checkerboard 8x8 matrix using the tile function (★☆☆)\n"
   ]
  },
  {
   "cell_type": "code",
   "execution_count": 86,
   "id": "4c07477c",
   "metadata": {},
   "outputs": [
    {
     "name": "stdout",
     "output_type": "stream",
     "text": [
      "hint: np.tile\n",
      "Help on _ArrayFunctionDispatcher in module numpy:\n",
      "\n",
      "tile(A, reps)\n",
      "    Construct an array by repeating A the number of times given by reps.\n",
      "    \n",
      "    If `reps` has length ``d``, the result will have dimension of\n",
      "    ``max(d, A.ndim)``.\n",
      "    \n",
      "    If ``A.ndim < d``, `A` is promoted to be d-dimensional by prepending new\n",
      "    axes. So a shape (3,) array is promoted to (1, 3) for 2-D replication,\n",
      "    or shape (1, 1, 3) for 3-D replication. If this is not the desired\n",
      "    behavior, promote `A` to d-dimensions manually before calling this\n",
      "    function.\n",
      "    \n",
      "    If ``A.ndim > d``, `reps` is promoted to `A`.ndim by pre-pending 1's to it.\n",
      "    Thus for an `A` of shape (2, 3, 4, 5), a `reps` of (2, 2) is treated as\n",
      "    (1, 1, 2, 2).\n",
      "    \n",
      "    Note : Although tile may be used for broadcasting, it is strongly\n",
      "    recommended to use numpy's broadcasting operations and functions.\n",
      "    \n",
      "    Parameters\n",
      "    ----------\n",
      "    A : array_like\n",
      "        The input array.\n",
      "    reps : array_like\n",
      "        The number of repetitions of `A` along each axis.\n",
      "    \n",
      "    Returns\n",
      "    -------\n",
      "    c : ndarray\n",
      "        The tiled output array.\n",
      "    \n",
      "    See Also\n",
      "    --------\n",
      "    repeat : Repeat elements of an array.\n",
      "    broadcast_to : Broadcast an array to a new shape\n",
      "    \n",
      "    Examples\n",
      "    --------\n",
      "    >>> a = np.array([0, 1, 2])\n",
      "    >>> np.tile(a, 2)\n",
      "    array([0, 1, 2, 0, 1, 2])\n",
      "    >>> np.tile(a, (2, 2))\n",
      "    array([[0, 1, 2, 0, 1, 2],\n",
      "           [0, 1, 2, 0, 1, 2]])\n",
      "    >>> np.tile(a, (2, 1, 2))\n",
      "    array([[[0, 1, 2, 0, 1, 2]],\n",
      "           [[0, 1, 2, 0, 1, 2]]])\n",
      "    \n",
      "    >>> b = np.array([[1, 2], [3, 4]])\n",
      "    >>> np.tile(b, 2)\n",
      "    array([[1, 2, 1, 2],\n",
      "           [3, 4, 3, 4]])\n",
      "    >>> np.tile(b, (2, 1))\n",
      "    array([[1, 2],\n",
      "           [3, 4],\n",
      "           [1, 2],\n",
      "           [3, 4]])\n",
      "    \n",
      "    >>> c = np.array([1,2,3,4])\n",
      "    >>> np.tile(c,(4,1))\n",
      "    array([[1, 2, 3, 4],\n",
      "           [1, 2, 3, 4],\n",
      "           [1, 2, 3, 4],\n",
      "           [1, 2, 3, 4]])\n",
      "\n"
     ]
    },
    {
     "data": {
      "text/plain": [
       "array([[0, 1, 0, 1, 0, 1, 0, 1],\n",
       "       [1, 0, 1, 0, 1, 0, 1, 0],\n",
       "       [0, 1, 0, 1, 0, 1, 0, 1],\n",
       "       [1, 0, 1, 0, 1, 0, 1, 0],\n",
       "       [0, 1, 0, 1, 0, 1, 0, 1],\n",
       "       [1, 0, 1, 0, 1, 0, 1, 0],\n",
       "       [0, 1, 0, 1, 0, 1, 0, 1],\n",
       "       [1, 0, 1, 0, 1, 0, 1, 0]])"
      ]
     },
     "execution_count": 86,
     "metadata": {},
     "output_type": "execute_result"
    }
   ],
   "source": [
    "hint(21)\n",
    "help(np.tile)\n",
    "checkerboard_matrix = np.tile(np.array([[0, 1], [1, 0]]), (4, 4))\n",
    "checkerboard_matrix"
   ]
  },
  {
   "cell_type": "markdown",
   "id": "d5bcfc08",
   "metadata": {},
   "source": [
    "#### 22. Normalize a 5x5 random matrix (★☆☆)\n"
   ]
  },
  {
   "cell_type": "code",
   "execution_count": 126,
   "id": "cea6c993",
   "metadata": {},
   "outputs": [
    {
     "name": "stdout",
     "output_type": "stream",
     "text": [
      "Z = np.random.random((5,5))\n",
      "Z = (Z - np.mean (Z)) / (np.std (Z))\n",
      "print(Z)\n"
     ]
    },
    {
     "data": {
      "text/plain": [
       "array([[-0.71283954, -0.85294688, -1.35847957, -0.46301539, -1.08233558],\n",
       "       [-1.34652311, -0.99523728, -1.25825418, -0.68510507, -1.11423152],\n",
       "       [-1.00781388, -1.16377424, -0.56065512, -0.60207573, -1.19751767],\n",
       "       [-0.44696619, -1.31817595, -1.14381915, -1.10171137, -1.23241648],\n",
       "       [-0.4067695 , -0.41014752, -0.54745473, -1.28657579, -1.21149652]])"
      ]
     },
     "execution_count": 126,
     "metadata": {},
     "output_type": "execute_result"
    }
   ],
   "source": [
    "answer(22)\n",
    "matrix = np.random.random((5, 5))\n",
    "standardized_matrix = matrix - np.mean(matrix) / np.std(matrix)\n",
    "standardized_matrix"
   ]
  },
  {
   "cell_type": "markdown",
   "id": "f9a0911e",
   "metadata": {},
   "source": [
    "#### 23. Create a custom dtype that describes a color as four unsigned bytes (RGBA) (★☆☆)\n"
   ]
  },
  {
   "cell_type": "code",
   "execution_count": 93,
   "id": "d165044b",
   "metadata": {},
   "outputs": [
    {
     "name": "stdout",
     "output_type": "stream",
     "text": [
      "hint: np.dtype\n"
     ]
    },
    {
     "name": "stderr",
     "output_type": "stream",
     "text": [
      "/var/folders/7t/dtfknjpn0xv4mm1vpxdr54sm0000gn/T/ipykernel_4878/2158838085.py:2: FutureWarning: Passing (type, 1) or '1type' as a synonym of type is deprecated; in a future version of numpy, it will be understood as (type, (1,)) / '(1,)type'.\n",
      "  color = np.dtype([(\"r\", np.ubyte, 1),\n"
     ]
    }
   ],
   "source": [
    "hint(23)\n",
    "color = np.dtype([(\"r\", np.ubyte, 1), (\"g\", np.ubyte, 1), (\"b\", np.ubyte, 1), (\"a\", np.ubyte, 1)])"
   ]
  },
  {
   "cell_type": "markdown",
   "id": "654805b1",
   "metadata": {},
   "source": [
    "#### 24. Multiply a 5x3 matrix by a 3x2 matrix (real matrix product) (★☆☆)\n"
   ]
  },
  {
   "cell_type": "code",
   "execution_count": 100,
   "id": "6a42619f",
   "metadata": {},
   "outputs": [
    {
     "name": "stdout",
     "output_type": "stream",
     "text": [
      "hint:\n"
     ]
    },
    {
     "data": {
      "text/plain": [
       "array([[ 10,  13],\n",
       "       [ 28,  40],\n",
       "       [ 46,  67],\n",
       "       [ 64,  94],\n",
       "       [ 82, 121]])"
      ]
     },
     "execution_count": 100,
     "metadata": {},
     "output_type": "execute_result"
    }
   ],
   "source": [
    "hint(24)\n",
    "matrix1 = np.arange(15).reshape((5, 3))\n",
    "matrix2 = np.arange(6).reshape((3, 2))\n",
    "matrix = matrix1 @ matrix2\n",
    "# matrix = np.matmul(matrix1, matrix2)\n",
    "matrix"
   ]
  },
  {
   "cell_type": "markdown",
   "id": "994c25df",
   "metadata": {},
   "source": [
    "#### 25. Given a 1D array, negate all elements which are between 3 and 8, in place. (★☆☆)\n"
   ]
  },
  {
   "cell_type": "code",
   "execution_count": 105,
   "id": "e4b39c03",
   "metadata": {},
   "outputs": [
    {
     "name": "stdout",
     "output_type": "stream",
     "text": [
      "hint: >, <\n"
     ]
    },
    {
     "data": {
      "text/plain": [
       "array([ 0,  1,  2,  3, -4, -5, -6, -7, -8,  9, 10])"
      ]
     },
     "execution_count": 105,
     "metadata": {},
     "output_type": "execute_result"
    }
   ],
   "source": [
    "hint(25)\n",
    "vector = np.arange(11)\n",
    "vector[(vector > 3) & (vector <= 8)] *= -1\n",
    "vector"
   ]
  },
  {
   "cell_type": "markdown",
   "id": "b7d15d1a",
   "metadata": {},
   "source": [
    "#### 26. What is the output of the following script? (★☆☆)\n",
    "\n",
    "```python\n",
    "# Author: Jake VanderPlas\n",
    "\n",
    "print(sum(range(5),-1))\n",
    "from numpy import *\n",
    "print(sum(range(5),-1))\n",
    "```\n"
   ]
  },
  {
   "cell_type": "code",
   "execution_count": 108,
   "id": "4c95bc3f",
   "metadata": {},
   "outputs": [
    {
     "name": "stdout",
     "output_type": "stream",
     "text": [
      "Help on _ArrayFunctionDispatcher in module numpy:\n",
      "\n",
      "sum(a, axis=None, dtype=None, out=None, keepdims=<no value>, initial=<no value>, where=<no value>)\n",
      "    Sum of array elements over a given axis.\n",
      "    \n",
      "    Parameters\n",
      "    ----------\n",
      "    a : array_like\n",
      "        Elements to sum.\n",
      "    axis : None or int or tuple of ints, optional\n",
      "        Axis or axes along which a sum is performed.  The default,\n",
      "        axis=None, will sum all of the elements of the input array.  If\n",
      "        axis is negative it counts from the last to the first axis.\n",
      "    \n",
      "        .. versionadded:: 1.7.0\n",
      "    \n",
      "        If axis is a tuple of ints, a sum is performed on all of the axes\n",
      "        specified in the tuple instead of a single axis or all the axes as\n",
      "        before.\n",
      "    dtype : dtype, optional\n",
      "        The type of the returned array and of the accumulator in which the\n",
      "        elements are summed.  The dtype of `a` is used by default unless `a`\n",
      "        has an integer dtype of less precision than the default platform\n",
      "        integer.  In that case, if `a` is signed then the platform integer\n",
      "        is used while if `a` is unsigned then an unsigned integer of the\n",
      "        same precision as the platform integer is used.\n",
      "    out : ndarray, optional\n",
      "        Alternative output array in which to place the result. It must have\n",
      "        the same shape as the expected output, but the type of the output\n",
      "        values will be cast if necessary.\n",
      "    keepdims : bool, optional\n",
      "        If this is set to True, the axes which are reduced are left\n",
      "        in the result as dimensions with size one. With this option,\n",
      "        the result will broadcast correctly against the input array.\n",
      "    \n",
      "        If the default value is passed, then `keepdims` will not be\n",
      "        passed through to the `sum` method of sub-classes of\n",
      "        `ndarray`, however any non-default value will be.  If the\n",
      "        sub-class' method does not implement `keepdims` any\n",
      "        exceptions will be raised.\n",
      "    initial : scalar, optional\n",
      "        Starting value for the sum. See `~numpy.ufunc.reduce` for details.\n",
      "    \n",
      "        .. versionadded:: 1.15.0\n",
      "    \n",
      "    where : array_like of bool, optional\n",
      "        Elements to include in the sum. See `~numpy.ufunc.reduce` for details.\n",
      "    \n",
      "        .. versionadded:: 1.17.0\n",
      "    \n",
      "    Returns\n",
      "    -------\n",
      "    sum_along_axis : ndarray\n",
      "        An array with the same shape as `a`, with the specified\n",
      "        axis removed.   If `a` is a 0-d array, or if `axis` is None, a scalar\n",
      "        is returned.  If an output array is specified, a reference to\n",
      "        `out` is returned.\n",
      "    \n",
      "    See Also\n",
      "    --------\n",
      "    ndarray.sum : Equivalent method.\n",
      "    \n",
      "    add.reduce : Equivalent functionality of `add`.\n",
      "    \n",
      "    cumsum : Cumulative sum of array elements.\n",
      "    \n",
      "    trapz : Integration of array values using the composite trapezoidal rule.\n",
      "    \n",
      "    mean, average\n",
      "    \n",
      "    Notes\n",
      "    -----\n",
      "    Arithmetic is modular when using integer types, and no error is\n",
      "    raised on overflow.\n",
      "    \n",
      "    The sum of an empty array is the neutral element 0:\n",
      "    \n",
      "    >>> np.sum([])\n",
      "    0.0\n",
      "    \n",
      "    For floating point numbers the numerical precision of sum (and\n",
      "    ``np.add.reduce``) is in general limited by directly adding each number\n",
      "    individually to the result causing rounding errors in every step.\n",
      "    However, often numpy will use a  numerically better approach (partial\n",
      "    pairwise summation) leading to improved precision in many use-cases.\n",
      "    This improved precision is always provided when no ``axis`` is given.\n",
      "    When ``axis`` is given, it will depend on which axis is summed.\n",
      "    Technically, to provide the best speed possible, the improved precision\n",
      "    is only used when the summation is along the fast axis in memory.\n",
      "    Note that the exact precision may vary depending on other parameters.\n",
      "    In contrast to NumPy, Python's ``math.fsum`` function uses a slower but\n",
      "    more precise approach to summation.\n",
      "    Especially when summing a large number of lower precision floating point\n",
      "    numbers, such as ``float32``, numerical errors can become significant.\n",
      "    In such cases it can be advisable to use `dtype=\"float64\"` to use a higher\n",
      "    precision for the output.\n",
      "    \n",
      "    Examples\n",
      "    --------\n",
      "    >>> np.sum([0.5, 1.5])\n",
      "    2.0\n",
      "    >>> np.sum([0.5, 0.7, 0.2, 1.5], dtype=np.int32)\n",
      "    1\n",
      "    >>> np.sum([[0, 1], [0, 5]])\n",
      "    6\n",
      "    >>> np.sum([[0, 1], [0, 5]], axis=0)\n",
      "    array([0, 6])\n",
      "    >>> np.sum([[0, 1], [0, 5]], axis=1)\n",
      "    array([1, 5])\n",
      "    >>> np.sum([[0, 1], [np.nan, 5]], where=[False, True], axis=1)\n",
      "    array([1., 5.])\n",
      "    \n",
      "    If the accumulator is too small, overflow occurs:\n",
      "    \n",
      "    >>> np.ones(128, dtype=np.int8).sum(dtype=np.int8)\n",
      "    -128\n",
      "    \n",
      "    You can also start the sum with a value other than zero:\n",
      "    \n",
      "    >>> np.sum([10], initial=5)\n",
      "    15\n",
      "\n",
      "Help on _ArrayFunctionDispatcher in module numpy:\n",
      "\n",
      "sum(a, axis=None, dtype=None, out=None, keepdims=<no value>, initial=<no value>, where=<no value>)\n",
      "    Sum of array elements over a given axis.\n",
      "    \n",
      "    Parameters\n",
      "    ----------\n",
      "    a : array_like\n",
      "        Elements to sum.\n",
      "    axis : None or int or tuple of ints, optional\n",
      "        Axis or axes along which a sum is performed.  The default,\n",
      "        axis=None, will sum all of the elements of the input array.  If\n",
      "        axis is negative it counts from the last to the first axis.\n",
      "    \n",
      "        .. versionadded:: 1.7.0\n",
      "    \n",
      "        If axis is a tuple of ints, a sum is performed on all of the axes\n",
      "        specified in the tuple instead of a single axis or all the axes as\n",
      "        before.\n",
      "    dtype : dtype, optional\n",
      "        The type of the returned array and of the accumulator in which the\n",
      "        elements are summed.  The dtype of `a` is used by default unless `a`\n",
      "        has an integer dtype of less precision than the default platform\n",
      "        integer.  In that case, if `a` is signed then the platform integer\n",
      "        is used while if `a` is unsigned then an unsigned integer of the\n",
      "        same precision as the platform integer is used.\n",
      "    out : ndarray, optional\n",
      "        Alternative output array in which to place the result. It must have\n",
      "        the same shape as the expected output, but the type of the output\n",
      "        values will be cast if necessary.\n",
      "    keepdims : bool, optional\n",
      "        If this is set to True, the axes which are reduced are left\n",
      "        in the result as dimensions with size one. With this option,\n",
      "        the result will broadcast correctly against the input array.\n",
      "    \n",
      "        If the default value is passed, then `keepdims` will not be\n",
      "        passed through to the `sum` method of sub-classes of\n",
      "        `ndarray`, however any non-default value will be.  If the\n",
      "        sub-class' method does not implement `keepdims` any\n",
      "        exceptions will be raised.\n",
      "    initial : scalar, optional\n",
      "        Starting value for the sum. See `~numpy.ufunc.reduce` for details.\n",
      "    \n",
      "        .. versionadded:: 1.15.0\n",
      "    \n",
      "    where : array_like of bool, optional\n",
      "        Elements to include in the sum. See `~numpy.ufunc.reduce` for details.\n",
      "    \n",
      "        .. versionadded:: 1.17.0\n",
      "    \n",
      "    Returns\n",
      "    -------\n",
      "    sum_along_axis : ndarray\n",
      "        An array with the same shape as `a`, with the specified\n",
      "        axis removed.   If `a` is a 0-d array, or if `axis` is None, a scalar\n",
      "        is returned.  If an output array is specified, a reference to\n",
      "        `out` is returned.\n",
      "    \n",
      "    See Also\n",
      "    --------\n",
      "    ndarray.sum : Equivalent method.\n",
      "    \n",
      "    add.reduce : Equivalent functionality of `add`.\n",
      "    \n",
      "    cumsum : Cumulative sum of array elements.\n",
      "    \n",
      "    trapz : Integration of array values using the composite trapezoidal rule.\n",
      "    \n",
      "    mean, average\n",
      "    \n",
      "    Notes\n",
      "    -----\n",
      "    Arithmetic is modular when using integer types, and no error is\n",
      "    raised on overflow.\n",
      "    \n",
      "    The sum of an empty array is the neutral element 0:\n",
      "    \n",
      "    >>> np.sum([])\n",
      "    0.0\n",
      "    \n",
      "    For floating point numbers the numerical precision of sum (and\n",
      "    ``np.add.reduce``) is in general limited by directly adding each number\n",
      "    individually to the result causing rounding errors in every step.\n",
      "    However, often numpy will use a  numerically better approach (partial\n",
      "    pairwise summation) leading to improved precision in many use-cases.\n",
      "    This improved precision is always provided when no ``axis`` is given.\n",
      "    When ``axis`` is given, it will depend on which axis is summed.\n",
      "    Technically, to provide the best speed possible, the improved precision\n",
      "    is only used when the summation is along the fast axis in memory.\n",
      "    Note that the exact precision may vary depending on other parameters.\n",
      "    In contrast to NumPy, Python's ``math.fsum`` function uses a slower but\n",
      "    more precise approach to summation.\n",
      "    Especially when summing a large number of lower precision floating point\n",
      "    numbers, such as ``float32``, numerical errors can become significant.\n",
      "    In such cases it can be advisable to use `dtype=\"float64\"` to use a higher\n",
      "    precision for the output.\n",
      "    \n",
      "    Examples\n",
      "    --------\n",
      "    >>> np.sum([0.5, 1.5])\n",
      "    2.0\n",
      "    >>> np.sum([0.5, 0.7, 0.2, 1.5], dtype=np.int32)\n",
      "    1\n",
      "    >>> np.sum([[0, 1], [0, 5]])\n",
      "    6\n",
      "    >>> np.sum([[0, 1], [0, 5]], axis=0)\n",
      "    array([0, 6])\n",
      "    >>> np.sum([[0, 1], [0, 5]], axis=1)\n",
      "    array([1, 5])\n",
      "    >>> np.sum([[0, 1], [np.nan, 5]], where=[False, True], axis=1)\n",
      "    array([1., 5.])\n",
      "    \n",
      "    If the accumulator is too small, overflow occurs:\n",
      "    \n",
      "    >>> np.ones(128, dtype=np.int8).sum(dtype=np.int8)\n",
      "    -128\n",
      "    \n",
      "    You can also start the sum with a value other than zero:\n",
      "    \n",
      "    >>> np.sum([10], initial=5)\n",
      "    15\n",
      "\n",
      "10\n",
      "10\n"
     ]
    }
   ],
   "source": [
    "help(sum)\n",
    "help(np.sum)\n",
    "print(sum(range(5), -1))\n",
    "print(np.sum(range(5), -1))"
   ]
  },
  {
   "cell_type": "markdown",
   "id": "a34f0d08",
   "metadata": {},
   "source": [
    "#### 27. Consider an integer vector Z, which of these expressions are legal? (★☆☆)\n",
    "\n",
    "```python\n",
    "Z**Z\n",
    "2 << Z >> 2\n",
    "Z <- Z\n",
    "1j*Z\n",
    "Z/1/1\n",
    "Z<Z>Z\n",
    "```\n"
   ]
  },
  {
   "cell_type": "code",
   "execution_count": 114,
   "id": "564658fc",
   "metadata": {},
   "outputs": [
    {
     "name": "stdout",
     "output_type": "stream",
     "text": [
      "[   1    1    4   27  256 3125]\n",
      "[ 0  1  2  4  8 16]\n",
      "[False False False False False False]\n",
      "[0.+0.j 0.+1.j 0.+2.j 0.+3.j 0.+4.j 0.+5.j]\n",
      "[0. 1. 2. 3. 4. 5.]\n"
     ]
    },
    {
     "ename": "ValueError",
     "evalue": "The truth value of an array with more than one element is ambiguous. Use a.any() or a.all()",
     "output_type": "error",
     "traceback": [
      "\u001b[0;31m---------------------------------------------------------------------------\u001b[0m",
      "\u001b[0;31mValueError\u001b[0m                                Traceback (most recent call last)",
      "\u001b[1;32m/Users/kaito/dev/numpy-100/100_Numpy_exercises.ipynb Cell 58\u001b[0m line \u001b[0;36m7\n\u001b[1;32m      <a href='vscode-notebook-cell:/Users/kaito/dev/numpy-100/100_Numpy_exercises.ipynb#Y111sZmlsZQ%3D%3D?line=4'>5</a>\u001b[0m \u001b[39mprint\u001b[39m(\u001b[39m1\u001b[39mj \u001b[39m*\u001b[39m Z)\n\u001b[1;32m      <a href='vscode-notebook-cell:/Users/kaito/dev/numpy-100/100_Numpy_exercises.ipynb#Y111sZmlsZQ%3D%3D?line=5'>6</a>\u001b[0m \u001b[39mprint\u001b[39m(Z \u001b[39m/\u001b[39m \u001b[39m1\u001b[39m \u001b[39m/\u001b[39m \u001b[39m1\u001b[39m)\n\u001b[0;32m----> <a href='vscode-notebook-cell:/Users/kaito/dev/numpy-100/100_Numpy_exercises.ipynb#Y111sZmlsZQ%3D%3D?line=6'>7</a>\u001b[0m \u001b[39mprint\u001b[39m(Z \u001b[39m<\u001b[39m Z \u001b[39m>\u001b[39m Z)\n",
      "\u001b[0;31mValueError\u001b[0m: The truth value of an array with more than one element is ambiguous. Use a.any() or a.all()"
     ]
    }
   ],
   "source": [
    "Z = np.arange(6)\n",
    "print(Z**Z)\n",
    "print(2 << Z >> 2)\n",
    "print(Z < -Z)\n",
    "print(1j * Z)\n",
    "print(Z / 1 / 1)\n",
    "print(Z < Z > Z)"
   ]
  },
  {
   "cell_type": "markdown",
   "id": "c34e94bf",
   "metadata": {},
   "source": [
    "#### 28. What are the result of the following expressions? (★☆☆)\n",
    "\n",
    "```python\n",
    "np.array(0) / np.array(0)\n",
    "np.array(0) // np.array(0)\n",
    "np.array([np.nan]).astype(int).astype(float)\n",
    "```\n"
   ]
  },
  {
   "cell_type": "code",
   "execution_count": 117,
   "id": "56663562",
   "metadata": {},
   "outputs": [
    {
     "name": "stdout",
     "output_type": "stream",
     "text": [
      "nan\n",
      "0\n",
      "[0.]\n"
     ]
    },
    {
     "name": "stderr",
     "output_type": "stream",
     "text": [
      "/var/folders/7t/dtfknjpn0xv4mm1vpxdr54sm0000gn/T/ipykernel_4878/3912170336.py:1: RuntimeWarning: invalid value encountered in divide\n",
      "  print(np.array(0) / np.array(0))\n",
      "/var/folders/7t/dtfknjpn0xv4mm1vpxdr54sm0000gn/T/ipykernel_4878/3912170336.py:2: RuntimeWarning: divide by zero encountered in floor_divide\n",
      "  print(np.array(0) // np.array(0))\n",
      "/var/folders/7t/dtfknjpn0xv4mm1vpxdr54sm0000gn/T/ipykernel_4878/3912170336.py:3: RuntimeWarning: invalid value encountered in cast\n",
      "  print(np.array([np.nan]).astype(int).astype(float))\n"
     ]
    }
   ],
   "source": [
    "print(np.array(0) / np.array(0))\n",
    "print(np.array(0) // np.array(0))\n",
    "print(np.array([np.nan]).astype(int).astype(float))"
   ]
  },
  {
   "cell_type": "markdown",
   "id": "546f5e7b",
   "metadata": {},
   "source": [
    "#### 29. How to round away from zero a float array ? (★☆☆)\n"
   ]
  },
  {
   "cell_type": "code",
   "execution_count": 121,
   "id": "f725a6d2",
   "metadata": {},
   "outputs": [
    {
     "data": {
      "text/plain": [
       "array([-5.,  8., -5.,  4., -9., -3.,  1., -9., -9., -7.])"
      ]
     },
     "execution_count": 121,
     "metadata": {},
     "output_type": "execute_result"
    }
   ],
   "source": [
    "round_vec = np.random.uniform(-10, 10, 10)\n",
    "round_vec = np.copysign(np.ceil(abs(round_vec)), round_vec)\n",
    "round_vec"
   ]
  },
  {
   "cell_type": "markdown",
   "id": "eadca856",
   "metadata": {},
   "source": [
    "#### 30. How to find common values between two arrays? (★☆☆)\n"
   ]
  },
  {
   "cell_type": "code",
   "execution_count": 124,
   "id": "e0270b5b",
   "metadata": {},
   "outputs": [
    {
     "name": "stdout",
     "output_type": "stream",
     "text": [
      "hint: np.intersect1d\n",
      "Help on _ArrayFunctionDispatcher in module numpy:\n",
      "\n",
      "intersect1d(ar1, ar2, assume_unique=False, return_indices=False)\n",
      "    Find the intersection of two arrays.\n",
      "    \n",
      "    Return the sorted, unique values that are in both of the input arrays.\n",
      "    \n",
      "    Parameters\n",
      "    ----------\n",
      "    ar1, ar2 : array_like\n",
      "        Input arrays. Will be flattened if not already 1D.\n",
      "    assume_unique : bool\n",
      "        If True, the input arrays are both assumed to be unique, which\n",
      "        can speed up the calculation.  If True but ``ar1`` or ``ar2`` are not\n",
      "        unique, incorrect results and out-of-bounds indices could result.\n",
      "        Default is False.\n",
      "    return_indices : bool\n",
      "        If True, the indices which correspond to the intersection of the two\n",
      "        arrays are returned. The first instance of a value is used if there are\n",
      "        multiple. Default is False.\n",
      "    \n",
      "        .. versionadded:: 1.15.0\n",
      "    \n",
      "    Returns\n",
      "    -------\n",
      "    intersect1d : ndarray\n",
      "        Sorted 1D array of common and unique elements.\n",
      "    comm1 : ndarray\n",
      "        The indices of the first occurrences of the common values in `ar1`.\n",
      "        Only provided if `return_indices` is True.\n",
      "    comm2 : ndarray\n",
      "        The indices of the first occurrences of the common values in `ar2`.\n",
      "        Only provided if `return_indices` is True.\n",
      "    \n",
      "    \n",
      "    See Also\n",
      "    --------\n",
      "    numpy.lib.arraysetops : Module with a number of other functions for\n",
      "                            performing set operations on arrays.\n",
      "    \n",
      "    Examples\n",
      "    --------\n",
      "    >>> np.intersect1d([1, 3, 4, 3], [3, 1, 2, 1])\n",
      "    array([1, 3])\n",
      "    \n",
      "    To intersect more than two arrays, use functools.reduce:\n",
      "    \n",
      "    >>> from functools import reduce\n",
      "    >>> reduce(np.intersect1d, ([1, 3, 4, 3], [3, 1, 2, 1], [6, 3, 4, 2]))\n",
      "    array([3])\n",
      "    \n",
      "    To return the indices of the values common to the input arrays\n",
      "    along with the intersected values:\n",
      "    \n",
      "    >>> x = np.array([1, 1, 2, 3, 4])\n",
      "    >>> y = np.array([2, 1, 4, 6])\n",
      "    >>> xy, x_ind, y_ind = np.intersect1d(x, y, return_indices=True)\n",
      "    >>> x_ind, y_ind\n",
      "    (array([0, 2, 4]), array([1, 0, 2]))\n",
      "    >>> xy, x[x_ind], y[y_ind]\n",
      "    (array([1, 2, 4]), array([1, 2, 4]), array([1, 2, 4]))\n",
      "\n"
     ]
    },
    {
     "data": {
      "text/plain": [
       "array([0, 3, 4, 5, 7, 8])"
      ]
     },
     "execution_count": 124,
     "metadata": {},
     "output_type": "execute_result"
    }
   ],
   "source": [
    "hint(30)\n",
    "help(np.intersect1d)\n",
    "vector1 = np.random.randint(0, 10, 10)\n",
    "vector2 = np.random.randint(0, 10, 10)\n",
    "common_vector = np.intersect1d(vector1, vector2)\n",
    "common_vector"
   ]
  },
  {
   "cell_type": "markdown",
   "id": "ca16ca22",
   "metadata": {},
   "source": [
    "#### 31. How to ignore all numpy warnings (not recommended)? (★☆☆)\n"
   ]
  },
  {
   "cell_type": "code",
   "execution_count": 129,
   "id": "7d7208ef",
   "metadata": {},
   "outputs": [],
   "source": [
    "# hint(31)\n",
    "# answer(31)\n",
    "\n",
    "# defaults = np.seterr(all=\"ignore\")\n",
    "# Z = np.ons(1) / 0\n",
    "\n",
    "# _ = np.seterr(**defaults)\n",
    "\n",
    "# with np.errstate(all=\"ignore\"):\n",
    "#     np.arrange(3) / 0Z = np.ons(1) / 0"
   ]
  },
  {
   "cell_type": "markdown",
   "id": "c7871d0d",
   "metadata": {},
   "source": [
    "#### 32. Is the following expressions true? (★☆☆)\n",
    "\n",
    "```python\n",
    "np.sqrt(-1) == np.emath.sqrt(-1)\n",
    "```\n"
   ]
  },
  {
   "cell_type": "code",
   "execution_count": 130,
   "id": "acc3701a",
   "metadata": {},
   "outputs": [
    {
     "name": "stderr",
     "output_type": "stream",
     "text": [
      "/var/folders/7t/dtfknjpn0xv4mm1vpxdr54sm0000gn/T/ipykernel_4878/244602691.py:1: RuntimeWarning: invalid value encountered in sqrt\n",
      "  np.sqrt(-1) == np.emath.sqrt(-1)\n"
     ]
    },
    {
     "data": {
      "text/plain": [
       "False"
      ]
     },
     "execution_count": 130,
     "metadata": {},
     "output_type": "execute_result"
    }
   ],
   "source": [
    "np.sqrt(-1) == np.emath.sqrt(-1)"
   ]
  },
  {
   "cell_type": "markdown",
   "id": "e0433e30",
   "metadata": {},
   "source": [
    "#### 33. How to get the dates of yesterday, today and tomorrow? (★☆☆)\n"
   ]
  },
  {
   "cell_type": "code",
   "execution_count": 5,
   "id": "9c4d2152",
   "metadata": {},
   "outputs": [
    {
     "name": "stdout",
     "output_type": "stream",
     "text": [
      "hint: np.datetime64, np.timedelta64\n",
      "2023-09-17\n",
      "2023-09-16\n",
      "2023-09-18\n"
     ]
    }
   ],
   "source": [
    "hint(33)\n",
    "today = np.datetime64(\"today\")\n",
    "timedelta = np.timedelta64(1, \"D\")\n",
    "print(today)\n",
    "yesterday = today - timedelta\n",
    "print(yesterday)\n",
    "tomorrow = today + timedelta\n",
    "print(tomorrow)"
   ]
  },
  {
   "cell_type": "markdown",
   "id": "9f52a2ef",
   "metadata": {},
   "source": [
    "#### 34. How to get all the dates corresponding to the month of July 2016? (★★☆)\n"
   ]
  },
  {
   "cell_type": "code",
   "execution_count": 16,
   "id": "d6c34dec",
   "metadata": {},
   "outputs": [
    {
     "name": "stdout",
     "output_type": "stream",
     "text": [
      "hint: np.arange(dtype=datetime64['D'])\n"
     ]
    },
    {
     "data": {
      "text/plain": [
       "array(['2016-07-01', '2016-07-02', '2016-07-03', '2016-07-04',\n",
       "       '2016-07-05', '2016-07-06', '2016-07-07', '2016-07-08',\n",
       "       '2016-07-09', '2016-07-10', '2016-07-11', '2016-07-12',\n",
       "       '2016-07-13', '2016-07-14', '2016-07-15', '2016-07-16',\n",
       "       '2016-07-17', '2016-07-18', '2016-07-19', '2016-07-20',\n",
       "       '2016-07-21', '2016-07-22', '2016-07-23', '2016-07-24',\n",
       "       '2016-07-25', '2016-07-26', '2016-07-27', '2016-07-28',\n",
       "       '2016-07-29', '2016-07-30', '2016-07-31'], dtype='datetime64[D]')"
      ]
     },
     "execution_count": 16,
     "metadata": {},
     "output_type": "execute_result"
    }
   ],
   "source": [
    "hint(34)\n",
    "date_vec = np.arange(\"2016-07\", \"2016-08\", dtype=\"datetime64[D]\")\n",
    "date_vec"
   ]
  },
  {
   "cell_type": "markdown",
   "id": "4a64e059",
   "metadata": {},
   "source": [
    "#### 35. How to compute ((A+B)\\*(-A/2)) in place (without copy)? (★★☆)\n"
   ]
  },
  {
   "cell_type": "code",
   "execution_count": 19,
   "id": "49267f60",
   "metadata": {},
   "outputs": [
    {
     "data": {
      "text/plain": [
       "array([-1.5, -1.5, -1.5, -1.5, -1.5])"
      ]
     },
     "execution_count": 19,
     "metadata": {},
     "output_type": "execute_result"
    }
   ],
   "source": [
    "A = np.ones(5)\n",
    "B = np.ones(5) * 2\n",
    "np.add(A, B, out=B)\n",
    "np.negative(A, out=A)\n",
    "np.divide(A, 2, out=A)\n",
    "np.multiply(A, B, out=A)\n",
    "A"
   ]
  },
  {
   "cell_type": "markdown",
   "id": "8a98c2a8",
   "metadata": {},
   "source": [
    "#### 36. Extract the integer part of a random array of positive numbers using 4 different methods (★★☆)\n"
   ]
  },
  {
   "cell_type": "code",
   "execution_count": 22,
   "id": "368130b3",
   "metadata": {},
   "outputs": [
    {
     "name": "stdout",
     "output_type": "stream",
     "text": [
      "hint: %, np.floor, astype, np.trunc\n",
      "[8. 3. 6. 2. 4. 2. 9. 7. 4. 5.]\n",
      "[8. 3. 6. 2. 4. 2. 9. 7. 4. 5.]\n",
      "[8. 3. 6. 2. 4. 2. 9. 7. 4. 5.]\n",
      "[8. 3. 6. 2. 4. 2. 9. 7. 4. 5.]\n",
      "[8. 3. 6. 2. 4. 2. 9. 7. 4. 5.]\n",
      "[8. 3. 6. 2. 4. 2. 9. 7. 4. 5.]\n"
     ]
    }
   ],
   "source": [
    "hint(36)\n",
    "vec = np.random.uniform(0, 10, 10)\n",
    "print(vec // 1)\n",
    "print(vec - vec % 1)\n",
    "print(np.floor(vec))\n",
    "print(np.ceil(vec) - 1)\n",
    "print(vec.astype(int).astype(float))\n",
    "print(np.trunc(vec))"
   ]
  },
  {
   "cell_type": "markdown",
   "id": "5a2e3d85",
   "metadata": {},
   "source": [
    "#### 37. Create a 5x5 matrix with row values ranging from 0 to 4 (★★☆)\n"
   ]
  },
  {
   "cell_type": "code",
   "execution_count": 30,
   "id": "1d974e8f",
   "metadata": {},
   "outputs": [
    {
     "data": {
      "text/plain": [
       "array([[0., 1., 2., 3., 4.],\n",
       "       [0., 1., 2., 3., 4.],\n",
       "       [0., 1., 2., 3., 4.],\n",
       "       [0., 1., 2., 3., 4.],\n",
       "       [0., 1., 2., 3., 4.]])"
      ]
     },
     "execution_count": 30,
     "metadata": {},
     "output_type": "execute_result"
    }
   ],
   "source": [
    "vec = np.zeros((5, 5))\n",
    "vec += np.arange(5)\n",
    "vec"
   ]
  },
  {
   "cell_type": "markdown",
   "id": "9720e2d5",
   "metadata": {},
   "source": [
    "#### 38. Consider a generator function that generates 10 integers and use it to build an array (★☆☆)\n"
   ]
  },
  {
   "cell_type": "code",
   "execution_count": 35,
   "id": "e5dd8fc9",
   "metadata": {},
   "outputs": [
    {
     "name": "stdout",
     "output_type": "stream",
     "text": [
      "hint: np.fromiter\n"
     ]
    },
    {
     "data": {
      "text/plain": [
       "array([0., 1., 2., 3., 4., 5., 6., 7., 8., 9.])"
      ]
     },
     "execution_count": 35,
     "metadata": {},
     "output_type": "execute_result"
    }
   ],
   "source": [
    "hint(38)\n",
    "from typing import Iterator\n",
    "\n",
    "\n",
    "def generate_int() -> Iterator[int]:\n",
    "    for i in range(10):\n",
    "        yield i\n",
    "\n",
    "\n",
    "vec = np.fromiter(generate_int(), dtype=float, count=-1)\n",
    "vec"
   ]
  },
  {
   "cell_type": "markdown",
   "id": "c6f2c912",
   "metadata": {},
   "source": [
    "#### 39. Create a vector of size 10 with values ranging from 0 to 1, both excluded (★★☆)\n"
   ]
  },
  {
   "cell_type": "code",
   "execution_count": 39,
   "id": "6aaa27d3",
   "metadata": {},
   "outputs": [
    {
     "name": "stdout",
     "output_type": "stream",
     "text": [
      "hint: np.linspace\n",
      "Help on _ArrayFunctionDispatcher in module numpy:\n",
      "\n",
      "linspace(start, stop, num=50, endpoint=True, retstep=False, dtype=None, axis=0)\n",
      "    Return evenly spaced numbers over a specified interval.\n",
      "    \n",
      "    Returns `num` evenly spaced samples, calculated over the\n",
      "    interval [`start`, `stop`].\n",
      "    \n",
      "    The endpoint of the interval can optionally be excluded.\n",
      "    \n",
      "    .. versionchanged:: 1.16.0\n",
      "        Non-scalar `start` and `stop` are now supported.\n",
      "    \n",
      "    .. versionchanged:: 1.20.0\n",
      "        Values are rounded towards ``-inf`` instead of ``0`` when an\n",
      "        integer ``dtype`` is specified. The old behavior can\n",
      "        still be obtained with ``np.linspace(start, stop, num).astype(int)``\n",
      "    \n",
      "    Parameters\n",
      "    ----------\n",
      "    start : array_like\n",
      "        The starting value of the sequence.\n",
      "    stop : array_like\n",
      "        The end value of the sequence, unless `endpoint` is set to False.\n",
      "        In that case, the sequence consists of all but the last of ``num + 1``\n",
      "        evenly spaced samples, so that `stop` is excluded.  Note that the step\n",
      "        size changes when `endpoint` is False.\n",
      "    num : int, optional\n",
      "        Number of samples to generate. Default is 50. Must be non-negative.\n",
      "    endpoint : bool, optional\n",
      "        If True, `stop` is the last sample. Otherwise, it is not included.\n",
      "        Default is True.\n",
      "    retstep : bool, optional\n",
      "        If True, return (`samples`, `step`), where `step` is the spacing\n",
      "        between samples.\n",
      "    dtype : dtype, optional\n",
      "        The type of the output array.  If `dtype` is not given, the data type\n",
      "        is inferred from `start` and `stop`. The inferred dtype will never be\n",
      "        an integer; `float` is chosen even if the arguments would produce an\n",
      "        array of integers.\n",
      "    \n",
      "        .. versionadded:: 1.9.0\n",
      "    \n",
      "    axis : int, optional\n",
      "        The axis in the result to store the samples.  Relevant only if start\n",
      "        or stop are array-like.  By default (0), the samples will be along a\n",
      "        new axis inserted at the beginning. Use -1 to get an axis at the end.\n",
      "    \n",
      "        .. versionadded:: 1.16.0\n",
      "    \n",
      "    Returns\n",
      "    -------\n",
      "    samples : ndarray\n",
      "        There are `num` equally spaced samples in the closed interval\n",
      "        ``[start, stop]`` or the half-open interval ``[start, stop)``\n",
      "        (depending on whether `endpoint` is True or False).\n",
      "    step : float, optional\n",
      "        Only returned if `retstep` is True\n",
      "    \n",
      "        Size of spacing between samples.\n",
      "    \n",
      "    \n",
      "    See Also\n",
      "    --------\n",
      "    arange : Similar to `linspace`, but uses a step size (instead of the\n",
      "             number of samples).\n",
      "    geomspace : Similar to `linspace`, but with numbers spaced evenly on a log\n",
      "                scale (a geometric progression).\n",
      "    logspace : Similar to `geomspace`, but with the end points specified as\n",
      "               logarithms.\n",
      "    :ref:`how-to-partition`\n",
      "    \n",
      "    Examples\n",
      "    --------\n",
      "    >>> np.linspace(2.0, 3.0, num=5)\n",
      "    array([2.  , 2.25, 2.5 , 2.75, 3.  ])\n",
      "    >>> np.linspace(2.0, 3.0, num=5, endpoint=False)\n",
      "    array([2. ,  2.2,  2.4,  2.6,  2.8])\n",
      "    >>> np.linspace(2.0, 3.0, num=5, retstep=True)\n",
      "    (array([2.  ,  2.25,  2.5 ,  2.75,  3.  ]), 0.25)\n",
      "    \n",
      "    Graphical illustration:\n",
      "    \n",
      "    >>> import matplotlib.pyplot as plt\n",
      "    >>> N = 8\n",
      "    >>> y = np.zeros(N)\n",
      "    >>> x1 = np.linspace(0, 10, N, endpoint=True)\n",
      "    >>> x2 = np.linspace(0, 10, N, endpoint=False)\n",
      "    >>> plt.plot(x1, y, 'o')\n",
      "    [<matplotlib.lines.Line2D object at 0x...>]\n",
      "    >>> plt.plot(x2, y + 0.5, 'o')\n",
      "    [<matplotlib.lines.Line2D object at 0x...>]\n",
      "    >>> plt.ylim([-0.5, 1])\n",
      "    (-0.5, 1)\n",
      "    >>> plt.show()\n",
      "\n"
     ]
    },
    {
     "data": {
      "text/plain": [
       "array([0.09090909, 0.18181818, 0.27272727, 0.36363636, 0.45454545,\n",
       "       0.54545455, 0.63636364, 0.72727273, 0.81818182, 0.90909091])"
      ]
     },
     "execution_count": 39,
     "metadata": {},
     "output_type": "execute_result"
    }
   ],
   "source": [
    "hint(39)\n",
    "help(np.linspace)\n",
    "vec = np.linspace(0, 1, 11, endpoint=False)[1:]\n",
    "vec"
   ]
  },
  {
   "cell_type": "markdown",
   "id": "a36d6ee4",
   "metadata": {},
   "source": [
    "#### 40. Create a random vector of size 10 and sort it (★★☆)\n"
   ]
  },
  {
   "cell_type": "code",
   "execution_count": 50,
   "id": "e589d216",
   "metadata": {},
   "outputs": [
    {
     "name": "stdout",
     "output_type": "stream",
     "text": [
      "hint: sort\n"
     ]
    },
    {
     "data": {
      "text/plain": [
       "array([0.17919944, 0.29999256, 0.3984429 , 0.49366548, 0.56659652,\n",
       "       0.65087742, 0.74674362, 0.75716412, 0.84223577, 0.91127703])"
      ]
     },
     "execution_count": 50,
     "metadata": {},
     "output_type": "execute_result"
    }
   ],
   "source": [
    "hint(40)\n",
    "vec = np.random.random(10)\n",
    "vec.sort()\n",
    "vec"
   ]
  },
  {
   "cell_type": "markdown",
   "id": "0fb4ad68",
   "metadata": {},
   "source": [
    "#### 41. How to sum a small array faster than np.sum? (★★☆)\n"
   ]
  },
  {
   "cell_type": "code",
   "execution_count": 53,
   "id": "a1ba05a0",
   "metadata": {},
   "outputs": [
    {
     "name": "stdout",
     "output_type": "stream",
     "text": [
      "hint: np.add.reduce\n"
     ]
    },
    {
     "data": {
      "text/plain": [
       "5.846194839686358"
      ]
     },
     "execution_count": 53,
     "metadata": {},
     "output_type": "execute_result"
    }
   ],
   "source": [
    "hint(41)\n",
    "np.add.reduce(vec)"
   ]
  },
  {
   "cell_type": "markdown",
   "id": "024ac365",
   "metadata": {},
   "source": [
    "#### 42. Consider two random array A and B, check if they are equal (★★☆)\n"
   ]
  },
  {
   "cell_type": "code",
   "execution_count": 59,
   "id": "7db3846d",
   "metadata": {},
   "outputs": [
    {
     "name": "stdout",
     "output_type": "stream",
     "text": [
      "hint: np.allclose, np.array_equal\n",
      "Help on _ArrayFunctionDispatcher in module numpy:\n",
      "\n",
      "allclose(a, b, rtol=1e-05, atol=1e-08, equal_nan=False)\n",
      "    Returns True if two arrays are element-wise equal within a tolerance.\n",
      "    \n",
      "    The tolerance values are positive, typically very small numbers.  The\n",
      "    relative difference (`rtol` * abs(`b`)) and the absolute difference\n",
      "    `atol` are added together to compare against the absolute difference\n",
      "    between `a` and `b`.\n",
      "    \n",
      "    NaNs are treated as equal if they are in the same place and if\n",
      "    ``equal_nan=True``.  Infs are treated as equal if they are in the same\n",
      "    place and of the same sign in both arrays.\n",
      "    \n",
      "    Parameters\n",
      "    ----------\n",
      "    a, b : array_like\n",
      "        Input arrays to compare.\n",
      "    rtol : float\n",
      "        The relative tolerance parameter (see Notes).\n",
      "    atol : float\n",
      "        The absolute tolerance parameter (see Notes).\n",
      "    equal_nan : bool\n",
      "        Whether to compare NaN's as equal.  If True, NaN's in `a` will be\n",
      "        considered equal to NaN's in `b` in the output array.\n",
      "    \n",
      "        .. versionadded:: 1.10.0\n",
      "    \n",
      "    Returns\n",
      "    -------\n",
      "    allclose : bool\n",
      "        Returns True if the two arrays are equal within the given\n",
      "        tolerance; False otherwise.\n",
      "    \n",
      "    See Also\n",
      "    --------\n",
      "    isclose, all, any, equal\n",
      "    \n",
      "    Notes\n",
      "    -----\n",
      "    If the following equation is element-wise True, then allclose returns\n",
      "    True.\n",
      "    \n",
      "     absolute(`a` - `b`) <= (`atol` + `rtol` * absolute(`b`))\n",
      "    \n",
      "    The above equation is not symmetric in `a` and `b`, so that\n",
      "    ``allclose(a, b)`` might be different from ``allclose(b, a)`` in\n",
      "    some rare cases.\n",
      "    \n",
      "    The comparison of `a` and `b` uses standard broadcasting, which\n",
      "    means that `a` and `b` need not have the same shape in order for\n",
      "    ``allclose(a, b)`` to evaluate to True.  The same is true for\n",
      "    `equal` but not `array_equal`.\n",
      "    \n",
      "    `allclose` is not defined for non-numeric data types.\n",
      "    `bool` is considered a numeric data-type for this purpose.\n",
      "    \n",
      "    Examples\n",
      "    --------\n",
      "    >>> np.allclose([1e10,1e-7], [1.00001e10,1e-8])\n",
      "    False\n",
      "    >>> np.allclose([1e10,1e-8], [1.00001e10,1e-9])\n",
      "    True\n",
      "    >>> np.allclose([1e10,1e-8], [1.0001e10,1e-9])\n",
      "    False\n",
      "    >>> np.allclose([1.0, np.nan], [1.0, np.nan])\n",
      "    False\n",
      "    >>> np.allclose([1.0, np.nan], [1.0, np.nan], equal_nan=True)\n",
      "    True\n",
      "\n",
      "False\n",
      "False\n"
     ]
    }
   ],
   "source": [
    "hint(42)\n",
    "help(np.allclose)\n",
    "A = np.random.random(5)\n",
    "B = np.random.random(5)\n",
    "print(np.allclose(A, B))\n",
    "print(np.array_equal(A, B))"
   ]
  },
  {
   "cell_type": "markdown",
   "id": "c68d2401",
   "metadata": {},
   "source": [
    "#### 43. Make an array immutable (read-only) (★★☆)\n"
   ]
  },
  {
   "cell_type": "code",
   "execution_count": 61,
   "id": "7828539d",
   "metadata": {},
   "outputs": [
    {
     "name": "stdout",
     "output_type": "stream",
     "text": [
      "hint: flags.writeable\n"
     ]
    }
   ],
   "source": [
    "hint(43)\n",
    "vec.flags.writeable = False"
   ]
  },
  {
   "cell_type": "markdown",
   "id": "55df6280",
   "metadata": {},
   "source": [
    "#### 44. Consider a random 10x2 matrix representing cartesian coordinates, convert them to polar coordinates (★★☆)\n"
   ]
  },
  {
   "cell_type": "code",
   "execution_count": 63,
   "id": "f1c86ea0",
   "metadata": {},
   "outputs": [
    {
     "name": "stdout",
     "output_type": "stream",
     "text": [
      "hint: np.sqrt, np.arctan2\n",
      "(array([0.67244098, 0.90707869, 0.90855496, 0.40817899, 0.72823586,\n",
      "       1.1721593 , 1.19824927, 0.75188688, 0.95653264, 0.64790953]), array([1.41841118, 1.06623814, 0.02746366, 0.39844532, 0.65316461,\n",
      "       0.99845165, 0.93233233, 1.40512108, 0.70834583, 0.71976414]))\n"
     ]
    }
   ],
   "source": [
    "hint(44)\n",
    "matrix = np.random.random((10, 2))\n",
    "x, y = matrix[:, 0], matrix[:, 1]\n",
    "r = np.sqrt(x**2 + y**2)\n",
    "theta = np.arctan2(y, x)\n",
    "print((r, theta))"
   ]
  },
  {
   "cell_type": "markdown",
   "id": "2f60f1ec",
   "metadata": {},
   "source": [
    "#### 45. Create random vector of size 10 and replace the maximum value by 0 (★★☆)\n"
   ]
  },
  {
   "cell_type": "code",
   "execution_count": 68,
   "id": "d9f48f1c",
   "metadata": {},
   "outputs": [
    {
     "name": "stdout",
     "output_type": "stream",
     "text": [
      "hint: argmax\n",
      "Help on _ArrayFunctionDispatcher in module numpy:\n",
      "\n",
      "argmax(a, axis=None, out=None, *, keepdims=<no value>)\n",
      "    Returns the indices of the maximum values along an axis.\n",
      "    \n",
      "    Parameters\n",
      "    ----------\n",
      "    a : array_like\n",
      "        Input array.\n",
      "    axis : int, optional\n",
      "        By default, the index is into the flattened array, otherwise\n",
      "        along the specified axis.\n",
      "    out : array, optional\n",
      "        If provided, the result will be inserted into this array. It should\n",
      "        be of the appropriate shape and dtype.\n",
      "    keepdims : bool, optional\n",
      "        If this is set to True, the axes which are reduced are left\n",
      "        in the result as dimensions with size one. With this option,\n",
      "        the result will broadcast correctly against the array.\n",
      "    \n",
      "        .. versionadded:: 1.22.0\n",
      "    \n",
      "    Returns\n",
      "    -------\n",
      "    index_array : ndarray of ints\n",
      "        Array of indices into the array. It has the same shape as `a.shape`\n",
      "        with the dimension along `axis` removed. If `keepdims` is set to True,\n",
      "        then the size of `axis` will be 1 with the resulting array having same\n",
      "        shape as `a.shape`.\n",
      "    \n",
      "    See Also\n",
      "    --------\n",
      "    ndarray.argmax, argmin\n",
      "    amax : The maximum value along a given axis.\n",
      "    unravel_index : Convert a flat index into an index tuple.\n",
      "    take_along_axis : Apply ``np.expand_dims(index_array, axis)``\n",
      "                      from argmax to an array as if by calling max.\n",
      "    \n",
      "    Notes\n",
      "    -----\n",
      "    In case of multiple occurrences of the maximum values, the indices\n",
      "    corresponding to the first occurrence are returned.\n",
      "    \n",
      "    Examples\n",
      "    --------\n",
      "    >>> a = np.arange(6).reshape(2,3) + 10\n",
      "    >>> a\n",
      "    array([[10, 11, 12],\n",
      "           [13, 14, 15]])\n",
      "    >>> np.argmax(a)\n",
      "    5\n",
      "    >>> np.argmax(a, axis=0)\n",
      "    array([1, 1, 1])\n",
      "    >>> np.argmax(a, axis=1)\n",
      "    array([2, 2])\n",
      "    \n",
      "    Indexes of the maximal elements of a N-dimensional array:\n",
      "    \n",
      "    >>> ind = np.unravel_index(np.argmax(a, axis=None), a.shape)\n",
      "    >>> ind\n",
      "    (1, 2)\n",
      "    >>> a[ind]\n",
      "    15\n",
      "    \n",
      "    >>> b = np.arange(6)\n",
      "    >>> b[1] = 5\n",
      "    >>> b\n",
      "    array([0, 5, 2, 3, 4, 5])\n",
      "    >>> np.argmax(b)  # Only the first occurrence is returned.\n",
      "    1\n",
      "    \n",
      "    >>> x = np.array([[4,2,3], [1,0,3]])\n",
      "    >>> index_array = np.argmax(x, axis=-1)\n",
      "    >>> # Same as np.amax(x, axis=-1, keepdims=True)\n",
      "    >>> np.take_along_axis(x, np.expand_dims(index_array, axis=-1), axis=-1)\n",
      "    array([[4],\n",
      "           [3]])\n",
      "    >>> # Same as np.amax(x, axis=-1)\n",
      "    >>> np.take_along_axis(x, np.expand_dims(index_array, axis=-1), axis=-1).squeeze(axis=-1)\n",
      "    array([4, 3])\n",
      "    \n",
      "    Setting `keepdims` to `True`,\n",
      "    \n",
      "    >>> x = np.arange(24).reshape((2, 3, 4))\n",
      "    >>> res = np.argmax(x, axis=1, keepdims=True)\n",
      "    >>> res.shape\n",
      "    (2, 1, 4)\n",
      "\n"
     ]
    },
    {
     "data": {
      "text/plain": [
       "array([0.34864955, 0.27474856, 0.34851557, 0.30024147, 0.26122133,\n",
       "       0.19871367, 0.02192384, 0.        , 0.29898179, 0.36414788])"
      ]
     },
     "execution_count": 68,
     "metadata": {},
     "output_type": "execute_result"
    }
   ],
   "source": [
    "hint(45)\n",
    "help(np.argmax)\n",
    "vec = np.random.random(10)\n",
    "# vec[vec == vec.max()] = 0\n",
    "vec[vec.argmax()] = 0\n",
    "vec"
   ]
  },
  {
   "cell_type": "markdown",
   "id": "084e8ad4",
   "metadata": {},
   "source": [
    "#### 46. Create a structured array with `x` and `y` coordinates covering the [0,1]x[0,1] area (★★☆)\n"
   ]
  },
  {
   "cell_type": "code",
   "execution_count": 70,
   "id": "58b47c13",
   "metadata": {},
   "outputs": [
    {
     "name": "stdout",
     "output_type": "stream",
     "text": [
      "hint: np.meshgrid\n"
     ]
    },
    {
     "data": {
      "text/plain": [
       "array([[(0.  , 0.  ), (0.25, 0.  ), (0.5 , 0.  ), (0.75, 0.  ),\n",
       "        (1.  , 0.  )],\n",
       "       [(0.  , 0.25), (0.25, 0.25), (0.5 , 0.25), (0.75, 0.25),\n",
       "        (1.  , 0.25)],\n",
       "       [(0.  , 0.5 ), (0.25, 0.5 ), (0.5 , 0.5 ), (0.75, 0.5 ),\n",
       "        (1.  , 0.5 )],\n",
       "       [(0.  , 0.75), (0.25, 0.75), (0.5 , 0.75), (0.75, 0.75),\n",
       "        (1.  , 0.75)],\n",
       "       [(0.  , 1.  ), (0.25, 1.  ), (0.5 , 1.  ), (0.75, 1.  ),\n",
       "        (1.  , 1.  )]], dtype=[('x', '<f8'), ('y', '<f8')])"
      ]
     },
     "execution_count": 70,
     "metadata": {},
     "output_type": "execute_result"
    }
   ],
   "source": [
    "hint(46)\n",
    "point = np.zeros((5, 5), [(\"x\", float), (\"y\", float)])\n",
    "point[\"x\"], point[\"y\"] = np.meshgrid(np.linspace(0, 1, 5), np.linspace(0, 1, 5))\n",
    "point"
   ]
  },
  {
   "cell_type": "markdown",
   "id": "d7b9bc42",
   "metadata": {},
   "source": [
    "#### 47. Given two arrays, X and Y, construct the Cauchy matrix C (Cij =1/(xi - yj)) (★★☆)\n"
   ]
  },
  {
   "cell_type": "code",
   "execution_count": 72,
   "id": "a24824fb",
   "metadata": {},
   "outputs": [
    {
     "name": "stdout",
     "output_type": "stream",
     "text": [
      "hint: np.subtract.outer\n"
     ]
    },
    {
     "name": "stderr",
     "output_type": "stream",
     "text": [
      "/var/folders/7t/dtfknjpn0xv4mm1vpxdr54sm0000gn/T/ipykernel_996/2756566339.py:4: RuntimeWarning: divide by zero encountered in divide\n",
      "  C = 1 / np.subtract.outer(X, Y)\n"
     ]
    },
    {
     "data": {
      "text/plain": [
       "array([[        inf, -1.        , -0.5       , -0.33333333, -0.25      ],\n",
       "       [ 1.        ,         inf, -1.        , -0.5       , -0.33333333],\n",
       "       [ 0.5       ,  1.        ,         inf, -1.        , -0.5       ],\n",
       "       [ 0.33333333,  0.5       ,  1.        ,         inf, -1.        ],\n",
       "       [ 0.25      ,  0.33333333,  0.5       ,  1.        ,         inf]])"
      ]
     },
     "execution_count": 72,
     "metadata": {},
     "output_type": "execute_result"
    }
   ],
   "source": [
    "hint(47)\n",
    "X = np.arange(1, 6)\n",
    "Y = np.arange(1, 6)\n",
    "C = 1 / np.subtract.outer(X, Y)\n",
    "C"
   ]
  },
  {
   "cell_type": "markdown",
   "id": "65ebc11b",
   "metadata": {},
   "source": [
    "#### 48. Print the minimum and maximum representable value for each numpy scalar type (★★☆)\n"
   ]
  },
  {
   "cell_type": "code",
   "execution_count": 75,
   "id": "e45d38fb",
   "metadata": {},
   "outputs": [
    {
     "name": "stdout",
     "output_type": "stream",
     "text": [
      "hint: np.iinfo, np.finfo, eps\n",
      "-128\n",
      "127\n",
      "-2147483648\n",
      "2147483647\n",
      "-9223372036854775808\n",
      "9223372036854775807\n",
      "-3.4028235e+38\n",
      "3.4028235e+38\n",
      "1.1920929e-07\n",
      "-1.7976931348623157e+308\n",
      "1.7976931348623157e+308\n",
      "2.220446049250313e-16\n"
     ]
    }
   ],
   "source": [
    "hint(48)\n",
    "for dtype in (np.int8, np.int32, np.int64):\n",
    "    print(np.iinfo(dtype).min)\n",
    "    print(np.iinfo(dtype).max)\n",
    "\n",
    "for dtype in (np.float32, np.float64):\n",
    "    print(np.finfo(dtype).min)\n",
    "    print(np.finfo(dtype).max)\n",
    "    print(np.finfo(dtype).eps)"
   ]
  },
  {
   "cell_type": "markdown",
   "id": "9b317a98",
   "metadata": {},
   "source": [
    "#### 49. How to print all the values of an array? (★★☆)\n"
   ]
  },
  {
   "cell_type": "code",
   "execution_count": 78,
   "id": "309cdeb9",
   "metadata": {},
   "outputs": [
    {
     "name": "stdout",
     "output_type": "stream",
     "text": [
      "hint: np.set_printoptions\n"
     ]
    },
    {
     "data": {
      "text/plain": [
       "array([[0., 0., 0., 0., 0., 0., 0., 0., 0., 0., 0., 0., 0., 0., 0., 0.,\n",
       "        0., 0., 0., 0., 0., 0., 0., 0., 0., 0., 0., 0., 0., 0., 0., 0.,\n",
       "        0., 0., 0., 0., 0., 0., 0., 0.],\n",
       "       [0., 0., 0., 0., 0., 0., 0., 0., 0., 0., 0., 0., 0., 0., 0., 0.,\n",
       "        0., 0., 0., 0., 0., 0., 0., 0., 0., 0., 0., 0., 0., 0., 0., 0.,\n",
       "        0., 0., 0., 0., 0., 0., 0., 0.],\n",
       "       [0., 0., 0., 0., 0., 0., 0., 0., 0., 0., 0., 0., 0., 0., 0., 0.,\n",
       "        0., 0., 0., 0., 0., 0., 0., 0., 0., 0., 0., 0., 0., 0., 0., 0.,\n",
       "        0., 0., 0., 0., 0., 0., 0., 0.],\n",
       "       [0., 0., 0., 0., 0., 0., 0., 0., 0., 0., 0., 0., 0., 0., 0., 0.,\n",
       "        0., 0., 0., 0., 0., 0., 0., 0., 0., 0., 0., 0., 0., 0., 0., 0.,\n",
       "        0., 0., 0., 0., 0., 0., 0., 0.],\n",
       "       [0., 0., 0., 0., 0., 0., 0., 0., 0., 0., 0., 0., 0., 0., 0., 0.,\n",
       "        0., 0., 0., 0., 0., 0., 0., 0., 0., 0., 0., 0., 0., 0., 0., 0.,\n",
       "        0., 0., 0., 0., 0., 0., 0., 0.],\n",
       "       [0., 0., 0., 0., 0., 0., 0., 0., 0., 0., 0., 0., 0., 0., 0., 0.,\n",
       "        0., 0., 0., 0., 0., 0., 0., 0., 0., 0., 0., 0., 0., 0., 0., 0.,\n",
       "        0., 0., 0., 0., 0., 0., 0., 0.],\n",
       "       [0., 0., 0., 0., 0., 0., 0., 0., 0., 0., 0., 0., 0., 0., 0., 0.,\n",
       "        0., 0., 0., 0., 0., 0., 0., 0., 0., 0., 0., 0., 0., 0., 0., 0.,\n",
       "        0., 0., 0., 0., 0., 0., 0., 0.],\n",
       "       [0., 0., 0., 0., 0., 0., 0., 0., 0., 0., 0., 0., 0., 0., 0., 0.,\n",
       "        0., 0., 0., 0., 0., 0., 0., 0., 0., 0., 0., 0., 0., 0., 0., 0.,\n",
       "        0., 0., 0., 0., 0., 0., 0., 0.],\n",
       "       [0., 0., 0., 0., 0., 0., 0., 0., 0., 0., 0., 0., 0., 0., 0., 0.,\n",
       "        0., 0., 0., 0., 0., 0., 0., 0., 0., 0., 0., 0., 0., 0., 0., 0.,\n",
       "        0., 0., 0., 0., 0., 0., 0., 0.],\n",
       "       [0., 0., 0., 0., 0., 0., 0., 0., 0., 0., 0., 0., 0., 0., 0., 0.,\n",
       "        0., 0., 0., 0., 0., 0., 0., 0., 0., 0., 0., 0., 0., 0., 0., 0.,\n",
       "        0., 0., 0., 0., 0., 0., 0., 0.],\n",
       "       [0., 0., 0., 0., 0., 0., 0., 0., 0., 0., 0., 0., 0., 0., 0., 0.,\n",
       "        0., 0., 0., 0., 0., 0., 0., 0., 0., 0., 0., 0., 0., 0., 0., 0.,\n",
       "        0., 0., 0., 0., 0., 0., 0., 0.],\n",
       "       [0., 0., 0., 0., 0., 0., 0., 0., 0., 0., 0., 0., 0., 0., 0., 0.,\n",
       "        0., 0., 0., 0., 0., 0., 0., 0., 0., 0., 0., 0., 0., 0., 0., 0.,\n",
       "        0., 0., 0., 0., 0., 0., 0., 0.],\n",
       "       [0., 0., 0., 0., 0., 0., 0., 0., 0., 0., 0., 0., 0., 0., 0., 0.,\n",
       "        0., 0., 0., 0., 0., 0., 0., 0., 0., 0., 0., 0., 0., 0., 0., 0.,\n",
       "        0., 0., 0., 0., 0., 0., 0., 0.],\n",
       "       [0., 0., 0., 0., 0., 0., 0., 0., 0., 0., 0., 0., 0., 0., 0., 0.,\n",
       "        0., 0., 0., 0., 0., 0., 0., 0., 0., 0., 0., 0., 0., 0., 0., 0.,\n",
       "        0., 0., 0., 0., 0., 0., 0., 0.],\n",
       "       [0., 0., 0., 0., 0., 0., 0., 0., 0., 0., 0., 0., 0., 0., 0., 0.,\n",
       "        0., 0., 0., 0., 0., 0., 0., 0., 0., 0., 0., 0., 0., 0., 0., 0.,\n",
       "        0., 0., 0., 0., 0., 0., 0., 0.],\n",
       "       [0., 0., 0., 0., 0., 0., 0., 0., 0., 0., 0., 0., 0., 0., 0., 0.,\n",
       "        0., 0., 0., 0., 0., 0., 0., 0., 0., 0., 0., 0., 0., 0., 0., 0.,\n",
       "        0., 0., 0., 0., 0., 0., 0., 0.],\n",
       "       [0., 0., 0., 0., 0., 0., 0., 0., 0., 0., 0., 0., 0., 0., 0., 0.,\n",
       "        0., 0., 0., 0., 0., 0., 0., 0., 0., 0., 0., 0., 0., 0., 0., 0.,\n",
       "        0., 0., 0., 0., 0., 0., 0., 0.],\n",
       "       [0., 0., 0., 0., 0., 0., 0., 0., 0., 0., 0., 0., 0., 0., 0., 0.,\n",
       "        0., 0., 0., 0., 0., 0., 0., 0., 0., 0., 0., 0., 0., 0., 0., 0.,\n",
       "        0., 0., 0., 0., 0., 0., 0., 0.],\n",
       "       [0., 0., 0., 0., 0., 0., 0., 0., 0., 0., 0., 0., 0., 0., 0., 0.,\n",
       "        0., 0., 0., 0., 0., 0., 0., 0., 0., 0., 0., 0., 0., 0., 0., 0.,\n",
       "        0., 0., 0., 0., 0., 0., 0., 0.],\n",
       "       [0., 0., 0., 0., 0., 0., 0., 0., 0., 0., 0., 0., 0., 0., 0., 0.,\n",
       "        0., 0., 0., 0., 0., 0., 0., 0., 0., 0., 0., 0., 0., 0., 0., 0.,\n",
       "        0., 0., 0., 0., 0., 0., 0., 0.],\n",
       "       [0., 0., 0., 0., 0., 0., 0., 0., 0., 0., 0., 0., 0., 0., 0., 0.,\n",
       "        0., 0., 0., 0., 0., 0., 0., 0., 0., 0., 0., 0., 0., 0., 0., 0.,\n",
       "        0., 0., 0., 0., 0., 0., 0., 0.],\n",
       "       [0., 0., 0., 0., 0., 0., 0., 0., 0., 0., 0., 0., 0., 0., 0., 0.,\n",
       "        0., 0., 0., 0., 0., 0., 0., 0., 0., 0., 0., 0., 0., 0., 0., 0.,\n",
       "        0., 0., 0., 0., 0., 0., 0., 0.],\n",
       "       [0., 0., 0., 0., 0., 0., 0., 0., 0., 0., 0., 0., 0., 0., 0., 0.,\n",
       "        0., 0., 0., 0., 0., 0., 0., 0., 0., 0., 0., 0., 0., 0., 0., 0.,\n",
       "        0., 0., 0., 0., 0., 0., 0., 0.],\n",
       "       [0., 0., 0., 0., 0., 0., 0., 0., 0., 0., 0., 0., 0., 0., 0., 0.,\n",
       "        0., 0., 0., 0., 0., 0., 0., 0., 0., 0., 0., 0., 0., 0., 0., 0.,\n",
       "        0., 0., 0., 0., 0., 0., 0., 0.],\n",
       "       [0., 0., 0., 0., 0., 0., 0., 0., 0., 0., 0., 0., 0., 0., 0., 0.,\n",
       "        0., 0., 0., 0., 0., 0., 0., 0., 0., 0., 0., 0., 0., 0., 0., 0.,\n",
       "        0., 0., 0., 0., 0., 0., 0., 0.],\n",
       "       [0., 0., 0., 0., 0., 0., 0., 0., 0., 0., 0., 0., 0., 0., 0., 0.,\n",
       "        0., 0., 0., 0., 0., 0., 0., 0., 0., 0., 0., 0., 0., 0., 0., 0.,\n",
       "        0., 0., 0., 0., 0., 0., 0., 0.],\n",
       "       [0., 0., 0., 0., 0., 0., 0., 0., 0., 0., 0., 0., 0., 0., 0., 0.,\n",
       "        0., 0., 0., 0., 0., 0., 0., 0., 0., 0., 0., 0., 0., 0., 0., 0.,\n",
       "        0., 0., 0., 0., 0., 0., 0., 0.],\n",
       "       [0., 0., 0., 0., 0., 0., 0., 0., 0., 0., 0., 0., 0., 0., 0., 0.,\n",
       "        0., 0., 0., 0., 0., 0., 0., 0., 0., 0., 0., 0., 0., 0., 0., 0.,\n",
       "        0., 0., 0., 0., 0., 0., 0., 0.],\n",
       "       [0., 0., 0., 0., 0., 0., 0., 0., 0., 0., 0., 0., 0., 0., 0., 0.,\n",
       "        0., 0., 0., 0., 0., 0., 0., 0., 0., 0., 0., 0., 0., 0., 0., 0.,\n",
       "        0., 0., 0., 0., 0., 0., 0., 0.],\n",
       "       [0., 0., 0., 0., 0., 0., 0., 0., 0., 0., 0., 0., 0., 0., 0., 0.,\n",
       "        0., 0., 0., 0., 0., 0., 0., 0., 0., 0., 0., 0., 0., 0., 0., 0.,\n",
       "        0., 0., 0., 0., 0., 0., 0., 0.],\n",
       "       [0., 0., 0., 0., 0., 0., 0., 0., 0., 0., 0., 0., 0., 0., 0., 0.,\n",
       "        0., 0., 0., 0., 0., 0., 0., 0., 0., 0., 0., 0., 0., 0., 0., 0.,\n",
       "        0., 0., 0., 0., 0., 0., 0., 0.],\n",
       "       [0., 0., 0., 0., 0., 0., 0., 0., 0., 0., 0., 0., 0., 0., 0., 0.,\n",
       "        0., 0., 0., 0., 0., 0., 0., 0., 0., 0., 0., 0., 0., 0., 0., 0.,\n",
       "        0., 0., 0., 0., 0., 0., 0., 0.],\n",
       "       [0., 0., 0., 0., 0., 0., 0., 0., 0., 0., 0., 0., 0., 0., 0., 0.,\n",
       "        0., 0., 0., 0., 0., 0., 0., 0., 0., 0., 0., 0., 0., 0., 0., 0.,\n",
       "        0., 0., 0., 0., 0., 0., 0., 0.],\n",
       "       [0., 0., 0., 0., 0., 0., 0., 0., 0., 0., 0., 0., 0., 0., 0., 0.,\n",
       "        0., 0., 0., 0., 0., 0., 0., 0., 0., 0., 0., 0., 0., 0., 0., 0.,\n",
       "        0., 0., 0., 0., 0., 0., 0., 0.],\n",
       "       [0., 0., 0., 0., 0., 0., 0., 0., 0., 0., 0., 0., 0., 0., 0., 0.,\n",
       "        0., 0., 0., 0., 0., 0., 0., 0., 0., 0., 0., 0., 0., 0., 0., 0.,\n",
       "        0., 0., 0., 0., 0., 0., 0., 0.],\n",
       "       [0., 0., 0., 0., 0., 0., 0., 0., 0., 0., 0., 0., 0., 0., 0., 0.,\n",
       "        0., 0., 0., 0., 0., 0., 0., 0., 0., 0., 0., 0., 0., 0., 0., 0.,\n",
       "        0., 0., 0., 0., 0., 0., 0., 0.],\n",
       "       [0., 0., 0., 0., 0., 0., 0., 0., 0., 0., 0., 0., 0., 0., 0., 0.,\n",
       "        0., 0., 0., 0., 0., 0., 0., 0., 0., 0., 0., 0., 0., 0., 0., 0.,\n",
       "        0., 0., 0., 0., 0., 0., 0., 0.],\n",
       "       [0., 0., 0., 0., 0., 0., 0., 0., 0., 0., 0., 0., 0., 0., 0., 0.,\n",
       "        0., 0., 0., 0., 0., 0., 0., 0., 0., 0., 0., 0., 0., 0., 0., 0.,\n",
       "        0., 0., 0., 0., 0., 0., 0., 0.],\n",
       "       [0., 0., 0., 0., 0., 0., 0., 0., 0., 0., 0., 0., 0., 0., 0., 0.,\n",
       "        0., 0., 0., 0., 0., 0., 0., 0., 0., 0., 0., 0., 0., 0., 0., 0.,\n",
       "        0., 0., 0., 0., 0., 0., 0., 0.],\n",
       "       [0., 0., 0., 0., 0., 0., 0., 0., 0., 0., 0., 0., 0., 0., 0., 0.,\n",
       "        0., 0., 0., 0., 0., 0., 0., 0., 0., 0., 0., 0., 0., 0., 0., 0.,\n",
       "        0., 0., 0., 0., 0., 0., 0., 0.]])"
      ]
     },
     "execution_count": 78,
     "metadata": {},
     "output_type": "execute_result"
    }
   ],
   "source": [
    "hint(49)\n",
    "np.set_printoptions(threshold=float(\"inf\"))\n",
    "vec = np.zeros((40, 40))\n",
    "vec"
   ]
  },
  {
   "cell_type": "markdown",
   "id": "b580f9d0",
   "metadata": {},
   "source": [
    "#### 50. How to find the closest value (to a given scalar) in a vector? (★★☆)\n"
   ]
  },
  {
   "cell_type": "code",
   "execution_count": 81,
   "id": "ebfb6714",
   "metadata": {},
   "outputs": [
    {
     "name": "stdout",
     "output_type": "stream",
     "text": [
      "hint: argmin\n",
      "0.5304500675430257\n"
     ]
    }
   ],
   "source": [
    "hint(50)\n",
    "found_scalar = 0.5\n",
    "vec = np.random.random(10)\n",
    "print(vec[np.abs(vec - found_scalar).argmin()])"
   ]
  },
  {
   "cell_type": "markdown",
   "id": "602e6252",
   "metadata": {},
   "source": [
    "#### 51. Create a structured array representing a position (x,y) and a color (r,g,b) (★★☆)\n"
   ]
  },
  {
   "cell_type": "code",
   "execution_count": 87,
   "id": "cf002b3a",
   "metadata": {},
   "outputs": [
    {
     "name": "stdout",
     "output_type": "stream",
     "text": [
      "hint: dtype\n"
     ]
    },
    {
     "data": {
      "text/plain": [
       "array([(0., 0.), (0., 0.), (0., 0.), (0., 0.), (0., 0.), (0., 0.),\n",
       "       (0., 0.), (0., 0.), (0., 0.), (0., 0.)],\n",
       "      dtype=[('x', '<f8'), ('y', '<f8')])"
      ]
     },
     "execution_count": 87,
     "metadata": {},
     "output_type": "execute_result"
    }
   ],
   "source": [
    "hint(51)\n",
    "position_with_color = np.zeros(\n",
    "    10, [(\"position\", [(\"x\", float), (\"y\", float)]), (\"color\", [(\"r\", float), (\"g\", float), (\"b\", float)])]\n",
    ")\n",
    "position_with_color[\"position\"]"
   ]
  },
  {
   "cell_type": "markdown",
   "id": "78bcd92f",
   "metadata": {},
   "source": [
    "#### 52. Consider a random vector with shape (100,2) representing coordinates, find point by point distances (★★☆)\n"
   ]
  },
  {
   "cell_type": "code",
   "execution_count": 90,
   "id": "fea7f9a6",
   "metadata": {},
   "outputs": [
    {
     "name": "stdout",
     "output_type": "stream",
     "text": [
      "hint: np.atleast_2d, T, np.sqrt\n",
      "Z = np.random.random((10,2))\n",
      "X,Y = np.atleast_2d(Z[:,0], Z[:,1])\n",
      "D = np.sqrt( (X-X.T)**2 + (Y-Y.T)**2)\n",
      "print(D)\n",
      "\n",
      "# Much faster with scipy\n",
      "import scipy\n",
      "# Thanks Gavin Heverly-Coulson (#issue 1)\n",
      "import scipy.spatial\n",
      "\n",
      "Z = np.random.random((10,2))\n",
      "D = scipy.spatial.distance.cdist(Z,Z)\n",
      "print(D)\n"
     ]
    },
    {
     "data": {
      "text/plain": [
       "array([[0.        , 0.71755373, 0.19677849, 0.6634308 , 0.43813633,\n",
       "        0.35705625, 0.50350971, 0.30084685, 0.78063855, 0.73875025,\n",
       "        0.41881925, 0.92208025, 0.83719598, 0.80541277, 0.6137136 ,\n",
       "        0.78005388, 0.64846416, 0.26956831, 1.0365365 , 0.7378955 ,\n",
       "        0.52695252, 0.98585528, 0.14778526, 0.81585359, 0.73533216,\n",
       "        0.07759152, 0.19459036, 0.47588851, 0.95120245, 0.15180199,\n",
       "        0.37105873, 0.55242123, 0.8754356 , 0.71786108, 0.25226483,\n",
       "        0.7178398 , 0.86655455, 0.60064807, 0.67219926, 0.76702207,\n",
       "        0.80186918, 0.74197144, 0.43753603, 0.60986356, 1.06842422,\n",
       "        0.37635891, 0.40694525, 0.75510361, 0.47333481, 0.62228304,\n",
       "        0.73588779, 0.33758793, 0.2860658 , 0.37337298, 0.49531907,\n",
       "        0.05919148, 0.63759531, 0.43134688, 0.10670686, 0.44935091,\n",
       "        1.09197525, 1.11181585, 0.7804401 , 0.72572488, 0.75459568,\n",
       "        0.83720553, 0.2254688 , 0.1078252 , 0.82383641, 0.37875018,\n",
       "        0.64201643, 0.47033016, 0.72226105, 0.71872414, 0.41376891,\n",
       "        0.84850503, 0.95841855, 0.66811067, 0.10696873, 0.60839901,\n",
       "        0.5506243 , 0.0107707 , 0.71884043, 0.20833233, 1.03833982,\n",
       "        0.47126359, 0.53871682, 0.41821012, 0.67797496, 0.24197021,\n",
       "        0.80256406, 0.32224863, 0.81185907, 0.27985035, 0.16540863,\n",
       "        0.59061845, 0.25602941, 0.5878202 , 0.58551687, 0.88232069],\n",
       "       [0.71755373, 0.        , 0.90700595, 1.05471237, 0.70238237,\n",
       "        0.48632968, 0.53685071, 0.45219324, 0.65535729, 0.48019647,\n",
       "        0.96823778, 0.89978378, 0.66634749, 0.13600668, 0.9496547 ,\n",
       "        0.88990165, 0.73600039, 0.44855665, 0.79195621, 0.65973229,\n",
       "        0.58486827, 0.67839247, 0.58358519, 0.82115628, 0.39383213,\n",
       "        0.71690961, 0.54897763, 0.72342688, 0.66552725, 0.57452017,\n",
       "        0.35867548, 0.81775414, 1.26879883, 0.36949359, 0.47852667,\n",
       "        0.94652351, 0.9105749 , 0.50389782, 0.66434122, 0.21660445,\n",
       "        0.61934366, 0.14317873, 0.75416792, 0.58100728, 0.76668972,\n",
       "        0.88044531, 0.94013151, 1.11563252, 0.38853228, 0.12514798,\n",
       "        0.78809547, 0.81008621, 0.54498122, 0.34538187, 0.22398922,\n",
       "        0.77018519, 0.4239853 , 0.87168452, 0.63128749, 0.78500928,\n",
       "        0.89826621, 0.82523701, 0.88252612, 1.03980966, 0.85603277,\n",
       "        0.41787323, 0.52000162, 0.61175122, 0.3898228 , 0.9245731 ,\n",
       "        0.87961709, 0.80022569, 0.01438365, 0.03870078, 0.32186017,\n",
       "        0.96183849, 0.67080417, 0.30856067, 0.62809446, 1.06429172,\n",
       "        0.47977563, 0.71486922, 0.54486109, 0.51018313, 0.8145164 ,\n",
       "        0.54863013, 0.23557709, 0.9647193 , 0.33323272, 0.6340714 ,\n",
       "        0.79644949, 0.40014826, 1.20428065, 0.70163727, 0.58217118,\n",
       "        0.4334273 , 0.4676232 , 0.7805109 , 0.87079185, 0.69951359],\n",
       "       [0.19677849, 0.90700595, 0.        , 0.59959913, 0.48703581,\n",
       "        0.49617994, 0.61051583, 0.49732056, 0.86973704, 0.86394675,\n",
       "        0.32234727, 0.96646071, 0.92981574, 0.98664845, 0.58250198,\n",
       "        0.80295241, 0.70131843, 0.46259084, 1.12694107, 0.82159495,\n",
       "        0.61927852, 1.09441991, 0.34428359, 0.86524698, 0.87685827,\n",
       "        0.23625064, 0.36349971, 0.51791648, 1.05795556, 0.34857961,\n",
       "        0.55259356, 0.56445075, 0.78628646, 0.86304866, 0.43108012,\n",
       "        0.70993979, 0.89818069, 0.71569123, 0.74863175, 0.93660507,\n",
       "        0.9017232 , 0.91933853, 0.46374925, 0.70526436, 1.16955346,\n",
       "        0.32476582, 0.32494434, 0.69132126, 0.62294004, 0.81644773,\n",
       "        0.7834798 , 0.32440401, 0.41891862, 0.56163356, 0.68728591,\n",
       "        0.13902662, 0.77096168, 0.39757151, 0.27649687, 0.46244021,\n",
       "        1.16599582, 1.20657626, 0.80574246, 0.68435763, 0.78399753,\n",
       "        0.98067578, 0.42158414, 0.29637567, 0.971077  , 0.29768525,\n",
       "        0.64443108, 0.47883937, 0.91078219, 0.9054072 , 0.59372663,\n",
       "        0.86110573, 1.06496347, 0.82285976, 0.27938033, 0.52384429,\n",
       "        0.67195582, 0.19654058, 0.82891652, 0.40249191, 1.12371678,\n",
       "        0.57589289, 0.71346286, 0.32386463, 0.82863187, 0.34189573,\n",
       "        0.85703072, 0.51706112, 0.7289454 , 0.33319686, 0.3301501 ,\n",
       "        0.72216852, 0.45182745, 0.61871533, 0.58140113, 0.97252737],\n",
       "       [0.6634308 , 1.05471237, 0.59959913, 0.        , 0.35419666,\n",
       "        0.58687953, 0.52411996, 0.8590895 , 0.595288  , 0.71508135,\n",
       "        0.27963294, 0.52925257, 0.64757079, 1.05841767, 0.11024621,\n",
       "        0.35251608, 0.38975775, 0.76811715, 0.79188397, 0.54767292,\n",
       "        0.48250074, 0.82535737, 0.75200322, 0.46950561, 0.78535379,\n",
       "        0.74064925, 0.6367938 , 0.33130294, 0.79034623, 0.74460974,\n",
       "        0.75567362, 0.24255069, 0.22490159, 0.79040008, 0.68645868,\n",
       "        0.21118965, 0.44274112, 0.59290168, 0.48430822, 0.95262547,\n",
       "        0.65207782, 0.98158798, 0.30650836, 0.52408691, 0.86158664,\n",
       "        0.28840387, 0.2746994 , 0.09258192, 0.66623235, 1.03032935,\n",
       "        0.41332625, 0.32993447, 0.55853221, 0.7963442 , 0.90797724,\n",
       "        0.62888641, 0.68654226, 0.23515262, 0.62773191, 0.27676205,\n",
       "        0.77500354, 0.87208535, 0.36108482, 0.10843637, 0.35955427,\n",
       "        0.86802076, 0.81036622, 0.67076583, 0.87638159, 0.30239898,\n",
       "        0.2175643 , 0.25831867, 1.04993178, 1.03125334, 0.77149642,\n",
       "        0.36550714, 0.79512432, 0.80231567, 0.63245432, 0.09478746,\n",
       "        0.59304208, 0.65363448, 0.63942431, 0.74239494, 0.77357243,\n",
       "        0.50735442, 0.81999164, 0.27743035, 0.78924515, 0.49949466,\n",
       "        0.47905622, 0.81755633, 0.1578832 , 0.42357147, 0.62198211,\n",
       "        0.65256785, 0.7871471 , 0.29957734, 0.19323998, 0.67050466],\n",
       "       [0.43813633, 0.70238237, 0.48703581, 0.35419666, 0.        ,\n",
       "        0.23590925, 0.18926155, 0.53979024, 0.3906126 , 0.43222915,\n",
       "        0.3224503 , 0.48707429, 0.45166974, 0.71609689, 0.25485971,\n",
       "        0.34296731, 0.21576778, 0.44266929, 0.64445079, 0.34018759,\n",
       "        0.16551014, 0.62601566, 0.46846302, 0.38247582, 0.47956117,\n",
       "        0.5102658 , 0.32840366, 0.03901348, 0.58868506, 0.45758186,\n",
       "        0.4078154 , 0.13718027, 0.57449931, 0.47713405, 0.35913711,\n",
       "        0.30465687, 0.42848546, 0.2844954 , 0.2650065 , 0.61919733,\n",
       "        0.43068946, 0.63886788, 0.05495716, 0.2422101 , 0.69312183,\n",
       "        0.23577569, 0.29208688, 0.42385263, 0.31421957, 0.67644583,\n",
       "        0.30106123, 0.18387572, 0.22478461, 0.45093544, 0.556095  ,\n",
       "        0.43341876, 0.37004104, 0.19059445, 0.35827823, 0.08486481,\n",
       "        0.67901808, 0.72558616, 0.3428543 , 0.35936681, 0.3165909 ,\n",
       "        0.57676025, 0.50745968, 0.39522331, 0.57747881, 0.29171971,\n",
       "        0.22490002, 0.09794875, 0.69822479, 0.68050472, 0.41971123,\n",
       "        0.41396121, 0.59529788, 0.47167461, 0.3617933 , 0.36416778,\n",
       "        0.26458499, 0.42740766, 0.37479356, 0.43298338, 0.63915118,\n",
       "        0.16345572, 0.46699804, 0.31796642, 0.46375195, 0.20378294,\n",
       "        0.37205964, 0.48469962, 0.50824154, 0.16156225, 0.32681176,\n",
       "        0.32694504, 0.46843029, 0.15134466, 0.18702947, 0.49189687],\n",
       "       [0.35705625, 0.48632968, 0.49617994, 0.58687953, 0.23590925,\n",
       "        0.        , 0.16653769, 0.32963836, 0.44282522, 0.38176968,\n",
       "        0.48363139, 0.62765279, 0.49447244, 0.52634503, 0.49058856,\n",
       "        0.52965591, 0.36970743, 0.232233  , 0.69143383, 0.40758671,\n",
       "        0.20762451, 0.63171647, 0.31068018, 0.52239502, 0.38231086,\n",
       "        0.40562525, 0.17126471, 0.26727004, 0.59802719, 0.29737317,\n",
       "        0.17247676, 0.36962463, 0.80933682, 0.36730168, 0.1572441 ,\n",
       "        0.52877226, 0.5938004 , 0.24871433, 0.35568154, 0.45323442,\n",
       "        0.45465916, 0.45159848, 0.28037299, 0.27560435, 0.71682475,\n",
       "        0.39476441, 0.4549093 , 0.65952408, 0.1283253 , 0.4452358 ,\n",
       "        0.45295799, 0.32452785, 0.07730115, 0.21677817, 0.32111162,\n",
       "        0.38502234, 0.28092613, 0.38674549, 0.25074914, 0.31028988,\n",
       "        0.75856048, 0.76312918, 0.52620169, 0.59468413, 0.49721394,\n",
       "        0.48571093, 0.31953416, 0.2659624 , 0.47514705, 0.44095595,\n",
       "        0.45084681, 0.32864468, 0.48452071, 0.47037679, 0.18461743,\n",
       "        0.60634529, 0.60527287, 0.32794802, 0.25115817, 0.58389081,\n",
       "        0.19641521, 0.3485762 , 0.36697623, 0.24655992, 0.69677154,\n",
       "        0.14384619, 0.25453699, 0.47994866, 0.33258434, 0.16355429,\n",
       "        0.50334579, 0.26206762, 0.74274757, 0.21898057, 0.19364924,\n",
       "        0.23359696, 0.26455123, 0.3597001 , 0.42151425, 0.54032004],\n",
       "       [0.50350971, 0.53685071, 0.61051583, 0.52411996, 0.18926155,\n",
       "        0.16653769, 0.        , 0.49101454, 0.27949702, 0.25763258,\n",
       "        0.50688277, 0.46363288, 0.33422914, 0.53448078, 0.41616747,\n",
       "        0.38312347, 0.21976203, 0.39555438, 0.53329819, 0.24166339,\n",
       "        0.05136096, 0.48604755, 0.4755897 , 0.35987443, 0.29295467,\n",
       "        0.56087197, 0.33224342, 0.19739617, 0.45034095, 0.46243812,\n",
       "        0.31136261, 0.28297596, 0.73301008, 0.28875589, 0.32361595,\n",
       "        0.41309073, 0.43619267, 0.10635589, 0.19014115, 0.43229873,\n",
       "        0.29844374, 0.4575369 , 0.24407511, 0.10969409, 0.56584438,\n",
       "        0.41738547, 0.47633882, 0.57974148, 0.15817229, 0.53305836,\n",
       "        0.29587325, 0.35585828, 0.22019805, 0.35753854, 0.4303981 ,\n",
       "        0.52037859, 0.1822037 , 0.37938318, 0.40132068, 0.2730383 ,\n",
       "        0.59458483, 0.60833659, 0.37812287, 0.50297153, 0.34920329,\n",
       "        0.39310107, 0.4857814 , 0.4239118 , 0.39144454, 0.47209662,\n",
       "        0.34326085, 0.28240021, 0.53071814, 0.51057071, 0.3043428 ,\n",
       "        0.45996223, 0.4574826 , 0.28338465, 0.4027959 , 0.54787171,\n",
       "        0.07549762, 0.49391965, 0.21893513, 0.41309549, 0.53621386,\n",
       "        0.03470492, 0.30816964, 0.50251495, 0.27459823, 0.27164858,\n",
       "        0.3396312 , 0.41802393, 0.66931864, 0.28452607, 0.34904279,\n",
       "        0.13776893, 0.42904898, 0.24422843, 0.33538647, 0.37969626],\n",
       "       [0.30084685, 0.45219324, 0.49732056, 0.8590895 , 0.53979024,\n",
       "        0.32963836, 0.49101454, 0.        , 0.7524323 , 0.64477189,\n",
       "        0.66888299, 0.95464737, 0.79637925, 0.56382358, 0.77987469,\n",
       "        0.85809858, 0.69924873, 0.09831091, 0.98330142, 0.72465531,\n",
       "        0.53601647, 0.90234922, 0.15307583, 0.85048502, 0.60518668,\n",
       "        0.27664583, 0.22234328, 0.57689794, 0.8737335 , 0.14992858,\n",
       "        0.19758713, 0.67664655, 1.08328387, 0.58107372, 0.18093041,\n",
       "        0.84407148, 0.92336875, 0.54965951, 0.68095867, 0.56194723,\n",
       "        0.75134408, 0.5158573 , 0.56896787, 0.59551369, 0.99353131,\n",
       "        0.60028256, 0.64843749, 0.94318308, 0.37225551, 0.34026603,\n",
       "        0.7824802 , 0.53888985, 0.31513753, 0.16205159, 0.23284946,\n",
       "        0.35971949, 0.54007896, 0.62879313, 0.25554032, 0.59362333,\n",
       "        1.06392674, 1.04605794, 0.85500166, 0.89138054, 0.82610759,\n",
       "        0.69235917, 0.07612254, 0.21711301, 0.6713517 , 0.62395428,\n",
       "        0.76443379, 0.61515267, 0.46015549, 0.46339008, 0.22995796,\n",
       "        0.93441675, 0.88079793, 0.51354471, 0.25073858, 0.8290743 ,\n",
       "        0.4969699 , 0.30233655, 0.6586838 , 0.11886359, 0.9939613 ,\n",
       "        0.47255907, 0.34398987, 0.6668821 , 0.53268234, 0.35962029,\n",
       "        0.83059978, 0.08084793, 1.01651926, 0.43592127, 0.2403636 ,\n",
       "        0.5057711 , 0.07221079, 0.68083957, 0.72419307, 0.84152537],\n",
       "       [0.78063855, 0.65535729, 0.86973704, 0.595288  , 0.3906126 ,\n",
       "        0.44282522, 0.27949702, 0.7524323 , 0.        , 0.17952321,\n",
       "        0.69571712, 0.24459773, 0.06109732, 0.59253731, 0.49132589,\n",
       "        0.28585108, 0.21126678, 0.66210012, 0.25775871, 0.05185393,\n",
       "        0.25445536, 0.24043441, 0.75347683, 0.180185  , 0.27015073,\n",
       "        0.83998664, 0.61143012, 0.36935122, 0.2032664 , 0.74018862,\n",
       "        0.55883399, 0.38512318, 0.75006574, 0.29045883, 0.59727298,\n",
       "        0.40300873, 0.26824394, 0.20284005, 0.12766121, 0.4698054 ,\n",
       "        0.05862304, 0.52918304, 0.43031045, 0.17089906, 0.30251127,\n",
       "        0.61758426, 0.66707619, 0.61032948, 0.38265051, 0.70065973,\n",
       "        0.18989985, 0.57362001, 0.49957912, 0.60201358, 0.63571002,\n",
       "        0.79309877, 0.24116134, 0.55613841, 0.68008939, 0.44704614,\n",
       "        0.31573534, 0.33684403, 0.27620517, 0.52404831, 0.25979064,\n",
       "        0.31003502, 0.75751839, 0.70340688, 0.32860528, 0.67299581,\n",
       "        0.37785145, 0.44249033, 0.64431154, 0.61939619, 0.53773563,\n",
       "        0.33963913, 0.20925624, 0.34685832, 0.68173369, 0.65736379,\n",
       "        0.25554108, 0.77077159, 0.11132684, 0.68730242, 0.25773557,\n",
       "        0.30996725, 0.48204324, 0.69115599, 0.32215234, 0.54273891,\n",
       "        0.15644002, 0.67427993, 0.69925544, 0.53654166, 0.62850508,\n",
       "        0.25628943, 0.69693968, 0.31330036, 0.41600317, 0.10290243],\n",
       "       [0.73875025, 0.48019647, 0.86394675, 0.71508135, 0.43222915,\n",
       "        0.38176968, 0.25763258, 0.64477189, 0.17952321, 0.        ,\n",
       "        0.75465629, 0.42303744, 0.1865241 , 0.41301776, 0.60550782,\n",
       "        0.44968414, 0.32989723, 0.56546259, 0.34351599, 0.19806131,\n",
       "        0.26696321, 0.25812359, 0.67907547, 0.35656559, 0.09063908,\n",
       "        0.78572021, 0.55053285, 0.42656331, 0.2289938 , 0.66561321,\n",
       "        0.447345  , 0.48010933, 0.89460642, 0.11165213, 0.51696847,\n",
       "        0.54646508, 0.44598293, 0.15154011, 0.23647308, 0.29030743,\n",
       "        0.1391538 , 0.35039406, 0.48364393, 0.19625648, 0.34878331,\n",
       "        0.66749583, 0.72431383, 0.74702695, 0.27925196, 0.53646267,\n",
       "        0.34658364, 0.60990943, 0.4542108 , 0.4846077 , 0.49001531,\n",
       "        0.76404129, 0.10590478, 0.62015758, 0.63251846, 0.50855844,\n",
       "        0.43690433, 0.40163179, 0.44068014, 0.66166338, 0.41926504,\n",
       "        0.15293947, 0.66576424, 0.64575572, 0.16314328, 0.72318818,\n",
       "        0.50243338, 0.51171377, 0.46854727, 0.44333883, 0.41660946,\n",
       "        0.51165633, 0.2360389 , 0.17470189, 0.63289193, 0.76111451,\n",
       "        0.1920243 , 0.73014064, 0.0802216 , 0.60369399, 0.35870327,\n",
       "        0.29199955, 0.33249467, 0.75016403, 0.14898049, 0.52222427,\n",
       "        0.33202738, 0.56399139, 0.83822378, 0.54198997, 0.57511347,\n",
       "        0.14894807, 0.60072865, 0.41592468, 0.52346978, 0.22275245],\n",
       "       [0.41881925, 0.96823778, 0.32234727, 0.27963294, 0.3224503 ,\n",
       "        0.48363139, 0.50688277, 0.66888299, 0.69571712, 0.75465629,\n",
       "        0.        , 0.72110953, 0.75608346, 1.00756369, 0.28465206,\n",
       "        0.54274392, 0.49172262, 0.59279414, 0.93656979, 0.64387311,\n",
       "        0.48792102, 0.93583245, 0.53595475, 0.63312316, 0.7997219 ,\n",
       "        0.49216296, 0.45705377, 0.33146625, 0.89849818, 0.53203198,\n",
       "        0.62304026, 0.32074263, 0.46666348, 0.79535633, 0.52229021,\n",
       "        0.42370344, 0.64158957, 0.60645665, 0.56827404, 0.92331551,\n",
       "        0.74252451, 0.93152225, 0.2718688 , 0.56271699, 0.99420052,\n",
       "        0.09074748, 0.03054399, 0.37018159, 0.59967693, 0.91270522,\n",
       "        0.55635097, 0.15955286, 0.42417433, 0.65375657, 0.78034676,\n",
       "        0.37354692, 0.68908511, 0.13958804, 0.41536916, 0.25014663,\n",
       "        0.94951392, 1.01915265, 0.54813578, 0.37264661, 0.53314921,\n",
       "        0.89847453, 0.60620857, 0.45709394, 0.89810019, 0.04546562,\n",
       "        0.37556323, 0.25322685, 0.96717548, 0.95376137, 0.65197956,\n",
       "        0.58580647, 0.90469552, 0.78152016, 0.42028824, 0.20164582,\n",
       "        0.58205601, 0.41052098, 0.69516019, 0.55065097, 0.92579306,\n",
       "        0.47652503, 0.73816837, 0.00456763, 0.7770338 , 0.33826031,\n",
       "        0.63242112, 0.64887083, 0.40744582, 0.26670214, 0.43173411,\n",
       "        0.64368788, 0.6016646 , 0.39089217, 0.3133617 , 0.79151224],\n",
       "       [0.92208025, 0.89978378, 0.96646071, 0.52925257, 0.48707429,\n",
       "        0.62765279, 0.46363288, 0.95464737, 0.24459773, 0.42303744,\n",
       "        0.72110953, 0.        , 0.24664717, 0.8351879 , 0.45307807,\n",
       "        0.18112676, 0.27363015, 0.8588913 , 0.28708417, 0.24548584,\n",
       "        0.42007074, 0.36451753, 0.92754011, 0.10690592, 0.51328029,\n",
       "        0.99102269, 0.78142205, 0.45191863, 0.34040759, 0.91500911,\n",
       "        0.77083634, 0.4075869 , 0.61609316, 0.53452608, 0.78443911,\n",
       "        0.3191004 , 0.0866589 , 0.42339393, 0.27394305, 0.71239961,\n",
       "        0.28744908, 0.77335761, 0.50290088, 0.36210149, 0.36445211,\n",
       "        0.66432388, 0.69787038, 0.50634076, 0.6002872 , 0.94102624,\n",
       "        0.18631929, 0.64406788, 0.66570885, 0.81627186, 0.86685513,\n",
       "        0.92039463, 0.48126739, 0.5910564 , 0.83319378, 0.50495549,\n",
       "        0.24696357, 0.35871321, 0.17438226, 0.42948629, 0.18808175,\n",
       "        0.53867999, 0.94656687, 0.86463554, 0.56097925, 0.71316939,\n",
       "        0.34652401, 0.49042912, 0.88883122, 0.86395376, 0.75676472,\n",
       "        0.17204556, 0.34172563, 0.59122474, 0.83594954, 0.61440277,\n",
       "        0.4695045 , 0.91147417, 0.35500323, 0.87240811, 0.2619039 ,\n",
       "        0.48384572, 0.71790166, 0.71690176, 0.56666739, 0.68123707,\n",
       "        0.12431065, 0.88099787, 0.58160717, 0.64863549, 0.79058221,\n",
       "        0.48773209, 0.89196663, 0.34784198, 0.40776416, 0.23262056],\n",
       "       [0.83719598, 0.66634749, 0.92981574, 0.64757079, 0.45166974,\n",
       "        0.49447244, 0.33422914, 0.79637925, 0.06109732, 0.1865241 ,\n",
       "        0.75608346, 0.24664717, 0.        , 0.59210299, 0.54567819,\n",
       "        0.32378823, 0.26893202, 0.70838488, 0.19941325, 0.11249569,\n",
       "        0.31274283, 0.18132262, 0.80489391, 0.20756293, 0.2733802 ,\n",
       "        0.89503651, 0.6645281 , 0.43039028, 0.14465194, 0.79151931,\n",
       "        0.60062401, 0.44359744, 0.79323291, 0.29693112, 0.64673307,\n",
       "        0.44970524, 0.28868459, 0.24864793, 0.18851475, 0.46971514,\n",
       "        0.04846062, 0.53392301, 0.49133055, 0.22774398, 0.24145848,\n",
       "        0.67845127, 0.72757864, 0.65744074, 0.42438344, 0.72150954,\n",
       "        0.23620198, 0.63471728, 0.55428994, 0.6424293 , 0.6662668 ,\n",
       "        0.85114967, 0.26901694, 0.61649602, 0.73554739, 0.50780162,\n",
       "        0.26756002, 0.27698809, 0.31392363, 0.57153877, 0.30158475,\n",
       "        0.29214318, 0.80538897, 0.75748051, 0.31434978, 0.73379093,\n",
       "        0.43100721, 0.50289139, 0.65450297, 0.62920524, 0.57655556,\n",
       "        0.3683587 , 0.15022907, 0.36096948, 0.73702114, 0.71274459,\n",
       "        0.30220556, 0.82745641, 0.13945287, 0.73661133, 0.2023763 ,\n",
       "        0.36593721, 0.51001815, 0.75152588, 0.33534317, 0.6007837 ,\n",
       "        0.18694961, 0.71714846, 0.74495759, 0.59664489, 0.68288052,\n",
       "        0.29293156, 0.74350842, 0.37154304, 0.47234149, 0.04586521],\n",
       "       [0.80541277, 0.13600668, 0.98664845, 1.05841767, 0.71609689,\n",
       "        0.52634503, 0.53448078, 0.56382358, 0.59253731, 0.41301776,\n",
       "        1.00756369, 0.8351879 , 0.59210299, 0.        , 0.94980107,\n",
       "        0.85152445, 0.70884563, 0.54294683, 0.69265161, 0.60690686,\n",
       "        0.57666441, 0.57461651, 0.68172481, 0.76809151, 0.32238696,\n",
       "        0.81485222, 0.62324343, 0.73058988, 0.56702961, 0.67125451,\n",
       "        0.43499488, 0.81643824, 1.26293461, 0.30312376, 0.55608948,\n",
       "        0.92654008, 0.85789474, 0.47622724, 0.62657467, 0.12280186,\n",
       "        0.54817789, 0.07723075, 0.77037579, 0.55286827, 0.65863546,\n",
       "        0.91743905, 0.9781112 , 1.110132  , 0.40853665, 0.25838397,\n",
       "        0.74766872, 0.8480216 , 0.59526879, 0.43431956, 0.33101329,\n",
       "        0.85393782, 0.38544031, 0.89777252, 0.71071168, 0.80085726,\n",
       "        0.80231896, 0.71693585, 0.84324603, 1.02970338, 0.81889751,\n",
       "        0.31645424, 0.62558975, 0.69769873, 0.28912909, 0.96599281,\n",
       "        0.86684645, 0.81318337, 0.12237787, 0.10715113, 0.39311181,\n",
       "        0.91878228, 0.57149613, 0.26290403, 0.708179  , 1.07991515,\n",
       "        0.46627309, 0.80132134, 0.48750763, 0.60367575, 0.71766689,\n",
       "        0.55399674, 0.27645616, 1.00369194, 0.28211491, 0.68591176,\n",
       "        0.74336084, 0.50167912, 1.20080754, 0.74522031, 0.65667846,\n",
       "        0.40958538, 0.56727412, 0.7692313 , 0.86795685, 0.61927283],\n",
       "       [0.6137136 , 0.9496547 , 0.58250198, 0.11024621, 0.25485971,\n",
       "        0.49058856, 0.41616747, 0.77987469, 0.49132589, 0.60550782,\n",
       "        0.28465206, 0.45307807, 0.54567819, 0.94980107, 0.        ,\n",
       "        0.27199209, 0.2827248 , 0.68571162, 0.70029507, 0.44243575,\n",
       "        0.37331362, 0.7254127 , 0.68514954, 0.38002884, 0.6751485 ,\n",
       "        0.69121663, 0.55946012, 0.22754569, 0.68967029, 0.6764365 ,\n",
       "        0.66189939, 0.13336539, 0.32043472, 0.68015799, 0.60261585,\n",
       "        0.14058215, 0.36890735, 0.48274379, 0.37660565, 0.84301287,\n",
       "        0.54710653, 0.87314495, 0.21329991, 0.41389509, 0.76712128,\n",
       "        0.25780701, 0.26834412, 0.1689939 , 0.56183068, 0.93023812,\n",
       "        0.31567472, 0.27687928, 0.47068207, 0.70423138, 0.8109399 ,\n",
       "        0.5873373 , 0.57642326, 0.18736356, 0.56310539, 0.18656671,\n",
       "        0.69365592, 0.78181459, 0.27915708, 0.11338429, 0.27125423,\n",
       "        0.75842415, 0.73724511, 0.60517936, 0.76645106, 0.29105167,\n",
       "        0.11567606, 0.16550852, 0.94443219, 0.92521783, 0.67457088,\n",
       "        0.30421776, 0.69477248, 0.69268871, 0.56756416, 0.16814702,\n",
       "        0.48387654, 0.60334254, 0.53050069, 0.66612472, 0.68417338,\n",
       "        0.40114842, 0.71592016, 0.28107917, 0.67931753, 0.42263655,\n",
       "        0.38616318, 0.73213913, 0.25492116, 0.35144941, 0.54887478,\n",
       "        0.54293934, 0.70766886, 0.18965806, 0.08300506, 0.57151446],\n",
       "       [0.78005388, 0.88990165, 0.80295241, 0.35251608, 0.34296731,\n",
       "        0.52965591, 0.38312347, 0.85809858, 0.28585108, 0.44968414,\n",
       "        0.54274392, 0.18112676, 0.32378823, 0.85152445, 0.27199209,\n",
       "        0.        , 0.16336532, 0.75991018, 0.44179359, 0.25255609,\n",
       "        0.33234928, 0.48894814, 0.80680956, 0.1221387 , 0.53670059,\n",
       "        0.85303465, 0.662671  , 0.30452606, 0.4568161 , 0.79521783,\n",
       "        0.69182882, 0.23850771, 0.47063285, 0.55136408, 0.67949624,\n",
       "        0.1413847 , 0.09884579, 0.38625877, 0.226142  , 0.73159386,\n",
       "        0.34393034, 0.7809682 , 0.34566845, 0.30995592, 0.51409504,\n",
       "        0.49110663, 0.52065367, 0.3421488 , 0.53857185, 0.90708893,\n",
       "        0.10395825, 0.47854994, 0.55003029, 0.73808615, 0.81235402,\n",
       "        0.77087959, 0.46884869, 0.41669878, 0.70076074, 0.34149716,\n",
       "        0.42341617, 0.52076874, 0.00988136, 0.25934078, 0.03431885,\n",
       "        0.59303979, 0.83760184, 0.73654775, 0.60923092, 0.53754571,\n",
       "        0.16718078, 0.32419055, 0.88106113, 0.85783269, 0.68734669,\n",
       "        0.07702429, 0.46049864, 0.59066524, 0.70413968, 0.43472414,\n",
       "        0.41733496, 0.76929253, 0.36987773, 0.76229421, 0.42206268,\n",
       "        0.39163861, 0.67893317, 0.53863215, 0.56975626, 0.54614351,\n",
       "        0.1380748 , 0.79156391, 0.42571824, 0.50067729, 0.66572421,\n",
       "        0.4567759 , 0.79015523, 0.19223757, 0.23005674, 0.33538323],\n",
       "       [0.64846416, 0.73600039, 0.70131843, 0.38975775, 0.21576778,\n",
       "        0.36970743, 0.21976203, 0.69924873, 0.21126678, 0.32989723,\n",
       "        0.49172262, 0.27363015, 0.26893202, 0.70884563, 0.2827248 ,\n",
       "        0.16336532, 0.        , 0.60146684, 0.44505031, 0.1607958 ,\n",
       "        0.16902755, 0.45025448, 0.65833263, 0.16755653, 0.40792573,\n",
       "        0.71754865, 0.512503  , 0.18341968, 0.41349432, 0.64614857,\n",
       "        0.52904285, 0.17485464, 0.56528417, 0.41772448, 0.52278424,\n",
       "        0.21928816, 0.22579544, 0.23384311, 0.09480622, 0.59277327,\n",
       "        0.26526525, 0.63541088, 0.2401473 , 0.15640569, 0.50306736,\n",
       "        0.41956904, 0.46428599, 0.41713374, 0.37577344, 0.74664823,\n",
       "        0.0878113 , 0.385822  , 0.3975155 , 0.57531603, 0.64938168,\n",
       "        0.64779332, 0.32348446, 0.35281551, 0.56026896, 0.24975655,\n",
       "        0.46733367, 0.52758072, 0.15854184, 0.33183671, 0.12953878,\n",
       "        0.48206368, 0.68316984, 0.59276027, 0.49293468, 0.47338554,\n",
       "        0.17354525, 0.24081473, 0.72796864, 0.70556945, 0.5239953 ,\n",
       "        0.24025823, 0.41915385, 0.445942  , 0.56314551, 0.44693842,\n",
       "        0.25797905, 0.63786577, 0.25172027, 0.60810341, 0.43542515,\n",
       "        0.2292054 , 0.51883702, 0.48720483, 0.42762752, 0.4077071 ,\n",
       "        0.15629213, 0.63071129, 0.50833351, 0.37673021, 0.5194336 ,\n",
       "        0.30345781, 0.63276257, 0.10273514, 0.20513522, 0.30100642],\n",
       "       [0.26956831, 0.44855665, 0.46259084, 0.76811715, 0.44266929,\n",
       "        0.232233  , 0.39555438, 0.09831091, 0.66210012, 0.56546259,\n",
       "        0.59279414, 0.8588913 , 0.70838488, 0.54294683, 0.68571162,\n",
       "        0.75991018, 0.60146684, 0.        , 0.89891036, 0.63208308,\n",
       "        0.4393957 , 0.82355333, 0.1391282 , 0.75416765, 0.53494512,\n",
       "        0.27190902, 0.13628423, 0.47942913, 0.79336458, 0.12832661,\n",
       "        0.12501378, 0.57973985, 0.99285633, 0.51244903, 0.0836002 ,\n",
       "        0.74654068, 0.82599144, 0.46012533, 0.58569552, 0.52026636,\n",
       "        0.66454057, 0.4848935 , 0.47364264, 0.50169929, 0.91352568,\n",
       "        0.51866384, 0.57021666, 0.85054618, 0.28756134, 0.35387943,\n",
       "        0.68517756, 0.4541544 , 0.21789046, 0.10921599, 0.22575681,\n",
       "        0.3240548 , 0.45967401, 0.54104496, 0.19431345, 0.49916363,\n",
       "        0.97572868, 0.96448501, 0.75687712, 0.79644759, 0.72800926,\n",
       "        0.62812248, 0.10075075, 0.166424  , 0.60941307, 0.54738915,\n",
       "        0.66699143, 0.52045371, 0.45375507, 0.45154024, 0.16601422,\n",
       "        0.83617452, 0.80052254, 0.4495188 , 0.19019008, 0.74291427,\n",
       "        0.40681102, 0.26755482, 0.572479  , 0.0616349 , 0.90805098,\n",
       "        0.37573634, 0.29206835, 0.5903984 , 0.46585225, 0.26972603,\n",
       "        0.73467532, 0.05744107, 0.92591269, 0.3473296 , 0.16159534,\n",
       "        0.42168136, 0.03535382, 0.58267446, 0.62794487, 0.75391958],\n",
       "       [1.0365365 , 0.79195621, 1.12694107, 0.79188397, 0.64445079,\n",
       "        0.69143383, 0.53329819, 0.98330142, 0.25775871, 0.34351599,\n",
       "        0.93656979, 0.28708417, 0.19941325, 0.69265161, 0.70029507,\n",
       "        0.44179359, 0.44505031, 0.89891036, 0.        , 0.30539572,\n",
       "        0.51185633, 0.12082717, 1.00092374, 0.32237926, 0.40941575,\n",
       "        1.09379231, 0.8622075 , 0.61978497, 0.12646283, 0.98748915,\n",
       "        0.78590924, 0.61710356, 0.90100319, 0.43604636, 0.8411905 ,\n",
       "        0.58220119, 0.36672709, 0.44329618, 0.37952021, 0.57847212,\n",
       "        0.23679098, 0.65032649, 0.67996076, 0.42713322, 0.07810246,\n",
       "        0.86393629, 0.90931526, 0.78281101, 0.61183216, 0.86758632,\n",
       "        0.38620968, 0.82526173, 0.75307859, 0.82532389, 0.83252788,\n",
       "        1.05044565, 0.44449828, 0.79785848, 0.93456053, 0.69324884,\n",
       "        0.11177618, 0.08260601, 0.43259903, 0.70107756, 0.43234515,\n",
       "        0.3768048 , 0.99750715, 0.9557339 , 0.40462908, 0.91820818,\n",
       "        0.58514186, 0.68560495, 0.77863616, 0.75333582, 0.75784366,\n",
       "        0.45558232, 0.12143997, 0.50828073, 0.93595932, 0.86806729,\n",
       "        0.49658431, 1.02682133, 0.32691227, 0.93061679, 0.03086381,\n",
       "        0.56527628, 0.67513581, 0.93206601, 0.48302199, 0.80006068,\n",
       "        0.31416457, 0.90299992, 0.86292691, 0.79383336, 0.88138003,\n",
       "        0.47774901, 0.93423242, 0.54588898, 0.63645883, 0.15491123],\n",
       "       [0.7378955 , 0.65973229, 0.82159495, 0.54767292, 0.34018759,\n",
       "        0.40758671, 0.24166339, 0.72465531, 0.05185393, 0.19806131,\n",
       "        0.64387311, 0.24548584, 0.11249569, 0.60690686, 0.44243575,\n",
       "        0.25255609, 0.1607958 , 0.63208308, 0.30539572, 0.        ,\n",
       "        0.21099983, 0.29225258, 0.71725296, 0.16194346, 0.28694305,\n",
       "        0.79914213, 0.57353812, 0.31803077, 0.25504661, 0.70409945,\n",
       "        0.53432024, 0.33382189, 0.70896572, 0.30397239, 0.56387028,\n",
       "        0.36038167, 0.25180286, 0.18009394, 0.07603102, 0.48508868,\n",
       "        0.1046768 , 0.53988142, 0.3789278 , 0.13203783, 0.3533502 ,\n",
       "        0.56595558, 0.61525552, 0.56651729, 0.35995954, 0.69598145,\n",
       "        0.1511163 , 0.52270252, 0.45999741, 0.57870485, 0.62224327,\n",
       "        0.74825067, 0.2372558 , 0.50429201, 0.63897941, 0.39532566,\n",
       "        0.35445675, 0.38575632, 0.24334408, 0.48019839, 0.22343245,\n",
       "        0.34095359, 0.72539228, 0.66403855, 0.35668899, 0.62130566,\n",
       "        0.33012217, 0.39064714, 0.64945001, 0.62504134, 0.51656236,\n",
       "        0.31367823, 0.261077  , 0.35235827, 0.64084526, 0.60762094,\n",
       "        0.22957127, 0.72786851, 0.11965648, 0.65374114, 0.30283101,\n",
       "        0.26983069, 0.47242371, 0.63931236, 0.32907427, 0.49826176,\n",
       "        0.13714712, 0.64796999, 0.65631504, 0.48857511, 0.58893152,\n",
       "        0.24237964, 0.66647161, 0.26218844, 0.36590719, 0.15174732],\n",
       "       [0.52695252, 0.58486827, 0.61927852, 0.48250074, 0.16551014,\n",
       "        0.20762451, 0.05136096, 0.53601647, 0.25445536, 0.26696321,\n",
       "        0.48792102, 0.42007074, 0.31274283, 0.57666441, 0.37331362,\n",
       "        0.33234928, 0.16902755, 0.4393957 , 0.51185633, 0.21099983,\n",
       "        0.        , 0.47564343, 0.51115993, 0.31481524, 0.31608957,\n",
       "        0.58840025, 0.36582142, 0.16435616, 0.43894132, 0.49827263,\n",
       "        0.36052298, 0.24003994, 0.68742027, 0.31582219, 0.36440427,\n",
       "        0.3629948 , 0.38825056, 0.11955226, 0.14988893, 0.47034095,\n",
       "        0.28247723, 0.50021513, 0.21809069, 0.08599537, 0.55057263,\n",
       "        0.40053387, 0.45752212, 0.53426595, 0.20940945, 0.58392715,\n",
       "        0.24743673, 0.34397068, 0.25082111, 0.40678354, 0.48173332,\n",
       "        0.53866096, 0.20890635, 0.35499644, 0.42821515, 0.2447053 ,\n",
       "        0.56536847, 0.58954219, 0.32755101, 0.45586981, 0.29856431,\n",
       "        0.41163386, 0.52661358, 0.45436379, 0.41327224, 0.45625151,\n",
       "        0.29477746, 0.25079738, 0.57830064, 0.55759455, 0.35500569,\n",
       "        0.40928111, 0.44590056, 0.32014648, 0.43017533, 0.51218078,\n",
       "        0.11056843, 0.5169614 , 0.21412016, 0.45275365, 0.51206094,\n",
       "        0.06378194, 0.35826447, 0.48344486, 0.30837811, 0.28828745,\n",
       "        0.29576025, 0.46479293, 0.62452218, 0.28732871, 0.37924563,\n",
       "        0.17066072, 0.47210863, 0.1956967 , 0.29129251, 0.3569909 ],\n",
       "       [0.98585528, 0.67839247, 1.09441991, 0.82535737, 0.62601566,\n",
       "        0.63171647, 0.48604755, 0.90234922, 0.24043441, 0.25812359,\n",
       "        0.93583245, 0.36451753, 0.18132262, 0.57461651, 0.7254127 ,\n",
       "        0.48894814, 0.45025448, 0.82355333, 0.12082717, 0.29225258,\n",
       "        0.47564343, 0.        , 0.93512616, 0.36709882, 0.30780193,\n",
       "        1.03734164, 0.80260736, 0.60758021, 0.0373996 , 0.92164223,\n",
       "        0.70515219, 0.62488939, 0.95886949, 0.33434994, 0.77327601,\n",
       "        0.62266275, 0.4320444 , 0.38523709, 0.36756718, 0.46303729,\n",
       "        0.19534611, 0.53575143, 0.66858239, 0.38995879, 0.09257621,\n",
       "        0.85655275, 0.90700906, 0.82935491, 0.53684047, 0.76011836,\n",
       "        0.41207183, 0.80986601, 0.69979799, 0.74149653, 0.73547968,\n",
       "        1.00594033, 0.36388641, 0.79629852, 0.88096957, 0.68656194,\n",
       "        0.23259789, 0.14946663, 0.47915316, 0.74442926, 0.47172439,\n",
       "        0.2607898 , 0.92377557, 0.89760812, 0.28884411, 0.91221156,\n",
       "        0.61016672, 0.68264373, 0.66478816, 0.63969258, 0.67333802,\n",
       "        0.51937075, 0.03117895, 0.40735222, 0.88179636, 0.89298665,\n",
       "        0.43568829, 0.97670474, 0.26750536, 0.86087684, 0.14930078,\n",
       "        0.52015285, 0.57961271, 0.9312681 , 0.38318673, 0.75767823,\n",
       "        0.35159697, 0.82151294, 0.91453345, 0.7629675 , 0.82507738,\n",
       "        0.40420653, 0.85883197, 0.55285327, 0.65328346, 0.1550905 ],\n",
       "       [0.14778526, 0.58358519, 0.34428359, 0.75200322, 0.46846302,\n",
       "        0.31068018, 0.4755897 , 0.15307583, 0.75347683, 0.67907547,\n",
       "        0.53595475, 0.92754011, 0.80489391, 0.68172481, 0.68514954,\n",
       "        0.80680956, 0.65833263, 0.1391282 , 1.00092374, 0.71725296,\n",
       "        0.51115993, 0.93512616, 0.        , 0.820809  , 0.65887885,\n",
       "        0.13354181, 0.14612217, 0.50742271, 0.90292189, 0.01348613,\n",
       "        0.25920797, 0.59928057, 0.97251996, 0.63802548, 0.16212142,\n",
       "        0.76912875, 0.88362104, 0.55762929, 0.66104871, 0.65819291,\n",
       "        0.76421582, 0.62400057, 0.48483388, 0.58525627, 1.02271589,\n",
       "        0.47682217, 0.5187112 , 0.84045809, 0.40066509, 0.48139725,\n",
       "        0.74552941, 0.42297698, 0.26183753, 0.24833876, 0.35960617,\n",
       "        0.20674965, 0.57364991, 0.51709184, 0.12453118, 0.50447336,\n",
       "        1.0692046 , 1.07091841, 0.80538535, 0.79848909, 0.77751367,\n",
       "        0.75590367, 0.07788777, 0.08135851, 0.73888003, 0.49235772,\n",
       "        0.6899103 , 0.52644919, 0.58960192, 0.58870021, 0.3018679 ,\n",
       "        0.88036746, 0.91015802, 0.57919974, 0.11972673, 0.7104556 ,\n",
       "        0.50438467, 0.1495733 , 0.67478561, 0.08114491, 1.0070441 ,\n",
       "        0.44875467, 0.42905862, 0.53449365, 0.59340652, 0.26720639,\n",
       "        0.80394042, 0.18347238, 0.90677384, 0.3337421 , 0.14166033,\n",
       "        0.53103402, 0.11596231, 0.61854398, 0.64115731, 0.85075741],\n",
       "       [0.81585359, 0.82115628, 0.86524698, 0.46950561, 0.38247582,\n",
       "        0.52239502, 0.35987443, 0.85048502, 0.180185  , 0.35656559,\n",
       "        0.63312316, 0.10690592, 0.20756293, 0.76809151, 0.38002884,\n",
       "        0.1221387 , 0.16755653, 0.75416765, 0.32237926, 0.16194346,\n",
       "        0.31481524, 0.36709882, 0.820809  , 0.        , 0.44674402,\n",
       "        0.88440039, 0.67468683, 0.34837606, 0.33551157, 0.80831528,\n",
       "        0.66940018, 0.31392719, 0.59186647, 0.46496883, 0.67879809,\n",
       "        0.26027076, 0.08989934, 0.32961888, 0.17242112, 0.64588396,\n",
       "        0.23492598, 0.70171531, 0.40164254, 0.26255834, 0.39307437,\n",
       "        0.57041298, 0.60820244, 0.4640546 , 0.50186982, 0.85327783,\n",
       "        0.08179768, 0.54510528, 0.55900327, 0.71519267, 0.772083  ,\n",
       "        0.81523659, 0.39764529, 0.49885131, 0.72637966, 0.40626022,\n",
       "        0.31692276, 0.40283842, 0.11245192, 0.3804966 , 0.11000173,\n",
       "        0.48989935, 0.84074751, 0.75773052, 0.50878546, 0.62135937,\n",
       "        0.26642557, 0.39338904, 0.81103829, 0.78673212, 0.65744804,\n",
       "        0.16112439, 0.33898129, 0.51424013, 0.72911362, 0.5469375 ,\n",
       "        0.37210512, 0.80527502, 0.2806323 , 0.76637784, 0.30462158,\n",
       "        0.37856356, 0.62717831, 0.62877266, 0.49101771, 0.57470317,\n",
       "        0.02479885, 0.77787836, 0.54782618, 0.54386418, 0.6836845 ,\n",
       "        0.39723071, 0.78691826, 0.2490452 , 0.32269926, 0.21447125],\n",
       "       [0.73533216, 0.39383213, 0.87685827, 0.78535379, 0.47956117,\n",
       "        0.38231086, 0.29295467, 0.60518668, 0.27015073, 0.09063908,\n",
       "        0.7997219 , 0.51328029, 0.2733802 , 0.32238696, 0.6751485 ,\n",
       "        0.53670059, 0.40792573, 0.53494512, 0.40941575, 0.28694305,\n",
       "        0.31608957, 0.30780193, 0.65887885, 0.44674402, 0.        ,\n",
       "        0.77462334, 0.54200422, 0.480345  , 0.28608596, 0.6456433 ,\n",
       "        0.41152507, 0.54566515, 0.97289571, 0.02669858, 0.49831575,\n",
       "        0.62678538, 0.53631958, 0.19695536, 0.31757187, 0.19966855,\n",
       "        0.2274997 , 0.26079777, 0.53340454, 0.26127243, 0.40034085,\n",
       "        0.71033954, 0.76917995, 0.82325224, 0.26237875, 0.45892891,\n",
       "        0.43298303, 0.64821922, 0.45886531, 0.4431354 , 0.42773818,\n",
       "        0.76688519, 0.11113193, 0.67009045, 0.62870457, 0.56067242,\n",
       "        0.51034039, 0.45689996, 0.5279173 , 0.73890892, 0.50543648,\n",
       "        0.10389357, 0.63557761, 0.63597929, 0.0985489 , 0.7649967 ,\n",
       "        0.57739433, 0.56675683, 0.38168057, 0.35629977, 0.37539825,\n",
       "        0.60051591, 0.29240963, 0.09963041, 0.62837025, 0.8246861 ,\n",
       "        0.21837601, 0.72758666, 0.16741808, 0.58004553, 0.42860812,\n",
       "        0.32450423, 0.27262991, 0.79533652, 0.07549071, 0.53667993,\n",
       "        0.42212502, 0.52473688, 0.91469857, 0.56841061, 0.56992759,\n",
       "        0.15883598, 0.56944021, 0.48609016, 0.59226752, 0.30568863],\n",
       "       [0.07759152, 0.71690961, 0.23625064, 0.74064925, 0.5102658 ,\n",
       "        0.40562525, 0.56087197, 0.27664583, 0.83998664, 0.78572021,\n",
       "        0.49216296, 0.99102269, 0.89503651, 0.81485222, 0.69121663,\n",
       "        0.85303465, 0.71754865, 0.27190902, 1.09379231, 0.79914213,\n",
       "        0.58840025, 1.03734164, 0.13354181, 0.88440039, 0.77462334,\n",
       "        0.        , 0.23519938, 0.54851631, 1.00356277, 0.14360223,\n",
       "        0.38788187, 0.62781799, 0.95157382, 0.75539998, 0.27834635,\n",
       "        0.79412862, 0.93790195, 0.65348341, 0.73596539, 0.78781064,\n",
       "        0.8577119 , 0.75604957, 0.51249452, 0.669172  , 1.12205887,\n",
       "        0.45313739, 0.4817466 , 0.83243876, 0.51265374, 0.61285852,\n",
       "        0.80526846, 0.41517838, 0.34075111, 0.38083331, 0.49292338,\n",
       "        0.11989052, 0.68219165, 0.50890287, 0.16018511, 0.52535992,\n",
       "        1.15359458, 1.16733838, 0.85309649, 0.80329565, 0.82680657,\n",
       "        0.87442613, 0.20147922, 0.13997212, 0.85910712, 0.45331115,\n",
       "        0.71778881, 0.54652913, 0.72305229, 0.72224176, 0.43098077,\n",
       "        0.92249021, 1.01080608, 0.70068237, 0.15831538, 0.68425036,\n",
       "        0.601855  , 0.08787606, 0.77197708, 0.21166549, 1.09708256,\n",
       "        0.53006557, 0.55821376, 0.4918036 , 0.71290855, 0.30985208,\n",
       "        0.87019977, 0.31676977, 0.88834319, 0.3544141 , 0.21267688,\n",
       "        0.63678655, 0.24938806, 0.66088603, 0.66198801, 0.94056115],\n",
       "       [0.19459036, 0.54897763, 0.36349971, 0.6367938 , 0.32840366,\n",
       "        0.17126471, 0.33224342, 0.22234328, 0.61143012, 0.55053285,\n",
       "        0.45705377, 0.78142205, 0.6645281 , 0.62324343, 0.55946012,\n",
       "        0.662671  , 0.512503  , 0.13628423, 0.8622075 , 0.57353812,\n",
       "        0.36582142, 0.80260736, 0.14612217, 0.67468683, 0.54200422,\n",
       "        0.23519938, 0.        , 0.36696639, 0.76913805, 0.13370707,\n",
       "        0.19080225, 0.46278163, 0.86094066, 0.52392387, 0.07100591,\n",
       "        0.63224177, 0.73799954, 0.41993315, 0.51565106, 0.57598252,\n",
       "        0.62552941, 0.55597935, 0.35121846, 0.44184845, 0.88806081,\n",
       "        0.38240324, 0.43409837, 0.72137779, 0.27964257, 0.47063746,\n",
       "        0.59956015, 0.3184012 , 0.1157422 , 0.20774401, 0.33736927,\n",
       "        0.23424702, 0.44726424, 0.40682769, 0.08995875, 0.3741526 ,\n",
       "        0.92680627, 0.93433865, 0.66093919, 0.671774  , 0.63283419,\n",
       "        0.64326785, 0.17953618, 0.09522743, 0.62947153, 0.41160556,\n",
       "        0.55253874, 0.39595508, 0.55157828, 0.54447409, 0.23077145,\n",
       "        0.73696114, 0.77638518, 0.4735274 , 0.08852246, 0.60792624,\n",
       "        0.36765703, 0.18774851, 0.53823937, 0.10668738, 0.86690386,\n",
       "        0.3040632 , 0.35035187, 0.45457133, 0.48349348, 0.13748732,\n",
       "        0.65786248, 0.19182549, 0.79417956, 0.21361279, 0.03348888,\n",
       "        0.40161139, 0.15066962, 0.4763877 , 0.5077998 , 0.71030436],\n",
       "       [0.47588851, 0.72342688, 0.51791648, 0.33130294, 0.03901348,\n",
       "        0.26727004, 0.19739617, 0.57689794, 0.36935122, 0.42656331,\n",
       "        0.33146625, 0.45191863, 0.43039028, 0.73058988, 0.22754569,\n",
       "        0.30452606, 0.18341968, 0.47942913, 0.61978497, 0.31803077,\n",
       "        0.16435616, 0.60758021, 0.50742271, 0.34837606, 0.480345  ,\n",
       "        0.54851631, 0.36696639, 0.        , 0.57018081, 0.49650252,\n",
       "        0.43973565, 0.10241668, 0.54797391, 0.4800859 , 0.39604074,\n",
       "        0.26717415, 0.39127096, 0.28349623, 0.24205851, 0.62969041,\n",
       "        0.41289114, 0.65344172, 0.06101576, 0.23203956, 0.67131357,\n",
       "        0.24911681, 0.30172982, 0.39593862, 0.33501483, 0.7029065 ,\n",
       "        0.26663992, 0.20548166, 0.26176337, 0.4836288 , 0.58519406,\n",
       "        0.46957767, 0.37302966, 0.19415065, 0.39715832, 0.08214897,\n",
       "        0.64971294, 0.70154088, 0.30463456, 0.32775338, 0.27872795,\n",
       "        0.57455548, 0.54579972, 0.43422317, 0.57716893, 0.30496049,\n",
       "        0.18756371, 0.08644122, 0.7186335 , 0.70005816, 0.44929655,\n",
       "        0.37509307, 0.57660761, 0.48052092, 0.40070106, 0.35047559,\n",
       "        0.27078777, 0.4651416 , 0.36403428, 0.47115773, 0.61305956,\n",
       "        0.17691353, 0.48894012, 0.32691139, 0.47063592, 0.24272927,\n",
       "        0.33922687, 0.52025369, 0.482372  , 0.19773899, 0.36576508,\n",
       "        0.33275256, 0.50580218, 0.11256321, 0.15438123, 0.46898111],\n",
       "       [0.95120245, 0.66552725, 1.05795556, 0.79034623, 0.58868506,\n",
       "        0.59802719, 0.45034095, 0.8737335 , 0.2032664 , 0.2289938 ,\n",
       "        0.89849818, 0.34040759, 0.14465194, 0.56702961, 0.68967029,\n",
       "        0.4568161 , 0.41349432, 0.79336458, 0.12646283, 0.25504661,\n",
       "        0.43894132, 0.0373996 , 0.90292189, 0.33551157, 0.28608596,\n",
       "        1.00356277, 0.76913805, 0.57018081, 0.        , 0.88943581,\n",
       "        0.67624952, 0.58800308, 0.9272942 , 0.31278374, 0.74133092,\n",
       "        0.58894048, 0.40398786, 0.35061042, 0.33025098, 0.45209696,\n",
       "        0.15806219, 0.52386875, 0.63118332, 0.35314639, 0.12017538,\n",
       "        0.81915459, 0.86965244, 0.79607023, 0.50607462, 0.74260322,\n",
       "        0.37731723, 0.77252489, 0.66522709, 0.71355445, 0.71240629,\n",
       "        0.97054154, 0.33399526, 0.75897535, 0.84664011, 0.64918236,\n",
       "        0.2353214 , 0.17293378, 0.44697605, 0.71082693, 0.43844607,\n",
       "        0.25075581, 0.89329114, 0.86398949, 0.27846071, 0.87481687,\n",
       "        0.57461611, 0.64532367, 0.65218877, 0.62689758, 0.64550846,\n",
       "        0.4903087 , 0.00724779, 0.38559838, 0.84755078, 0.85704073,\n",
       "        0.40170858, 0.94197054, 0.23239462, 0.82942002, 0.15064512,\n",
       "        0.48429353, 0.55566634, 0.89393342, 0.36079598, 0.72186648,\n",
       "        0.31895332, 0.79296913, 0.88191997, 0.72622438, 0.79109979,\n",
       "        0.37264726, 0.82869227, 0.51600989, 0.6169407 , 0.121541  ],\n",
       "       [0.15180199, 0.57452017, 0.34857961, 0.74460974, 0.45758186,\n",
       "        0.29737317, 0.46243812, 0.14992858, 0.74018862, 0.66561321,\n",
       "        0.53203198, 0.91500911, 0.79151931, 0.67125451, 0.6764365 ,\n",
       "        0.79521783, 0.64614857, 0.12832661, 0.98748915, 0.70409945,\n",
       "        0.49827263, 0.92164223, 0.01348613, 0.80831528, 0.6456433 ,\n",
       "        0.14360223, 0.13370707, 0.49650252, 0.88943581, 0.        ,\n",
       "        0.24700731, 0.58904238, 0.96570127, 0.62486182, 0.14867187,\n",
       "        0.75891112, 0.871548  , 0.54419727, 0.64815643, 0.64636037,\n",
       "        0.75079034, 0.61289375, 0.4749026 , 0.57208902, 1.00923087,\n",
       "        0.47119303, 0.51417881, 0.83267076, 0.38724929, 0.47380813,\n",
       "        0.7332575 , 0.41615259, 0.24931205, 0.23738208, 0.35064325,\n",
       "        0.21022844, 0.56020263, 0.50993282, 0.11830271, 0.49499319,\n",
       "        1.05592101, 1.05744579, 0.79371031, 0.7897205 , 0.76576929,\n",
       "        0.7428233 , 0.07677026, 0.07536556, 0.72590467, 0.48812462,\n",
       "        0.67958543, 0.51697371, 0.5803142 , 0.57899583, 0.28979627,\n",
       "        0.8689655 , 0.89667193, 0.56628184, 0.11341176, 0.70443675,\n",
       "        0.49094006, 0.15266581, 0.66132383, 0.06902   , 0.99365141,\n",
       "        0.43576344, 0.41706587, 0.53046673, 0.58035336, 0.25716505,\n",
       "        0.79133568, 0.17477387, 0.89979847, 0.32499396, 0.13086837,\n",
       "        0.51755479, 0.10724784, 0.60736279, 0.63139944, 0.83738355],\n",
       "       [0.37105873, 0.35867548, 0.55259356, 0.75567362, 0.4078154 ,\n",
       "        0.17247676, 0.31136261, 0.19758713, 0.55883399, 0.447345  ,\n",
       "        0.62304026, 0.77083634, 0.60062401, 0.43499488, 0.66189939,\n",
       "        0.69182882, 0.52904285, 0.12501378, 0.78590924, 0.53432024,\n",
       "        0.36052298, 0.70515219, 0.25920797, 0.66940018, 0.41152507,\n",
       "        0.38788187, 0.19080225, 0.43973565, 0.67624952, 0.24700731,\n",
       "        0.        , 0.54210077, 0.97932297, 0.38848035, 0.12151662,\n",
       "        0.70013026, 0.74748206, 0.35623496, 0.49738518, 0.39992972,\n",
       "        0.55496701, 0.3709834 , 0.44996209, 0.40882795, 0.7961283 ,\n",
       "        0.53940412, 0.59675038, 0.83060353, 0.17640106, 0.28970162,\n",
       "        0.60723114, 0.46993799, 0.20268052, 0.04627365, 0.1576496 ,\n",
       "        0.4189502 , 0.34249836, 0.54470518, 0.27616151, 0.47907761,\n",
       "        0.86795265, 0.84849222, 0.68747312, 0.76698024, 0.65841529,\n",
       "        0.50339635, 0.22472793, 0.26323359, 0.48445627, 0.57812728,\n",
       "        0.62274545, 0.49837937, 0.36093292, 0.35369232, 0.04314666,\n",
       "        0.76885284, 0.68332752, 0.32461368, 0.27346221, 0.7459226 ,\n",
       "        0.3048363 , 0.36661022, 0.46218171, 0.17807406, 0.796961  ,\n",
       "        0.30021923, 0.17034465, 0.61991789, 0.34137225, 0.28477998,\n",
       "        0.64808367, 0.11709069, 0.91250665, 0.3587529 , 0.22420366,\n",
       "        0.308771  , 0.15851158, 0.53000836, 0.59392043, 0.64545077],\n",
       "       [0.55242123, 0.81775414, 0.56445075, 0.24255069, 0.13718027,\n",
       "        0.36962463, 0.28297596, 0.67664655, 0.38512318, 0.48010933,\n",
       "        0.32074263, 0.4075869 , 0.44359744, 0.81643824, 0.13336539,\n",
       "        0.23850771, 0.17485464, 0.57973985, 0.61710356, 0.33382189,\n",
       "        0.24003994, 0.62488939, 0.59928057, 0.31392719, 0.54566515,\n",
       "        0.62781799, 0.46278163, 0.10241668, 0.58800308, 0.58904238,\n",
       "        0.54210077, 0.        , 0.45106134, 0.54941486, 0.49617142,\n",
       "        0.16986938, 0.33459263, 0.3512596 , 0.26153113, 0.71007533,\n",
       "        0.43706535, 0.73978121, 0.11575375, 0.28535687, 0.67726233,\n",
       "        0.2570059 , 0.29485018, 0.29798933, 0.43096961, 0.80246098,\n",
       "        0.23578351, 0.24004675, 0.36185495, 0.58604497, 0.68656315,\n",
       "        0.53780861, 0.44463695, 0.18492715, 0.48369791, 0.10457552,\n",
       "        0.62927031, 0.6997035 , 0.24148457, 0.22621661, 0.2210418 ,\n",
       "        0.63242534, 0.64229145, 0.52307281, 0.63884545, 0.30743228,\n",
       "        0.09080974, 0.08591826, 0.81224741, 0.79271944, 0.55100981,\n",
       "        0.29941877, 0.59375458, 0.55976807, 0.48763684, 0.28106583,\n",
       "        0.35060737, 0.54167525, 0.40826929, 0.56838476, 0.60546948,\n",
       "        0.26918507, 0.58500315, 0.31630711, 0.54687567, 0.33211178,\n",
       "        0.31196931, 0.62179951, 0.38667784, 0.27365514, 0.45832787,\n",
       "        0.41002445, 0.60509126, 0.07211999, 0.05328743, 0.47569055],\n",
       "       [0.8754356 , 1.26879883, 0.78628646, 0.22490159, 0.57449931,\n",
       "        0.80933682, 0.73301008, 1.08328387, 0.75006574, 0.89460642,\n",
       "        0.46666348, 0.61609316, 0.79323291, 1.26293461, 0.32043472,\n",
       "        0.47063285, 0.56528417, 0.99285633, 0.90100319, 0.70896572,\n",
       "        0.68742027, 0.95886949, 0.97251996, 0.59186647, 0.97289571,\n",
       "        0.95157382, 0.86094066, 0.54797391, 0.9272942 , 0.96570127,\n",
       "        0.97932297, 0.45106134, 0.        , 0.98151122, 0.91133114,\n",
       "        0.34896133, 0.53428011, 0.78898363, 0.65815219, 1.15197271,\n",
       "        0.80868009, 1.18701919, 0.52940528, 0.71495284, 0.97675179,\n",
       "        0.49969005, 0.47162965, 0.15326866, 0.88174081, 1.25058062,\n",
       "        0.56016841, 0.54956879, 0.78325071, 1.02050725, 1.13029605,\n",
       "        0.83583057, 0.88231227, 0.45608877, 0.84799263, 0.50030867,\n",
       "        0.85776285, 0.97475756, 0.48050013, 0.23426294, 0.49172531,\n",
       "        1.04569256, 1.03303902, 0.89116145, 1.05774912, 0.50036787,\n",
       "        0.39707715, 0.48099334, 1.26320299, 1.24345837, 0.9938006 ,\n",
       "        0.44543521, 0.93083881, 1.00229831, 0.85279343, 0.26756423,\n",
       "        0.79710165, 0.86612566, 0.81537655, 0.96610761, 0.87734945,\n",
       "        0.72024258, 1.03584092, 0.46594471, 0.98669005, 0.72386778,\n",
       "        0.60870256, 1.04245442, 0.06703001, 0.64741272, 0.84519501,\n",
       "        0.85353864, 1.01146744, 0.49373602, 0.39801433, 0.80596226],\n",
       "       [0.71786108, 0.36949359, 0.86304866, 0.79040008, 0.47713405,\n",
       "        0.36730168, 0.28875589, 0.58107372, 0.29045883, 0.11165213,\n",
       "        0.79535633, 0.53452608, 0.29693112, 0.30312376, 0.68015799,\n",
       "        0.55136408, 0.41772448, 0.51244903, 0.43604636, 0.30397239,\n",
       "        0.31582219, 0.33434994, 0.63802548, 0.46496883, 0.02669858,\n",
       "        0.75539998, 0.52392387, 0.4800859 , 0.31278374, 0.62486182,\n",
       "        0.38848035, 0.54941486, 0.98151122, 0.        , 0.47821944,\n",
       "        0.63699099, 0.55477316, 0.19843292, 0.32948694, 0.18112172,\n",
       "        0.25031866, 0.23883154, 0.5314828 , 0.26731531, 0.42686463,\n",
       "        0.70547998, 0.76481982, 0.83099085, 0.24453639, 0.43258057,\n",
       "        0.44743172, 0.64212844, 0.44432348, 0.41905721, 0.40130533,\n",
       "        0.75080195, 0.10718945, 0.66768704, 0.61140622, 0.55942193,\n",
       "        0.53663428, 0.48351215, 0.54277486, 0.74728993, 0.51952539,\n",
       "        0.11935262, 0.61292852, 0.61732999, 0.10812698, 0.75966279,\n",
       "        0.58504268, 0.56649988, 0.35757766, 0.33227412, 0.35158289,\n",
       "        0.61676483, 0.31910314, 0.0730079 , 0.61091127, 0.82688349,\n",
       "        0.21335712, 0.71032863, 0.18442881, 0.558703  , 0.45509009,\n",
       "        0.31894969, 0.24662587, 0.79101565, 0.04938314, 0.52424065,\n",
       "        0.44024227, 0.50081128, 0.92244296, 0.55910882, 0.55250268,\n",
       "        0.15178677, 0.54672864, 0.49197859, 0.59716034, 0.33043995],\n",
       "       [0.25226483, 0.47852667, 0.43108012, 0.68645868, 0.35913711,\n",
       "        0.1572441 , 0.32361595, 0.18093041, 0.59727298, 0.51696847,\n",
       "        0.52229021, 0.78443911, 0.64673307, 0.55608948, 0.60261585,\n",
       "        0.67949624, 0.52278424, 0.0836002 , 0.8411905 , 0.56387028,\n",
       "        0.36440427, 0.77327601, 0.16212142, 0.67879809, 0.49831575,\n",
       "        0.27834635, 0.07100591, 0.39604074, 0.74133092, 0.14867187,\n",
       "        0.12151662, 0.49617142, 0.91133114, 0.47821944, 0.        ,\n",
       "        0.66320065, 0.7481471 , 0.39838286, 0.51291187, 0.51484602,\n",
       "        0.60486839, 0.49063719, 0.39024284, 0.43214298, 0.86126158,\n",
       "        0.44419835, 0.49813783, 0.76801143, 0.23866534, 0.39986994,\n",
       "        0.60770721, 0.37763944, 0.13435604, 0.13683067, 0.26649486,\n",
       "        0.29806604, 0.41153076, 0.46180514, 0.15469605, 0.41604978,\n",
       "        0.9126791 , 0.91005861, 0.67677148, 0.71307635, 0.6480386 ,\n",
       "        0.59686226, 0.16230207, 0.14511072, 0.58101013, 0.47684872,\n",
       "        0.58359921, 0.43723668, 0.48139734, 0.47489078, 0.16299121,\n",
       "        0.75541021, 0.74855961, 0.42234532, 0.15209301, 0.66422695,\n",
       "        0.34486412, 0.24706461, 0.51446285, 0.09003016, 0.84830386,\n",
       "        0.30066978, 0.28651438, 0.51958947, 0.4349005 , 0.19068431,\n",
       "        0.66013619, 0.13141774, 0.84433276, 0.26853374, 0.10376413,\n",
       "        0.36908966, 0.11082156, 0.5001628 , 0.54435177, 0.69256317],\n",
       "       [0.7178398 , 0.94652351, 0.70993979, 0.21118965, 0.30465687,\n",
       "        0.52877226, 0.41309073, 0.84407148, 0.40300873, 0.54646508,\n",
       "        0.42370344, 0.3191004 , 0.44970524, 0.92654008, 0.14058215,\n",
       "        0.1413847 , 0.21928816, 0.74654068, 0.58220119, 0.36038167,\n",
       "        0.3629948 , 0.62266275, 0.76912875, 0.26027076, 0.62678538,\n",
       "        0.79412862, 0.63224177, 0.26717415, 0.58894048, 0.75891112,\n",
       "        0.70013026, 0.16986938, 0.34896133, 0.63699099, 0.66320065,\n",
       "        0.        , 0.23308634, 0.45034888, 0.31010576, 0.81159747,\n",
       "        0.46145082, 0.85224392, 0.28481696, 0.3738078 , 0.65332903,\n",
       "        0.38700998, 0.40547207, 0.20774858, 0.57032181, 0.94568436,\n",
       "        0.21379288, 0.39123638, 0.52893747, 0.74525428, 0.83733727,\n",
       "        0.69901041, 0.54180519, 0.31276866, 0.65288738, 0.26889056,\n",
       "        0.56403182, 0.66175546, 0.15010409, 0.12193357, 0.15138565,\n",
       "        0.69695176, 0.81165476, 0.69263888, 0.70952196, 0.42626847,\n",
       "        0.07976877, 0.24760144, 0.93937133, 0.91786503, 0.70437894,\n",
       "        0.16370931, 0.59319983, 0.66381457, 0.65690246, 0.29546535,\n",
       "        0.46700527, 0.70715919, 0.46687512, 0.73745242, 0.56310726,\n",
       "        0.40952267, 0.72117029, 0.41996242, 0.6462314 , 0.50193728,\n",
       "        0.27204227, 0.78639973, 0.296263  , 0.4414555 , 0.62819214,\n",
       "        0.51831015, 0.7729385 , 0.17120455, 0.13255509, 0.4676835 ],\n",
       "       [0.86655455, 0.9105749 , 0.89818069, 0.44274112, 0.42848546,\n",
       "        0.5938004 , 0.43619267, 0.92336875, 0.26824394, 0.44598293,\n",
       "        0.64158957, 0.0866589 , 0.28868459, 0.85789474, 0.36890735,\n",
       "        0.09884579, 0.22579544, 0.82599144, 0.36672709, 0.25180286,\n",
       "        0.38825056, 0.4320444 , 0.88362104, 0.08989934, 0.53631958,\n",
       "        0.93790195, 0.73799954, 0.39127096, 0.40398786, 0.871548  ,\n",
       "        0.74748206, 0.33459263, 0.53428011, 0.55477316, 0.7481471 ,\n",
       "        0.23308634, 0.        , 0.41585891, 0.25522304, 0.73561142,\n",
       "        0.32086029, 0.79161369, 0.4373294 , 0.34558149, 0.44265881,\n",
       "        0.5891135 , 0.61943985, 0.42043483, 0.58394161, 0.94057237,\n",
       "        0.14092309, 0.57406287, 0.62323478, 0.7935938 , 0.85608855,\n",
       "        0.86058701, 0.48678454, 0.51492675, 0.78271557, 0.43580171,\n",
       "        0.33347989, 0.44152735, 0.09390238, 0.34289689, 0.11425592,\n",
       "        0.5764992 , 0.90887587, 0.81659853, 0.59623203, 0.63611194,\n",
       "        0.26602654, 0.41954167, 0.90056149, 0.87632649, 0.73804338,\n",
       "        0.08893439, 0.40640362, 0.60400173, 0.78581702, 0.52854812,\n",
       "        0.45579387, 0.85583789, 0.3704921 , 0.83385494, 0.34348822,\n",
       "        0.45110609, 0.71366127, 0.63747779, 0.58086332, 0.62872052,\n",
       "        0.11469255, 0.85302651, 0.49730732, 0.58896757, 0.74399472,\n",
       "        0.48452229, 0.85776239, 0.28162329, 0.32879272, 0.2870244 ],\n",
       "       [0.60064807, 0.50389782, 0.71569123, 0.59290168, 0.2844954 ,\n",
       "        0.24871433, 0.10635589, 0.54965951, 0.20284005, 0.15154011,\n",
       "        0.60645665, 0.42339393, 0.24864793, 0.47622724, 0.48274379,\n",
       "        0.38625877, 0.23384311, 0.46012533, 0.44329618, 0.18009394,\n",
       "        0.11955226, 0.38523709, 0.55762929, 0.32961888, 0.19695536,\n",
       "        0.65348341, 0.41993315, 0.28349623, 0.35061042, 0.54419727,\n",
       "        0.35623496, 0.3512596 , 0.78898363, 0.19843292, 0.39838286,\n",
       "        0.45034888, 0.41585891, 0.        , 0.16227591, 0.36300015,\n",
       "        0.20661788, 0.40199768, 0.33756932, 0.07751819, 0.46859467,\n",
       "        0.51823044, 0.57598229, 0.63707502, 0.18053131, 0.52493502,\n",
       "        0.28567722, 0.45917148, 0.31462656, 0.39987164, 0.44355823,\n",
       "        0.621369  , 0.09377609, 0.47446546, 0.49605677, 0.36423471,\n",
       "        0.51565991, 0.51441557, 0.37910077, 0.55496313, 0.35226561,\n",
       "        0.29226917, 0.5567556 , 0.51429492, 0.29375616, 0.57362397,\n",
       "        0.3919628 , 0.36986772, 0.49535637, 0.47252757, 0.33677346,\n",
       "        0.45929918, 0.35783567, 0.21378672, 0.49700972, 0.62852713,\n",
       "        0.05356853, 0.59147257, 0.11850065, 0.48814171, 0.44992105,\n",
       "        0.14094329, 0.29781393, 0.60200826, 0.19774989, 0.37516093,\n",
       "        0.30600358, 0.47144711, 0.72833254, 0.39088134, 0.44084688,\n",
       "        0.07052205, 0.49515165, 0.29617917, 0.39976418, 0.29439265],\n",
       "       [0.67219926, 0.66434122, 0.74863175, 0.48430822, 0.2650065 ,\n",
       "        0.35568154, 0.19014115, 0.68095867, 0.12766121, 0.23647308,\n",
       "        0.56827404, 0.27394305, 0.18851475, 0.62657467, 0.37660565,\n",
       "        0.226142  , 0.09480622, 0.58569552, 0.37952021, 0.07603102,\n",
       "        0.14988893, 0.36756718, 0.66104871, 0.17242112, 0.31757187,\n",
       "        0.73596539, 0.51565106, 0.24205851, 0.33025098, 0.64815643,\n",
       "        0.49738518, 0.26153113, 0.65815219, 0.32948694, 0.51291187,\n",
       "        0.31010576, 0.25522304, 0.16227591, 0.        , 0.50785988,\n",
       "        0.1759221 , 0.5552168 , 0.30292269, 0.09047817, 0.42925834,\n",
       "        0.48994796, 0.53952452, 0.51120637, 0.32962048, 0.68692813,\n",
       "        0.12378891, 0.44694894, 0.40043489, 0.54305022, 0.60094028,\n",
       "        0.67962079, 0.24275663, 0.4287316 , 0.5759458 , 0.3193865 ,\n",
       "        0.42091626, 0.46058357, 0.21843544, 0.42553204, 0.19280404,\n",
       "        0.38791887, 0.67521148, 0.60344983, 0.39960727, 0.54533637,\n",
       "        0.2683476 , 0.31507655, 0.65528639, 0.63190273, 0.48502822,\n",
       "        0.2975781 , 0.33642375, 0.36484502, 0.57812783, 0.53904255,\n",
       "        0.20060837, 0.66197293, 0.15742449, 0.60184943, 0.37512152,\n",
       "        0.21280906, 0.45929812, 0.56371034, 0.34447963, 0.43090372,\n",
       "        0.15070018, 0.60705483, 0.60220774, 0.41625811, 0.52841472,\n",
       "        0.23233393, 0.61914146, 0.19106085, 0.29733161, 0.22713942],\n",
       "       [0.76702207, 0.21660445, 0.93660507, 0.95262547, 0.61919733,\n",
       "        0.45323442, 0.43229873, 0.56194723, 0.4698054 , 0.29030743,\n",
       "        0.92331551, 0.71239961, 0.46971514, 0.12280186, 0.84301287,\n",
       "        0.73159386, 0.59277327, 0.52026636, 0.57847212, 0.48508868,\n",
       "        0.47034095, 0.46303729, 0.65819291, 0.64588396, 0.19966855,\n",
       "        0.78781064, 0.57598252, 0.62969041, 0.45209696, 0.64636037,\n",
       "        0.39992972, 0.71007533, 1.15197271, 0.18112172, 0.51484602,\n",
       "        0.81159747, 0.73561142, 0.36300015, 0.50785988, 0.        ,\n",
       "        0.42548553, 0.07345455, 0.67409185, 0.4380813 , 0.55046428,\n",
       "        0.83258653, 0.89323445, 0.99990669, 0.32701819, 0.31437148,\n",
       "        0.62763966, 0.76479074, 0.52758282, 0.41230069, 0.33963881,\n",
       "        0.81021087, 0.27002641, 0.80588625, 0.66578832, 0.70392388,\n",
       "        0.6865641 , 0.60902099, 0.72314134, 0.91795841, 0.69936269,\n",
       "        0.2022572 , 0.61319397, 0.65990442, 0.17422033, 0.88369278,\n",
       "        0.75496232, 0.71440817, 0.20265656, 0.1780624 , 0.35685023,\n",
       "        0.79774714, 0.45703872, 0.15032418, 0.66399303, 0.98016354,\n",
       "        0.36009822, 0.7614997 , 0.36550453, 0.57734519, 0.60221141,\n",
       "        0.45574161, 0.22960495, 0.91923594, 0.16548495, 0.61663387,\n",
       "        0.62118969, 0.48955349, 1.09106414, 0.66799594, 0.60850489,\n",
       "        0.30007688, 0.54966109, 0.65875473, 0.76039891, 0.49784571],\n",
       "       [0.80186918, 0.61934366, 0.9017232 , 0.65207782, 0.43068946,\n",
       "        0.45465916, 0.29844374, 0.75134408, 0.05862304, 0.1391538 ,\n",
       "        0.74252451, 0.28744908, 0.04846062, 0.54817789, 0.54710653,\n",
       "        0.34393034, 0.26526525, 0.66454057, 0.23679098, 0.1046768 ,\n",
       "        0.28247723, 0.19534611, 0.76421582, 0.23492598, 0.2274997 ,\n",
       "        0.8577119 , 0.62552941, 0.41289114, 0.15806219, 0.75079034,\n",
       "        0.55496701, 0.43706535, 0.80868009, 0.25031866, 0.60486839,\n",
       "        0.46145082, 0.32086029, 0.20661788, 0.1759221 , 0.42548553,\n",
       "        0.        , 0.48829743, 0.47382913, 0.19648223, 0.26830484,\n",
       "        0.66200241, 0.7133835 , 0.66862339, 0.37909486, 0.67319346,\n",
       "        0.24851172, 0.61455339, 0.51723617, 0.59624515, 0.61807225,\n",
       "        0.81820164, 0.22094275, 0.60324008, 0.69893689, 0.49264891,\n",
       "        0.31311028, 0.30995983, 0.33423114, 0.5823158 , 0.31830431,\n",
       "        0.25564402, 0.76229806, 0.71927641, 0.27586747, 0.71779691,\n",
       "        0.43451608, 0.48975093, 0.60765638, 0.58242149, 0.52996863,\n",
       "        0.3956078 , 0.16476367, 0.31310908, 0.70020195, 0.71219191,\n",
       "        0.26003557, 0.79232559, 0.09280393, 0.69449877, 0.24366229,\n",
       "        0.33140824, 0.46167643, 0.73795692, 0.28756431, 0.56833117,\n",
       "        0.21203541, 0.67175301, 0.75771293, 0.56927179, 0.64512952,\n",
       "        0.24651295, 0.69976765, 0.36589013, 0.4703959 , 0.09079498],\n",
       "       [0.74197144, 0.14317873, 0.91933853, 0.98158798, 0.63886788,\n",
       "        0.45159848, 0.4575369 , 0.5158573 , 0.52918304, 0.35039406,\n",
       "        0.93152225, 0.77335761, 0.53392301, 0.07723075, 0.87314495,\n",
       "        0.7809682 , 0.63541088, 0.4848935 , 0.65032649, 0.53988142,\n",
       "        0.50021513, 0.53575143, 0.62400057, 0.70171531, 0.26079777,\n",
       "        0.75604957, 0.55597935, 0.65344172, 0.52386875, 0.61289375,\n",
       "        0.3709834 , 0.73978121, 1.18701919, 0.23883154, 0.49063719,\n",
       "        0.85224392, 0.79161369, 0.40199768, 0.5552168 , 0.07345455,\n",
       "        0.48829743, 0.        , 0.69315884, 0.47909682, 0.62364102,\n",
       "        0.84125608, 0.90196071, 1.03408354, 0.33205266, 0.24456266,\n",
       "        0.67739464, 0.77202764, 0.52192686, 0.37568043, 0.28637116,\n",
       "        0.78861336, 0.31281404, 0.82080012, 0.64457688, 0.72363257,\n",
       "        0.75766252, 0.68219518, 0.77290648, 0.9541087 , 0.74795334,\n",
       "        0.27502018, 0.57272401, 0.6341599 , 0.24695609, 0.8902329 ,\n",
       "        0.7914043 , 0.73595746, 0.12929207, 0.10460939, 0.32820408,\n",
       "        0.84963043, 0.52897337, 0.19037357, 0.64229953, 1.00269019,\n",
       "        0.39000718, 0.73732277, 0.42143824, 0.5443882 , 0.67354016,\n",
       "        0.47679873, 0.20606058, 0.92761726, 0.21156984, 0.61242661,\n",
       "        0.67692118, 0.44818408, 1.12461331, 0.67014468, 0.58923073,\n",
       "        0.33432465, 0.51164771, 0.69346209, 0.79146596, 0.56434551],\n",
       "       [0.43753603, 0.75416792, 0.46374925, 0.30650836, 0.05495716,\n",
       "        0.28037299, 0.24407511, 0.56896787, 0.43031045, 0.48364393,\n",
       "        0.2718688 , 0.50290088, 0.49133055, 0.77037579, 0.21329991,\n",
       "        0.34566845, 0.2401473 , 0.47364264, 0.67996076, 0.3789278 ,\n",
       "        0.21809069, 0.66858239, 0.48483388, 0.40164254, 0.53340454,\n",
       "        0.51249452, 0.35121846, 0.06101576, 0.63118332, 0.4749026 ,\n",
       "        0.44996209, 0.11575375, 0.52940528, 0.5314828 , 0.39024284,\n",
       "        0.28481696, 0.4373294 , 0.33756932, 0.30292269, 0.67409185,\n",
       "        0.47382913, 0.69315884, 0.        , 0.29084832, 0.73213652,\n",
       "        0.188259  , 0.2418565 , 0.38110594, 0.36682112, 0.72434138,\n",
       "        0.31995182, 0.14589295, 0.25752749, 0.49159288, 0.60147859,\n",
       "        0.42541564, 0.42432342, 0.13690583, 0.36812719, 0.03084739,\n",
       "        0.70745351, 0.76187341, 0.34712428, 0.32283512, 0.32326112,\n",
       "        0.62972367, 0.5305658 , 0.4078465 , 0.63106683, 0.24418296,\n",
       "        0.20644721, 0.0484177 , 0.75035128, 0.73306384, 0.46499042,\n",
       "        0.41156411, 0.63761624, 0.52663144, 0.37211388, 0.31072465,\n",
       "        0.31929127, 0.42677343, 0.42331737, 0.45763303, 0.67270051,\n",
       "        0.21836167, 0.518601  , 0.26733338, 0.51863165, 0.21774289,\n",
       "        0.39426713, 0.51909855, 0.46265797, 0.15811083, 0.34459996,\n",
       "        0.38165936, 0.49690096, 0.15586558, 0.15676068, 0.52968026],\n",
       "       [0.60986356, 0.58100728, 0.70526436, 0.52408691, 0.2422101 ,\n",
       "        0.27560435, 0.10969409, 0.59551369, 0.17089906, 0.19625648,\n",
       "        0.56271699, 0.36210149, 0.22774398, 0.55286827, 0.41389509,\n",
       "        0.30995592, 0.15640569, 0.50169929, 0.42713322, 0.13203783,\n",
       "        0.08599537, 0.38995879, 0.58525627, 0.26255834, 0.26127243,\n",
       "        0.669172  , 0.44184845, 0.23203956, 0.35314639, 0.57208902,\n",
       "        0.40882795, 0.28535687, 0.71495284, 0.26731531, 0.43214298,\n",
       "        0.3738078 , 0.34558149, 0.07751819, 0.09047817, 0.4380813 ,\n",
       "        0.19648223, 0.47909682, 0.29084832, 0.        , 0.46462105,\n",
       "        0.47769181, 0.53266844, 0.56388012, 0.23931162, 0.59832568,\n",
       "        0.21113095, 0.42477291, 0.32902656, 0.45418007, 0.51051322,\n",
       "        0.62344982, 0.16808508, 0.4261863 , 0.50921724, 0.31418087,\n",
       "        0.48513954, 0.50411215, 0.3030916 , 0.48069982, 0.27580063,\n",
       "        0.34749443, 0.59393543, 0.53302782, 0.35349017, 0.53370431,\n",
       "        0.31803247, 0.31614981, 0.57261994, 0.54990986, 0.39513547,\n",
       "        0.38395577, 0.36007616, 0.29003756, 0.51089072, 0.56582766,\n",
       "        0.11022551, 0.60004161, 0.13263771, 0.52192026, 0.42849304,\n",
       "        0.13910737, 0.37029724, 0.55818167, 0.27260727, 0.37312381,\n",
       "        0.24024827, 0.52018002, 0.65530754, 0.37308969, 0.45801488,\n",
       "        0.14764794, 0.53578705, 0.224898  , 0.33105968, 0.27254816],\n",
       "       [1.06842422, 0.76668972, 1.16955346, 0.86158664, 0.69312183,\n",
       "        0.71682475, 0.56584438, 0.99353131, 0.30251127, 0.34878331,\n",
       "        0.99420052, 0.36445211, 0.24145848, 0.65863546, 0.76712128,\n",
       "        0.51409504, 0.50306736, 0.91352568, 0.07810246, 0.3533502 ,\n",
       "        0.55057263, 0.09257621, 1.02271589, 0.39307437, 0.40034085,\n",
       "        1.12205887, 0.88806081, 0.67131357, 0.12017538, 1.00923087,\n",
       "        0.7961283 , 0.67726233, 0.97675179, 0.42686463, 0.86126158,\n",
       "        0.65332903, 0.44265881, 0.46859467, 0.42925834, 0.55046428,\n",
       "        0.26830484, 0.62364102, 0.73213652, 0.46462105, 0.        ,\n",
       "        0.91850595, 0.96621882, 0.85602316, 0.62624951, 0.85116059,\n",
       "        0.45154643, 0.87602462, 0.78279516, 0.83304222, 0.82804364,\n",
       "        1.08612162, 0.45406433, 0.85480601, 0.96445742, 0.74761084,\n",
       "        0.1731948 , 0.05855673, 0.5046904 , 0.77332646, 0.50242782,\n",
       "        0.34893805, 1.01346643, 0.98271832, 0.37694572, 0.97352028,\n",
       "        0.65151389, 0.74157859, 0.75291229, 0.7280098 , 0.76492938,\n",
       "        0.5315931 , 0.11300495, 0.49985657, 0.96549302, 0.93524288,\n",
       "        0.52041009, 1.05904746, 0.35009402, 0.9494887 , 0.10693311,\n",
       "        0.59925466, 0.67217651, 0.98966182, 0.47574692, 0.83650341,\n",
       "        0.38254062, 0.91273159, 0.93740793, 0.83668595, 0.90943959,\n",
       "        0.49276417, 0.94885023, 0.60535169, 0.70015704, 0.20282918],\n",
       "       [0.37635891, 0.88044531, 0.32476582, 0.28840387, 0.23577569,\n",
       "        0.39476441, 0.41738547, 0.60028256, 0.61758426, 0.66749583,\n",
       "        0.09074748, 0.66432388, 0.67845127, 0.91743905, 0.25780701,\n",
       "        0.49110663, 0.41956904, 0.51866384, 0.86393629, 0.56595558,\n",
       "        0.40053387, 0.85655275, 0.47682217, 0.57041298, 0.71033954,\n",
       "        0.45313739, 0.38240324, 0.24911681, 0.81915459, 0.47119303,\n",
       "        0.53940412, 0.2570059 , 0.49969005, 0.70547998, 0.44419835,\n",
       "        0.38700998, 0.5891135 , 0.51823044, 0.48994796, 0.83258653,\n",
       "        0.66200241, 0.84125608, 0.188259  , 0.47769181, 0.91850595,\n",
       "        0.        , 0.0607338 , 0.38077616, 0.50929041, 0.82850255,\n",
       "        0.49091432, 0.07036472, 0.33831408, 0.57224135, 0.69704324,\n",
       "        0.3404837 , 0.59950163, 0.0748751 , 0.35290271, 0.17092151,\n",
       "        0.88403124, 0.94626889, 0.49526185, 0.36224227, 0.47691047,\n",
       "        0.80976996, 0.54237771, 0.39588506, 0.80881369, 0.05602917,\n",
       "        0.3265323 , 0.17888904, 0.87903686, 0.86513993, 0.56652632,\n",
       "        0.54286376, 0.82553665, 0.69085314, 0.35780506, 0.23418755,\n",
       "        0.49232637, 0.36684245, 0.61032947, 0.48141898, 0.85497638,\n",
       "        0.38653578, 0.6491621 , 0.0866495 , 0.68655401, 0.25574768,\n",
       "        0.56706229, 0.57342302, 0.43561293, 0.18077174, 0.3602001 ,\n",
       "        0.5537273 , 0.5308234 , 0.32257719, 0.26266322, 0.71572439],\n",
       "       [0.40694525, 0.94013151, 0.32494434, 0.2746994 , 0.29208688,\n",
       "        0.4549093 , 0.47633882, 0.64843749, 0.66707619, 0.72431383,\n",
       "        0.03054399, 0.69787038, 0.72757864, 0.9781112 , 0.26834412,\n",
       "        0.52065367, 0.46428599, 0.57021666, 0.90931526, 0.61525552,\n",
       "        0.45752212, 0.90700906, 0.5187112 , 0.60820244, 0.76917995,\n",
       "        0.4817466 , 0.43409837, 0.30172982, 0.86965244, 0.51417881,\n",
       "        0.59675038, 0.29485018, 0.47162965, 0.76481982, 0.49813783,\n",
       "        0.40547207, 0.61943985, 0.57598229, 0.53952452, 0.89323445,\n",
       "        0.7133835 , 0.90196071, 0.2418565 , 0.53266844, 0.96621882,\n",
       "        0.0607338 , 0.        , 0.36666701, 0.57001282, 0.88625667,\n",
       "        0.53063345, 0.13041814, 0.39682776, 0.62835653, 0.75425418,\n",
       "        0.36459823, 0.65854124, 0.11148863, 0.39663871, 0.22077006,\n",
       "        0.92409527, 0.99186178, 0.52571717, 0.36215854, 0.50978976,\n",
       "        0.86796911, 0.58741917, 0.43892967, 0.86756141, 0.02874312,\n",
       "        0.35365855, 0.22473919, 0.9388926 , 0.92522307, 0.62491912,\n",
       "        0.5662564 , 0.87589219, 0.75117766, 0.4015683 , 0.20427731,\n",
       "        0.55151539, 0.39819548, 0.66517236, 0.52982779, 0.89898794,\n",
       "        0.44600198, 0.7094049 , 0.02620572, 0.74659162, 0.3121524 ,\n",
       "        0.60681469, 0.62584664, 0.41038321, 0.23913053, 0.40985764,\n",
       "        0.6131584 , 0.58032004, 0.36416543, 0.2906673 , 0.76344497],\n",
       "       [0.75510361, 1.11563252, 0.69132126, 0.09258192, 0.42385263,\n",
       "        0.65952408, 0.57974148, 0.94318308, 0.61032948, 0.74702695,\n",
       "        0.37018159, 0.50634076, 0.65744074, 1.110132  , 0.1689939 ,\n",
       "        0.3421488 , 0.41713374, 0.85054618, 0.78281101, 0.56651729,\n",
       "        0.53426595, 0.82935491, 0.84045809, 0.4640546 , 0.82325224,\n",
       "        0.83243876, 0.72137779, 0.39593862, 0.79607023, 0.83267076,\n",
       "        0.83060353, 0.29798933, 0.15326866, 0.83099085, 0.76801143,\n",
       "        0.20774858, 0.42043483, 0.63707502, 0.51120637, 0.99990669,\n",
       "        0.66862339, 1.03408354, 0.38110594, 0.56388012, 0.85602316,\n",
       "        0.38077616, 0.36666701, 0.        , 0.7288789 , 1.09884435,\n",
       "        0.42151074, 0.42004663, 0.63752578, 0.87263625, 0.97993236,\n",
       "        0.72123983, 0.73062357, 0.32514056, 0.71656398, 0.35309514,\n",
       "        0.75306712, 0.86031407, 0.35170083, 0.08633129, 0.35766263,\n",
       "        0.89908358, 0.89689351, 0.75943181, 0.91001776, 0.39457821,\n",
       "        0.24595703, 0.33282992, 1.10998374, 1.09020025, 0.84356377,\n",
       "        0.33521016, 0.80018389, 0.85000202, 0.7212278 , 0.17461672,\n",
       "        0.64409874, 0.74522477, 0.66860915, 0.82761233, 0.76169304,\n",
       "        0.56715968, 0.88295006, 0.36821627, 0.8348228 , 0.58389767,\n",
       "        0.47788127, 0.89838387, 0.09145925, 0.50942895, 0.70818594,\n",
       "        0.70094601, 0.87103335, 0.34121533, 0.24485216, 0.67463017],\n",
       "       [0.47333481, 0.38853228, 0.62294004, 0.66623235, 0.31421957,\n",
       "        0.1283253 , 0.15817229, 0.37225551, 0.38265051, 0.27925196,\n",
       "        0.59967693, 0.6002872 , 0.42438344, 0.40853665, 0.56183068,\n",
       "        0.53857185, 0.37577344, 0.28756134, 0.61183216, 0.35995954,\n",
       "        0.20940945, 0.53684047, 0.40066509, 0.50186982, 0.26237875,\n",
       "        0.51265374, 0.27964257, 0.33501483, 0.50607462, 0.38724929,\n",
       "        0.17640106, 0.43096961, 0.88174081, 0.24453639, 0.23866534,\n",
       "        0.57032181, 0.58394161, 0.18053131, 0.32962048, 0.32701819,\n",
       "        0.37909486, 0.33205266, 0.36682112, 0.23931162, 0.62624951,\n",
       "        0.50929041, 0.57001282, 0.7288789 , 0.        , 0.37536256,\n",
       "        0.44628488, 0.44030053, 0.20511369, 0.21941291, 0.27382783,\n",
       "        0.50690934, 0.17341324, 0.49006864, 0.36687259, 0.3976485 ,\n",
       "        0.69184236, 0.67693139, 0.5330044 , 0.65540749, 0.50437391,\n",
       "        0.36387293, 0.387228  , 0.37367305, 0.35106106, 0.55882216,\n",
       "        0.49855451, 0.41216155, 0.38408203, 0.36631503, 0.15671676,\n",
       "        0.6149324 , 0.51325388, 0.20002712, 0.36637874, 0.6775236 ,\n",
       "        0.13089874, 0.46579439, 0.28643269, 0.32448392, 0.62184925,\n",
       "        0.1624951 , 0.15410603, 0.59573675, 0.20626069, 0.2914972 ,\n",
       "        0.47945604, 0.2927686 , 0.81670902, 0.34107664, 0.30796647,\n",
       "        0.13418107, 0.32291483, 0.40013867, 0.48422293, 0.46937069],\n",
       "       [0.62228304, 0.12514798, 0.81644773, 1.03032935, 0.67644583,\n",
       "        0.4452358 , 0.53305836, 0.34026603, 0.70065973, 0.53646267,\n",
       "        0.91270522, 0.94102624, 0.72150954, 0.25838397, 0.93023812,\n",
       "        0.90708893, 0.74664823, 0.35387943, 0.86758632, 0.69598145,\n",
       "        0.58392715, 0.76011836, 0.48139725, 0.85327783, 0.45892891,\n",
       "        0.61285852, 0.47063746, 0.7029065 , 0.74260322, 0.47380813,\n",
       "        0.28970162, 0.80246098, 1.25058062, 0.43258057, 0.39986994,\n",
       "        0.94568436, 0.94057237, 0.52493502, 0.68692813, 0.31437148,\n",
       "        0.67319346, 0.24456266, 0.72434138, 0.59832568, 0.85116059,\n",
       "        0.82850255, 0.88625667, 1.09884435, 0.37536256, 0.        ,\n",
       "        0.80943106, 0.7587025 , 0.49046988, 0.26310959, 0.13354195,\n",
       "        0.67776193, 0.46007396, 0.82992246, 0.54546525, 0.75468482,\n",
       "        0.96921384, 0.90923336, 0.90069217, 1.02832252, 0.87277786,\n",
       "        0.50487558, 0.412252  , 0.52026779, 0.4775689 , 0.8678235 ,\n",
       "        0.87345656, 0.77218909, 0.13726055, 0.15173612, 0.26293583,\n",
       "        0.98203251, 0.74851952, 0.36240822, 0.54172937, 1.02889068,\n",
       "        0.48975553, 0.62089676, 0.58957879, 0.41420761, 0.887462  ,\n",
       "        0.53700509, 0.22816888, 0.90955967, 0.38820402, 0.57445594,\n",
       "        0.82914845, 0.30005397, 1.18455964, 0.64773119, 0.50244483,\n",
       "        0.45611556, 0.3668951 , 0.77535118, 0.85567683, 0.75921   ],\n",
       "       [0.73588779, 0.78809547, 0.7834798 , 0.41332625, 0.30106123,\n",
       "        0.45295799, 0.29587325, 0.7824802 , 0.18989985, 0.34658364,\n",
       "        0.55635097, 0.18631929, 0.23620198, 0.74766872, 0.31567472,\n",
       "        0.10395825, 0.0878113 , 0.68517756, 0.38620968, 0.1511163 ,\n",
       "        0.24743673, 0.41207183, 0.74552941, 0.08179768, 0.43298303,\n",
       "        0.80526846, 0.59956015, 0.26663992, 0.37731723, 0.7332575 ,\n",
       "        0.60723114, 0.23578351, 0.56016841, 0.44743172, 0.60770721,\n",
       "        0.21379288, 0.14092309, 0.28567722, 0.12378891, 0.62763966,\n",
       "        0.24851172, 0.67739464, 0.31995182, 0.21113095, 0.45154643,\n",
       "        0.49091432, 0.53063345, 0.42151074, 0.44628488, 0.80943106,\n",
       "        0.        , 0.46381071, 0.48427478, 0.65341168, 0.7196326 ,\n",
       "        0.73418956, 0.36576499, 0.42036506, 0.64808026, 0.32521257,\n",
       "        0.39354631, 0.46839824, 0.09557843, 0.33545654, 0.07268944,\n",
       "        0.49200205, 0.76881875, 0.68048017, 0.50724629, 0.54270179,\n",
       "        0.20001283, 0.31300333, 0.77898032, 0.75551543, 0.59893854,\n",
       "        0.17378973, 0.38195876, 0.48719233, 0.65095512, 0.48382174,\n",
       "        0.32066   , 0.72526679, 0.26654066, 0.69394737, 0.37218424,\n",
       "        0.31018617, 0.58142811, 0.55193918, 0.46603984, 0.49541661,\n",
       "        0.07623281, 0.71215422, 0.50976301, 0.46256953, 0.6070141 ,\n",
       "        0.35596012, 0.71708762, 0.16853978, 0.25041985, 0.25717983],\n",
       "       [0.33758793, 0.81008621, 0.32440401, 0.32993447, 0.18387572,\n",
       "        0.32452785, 0.35585828, 0.53888985, 0.57362001, 0.60990943,\n",
       "        0.15955286, 0.64406788, 0.63471728, 0.8480216 , 0.27687928,\n",
       "        0.47854994, 0.385822  , 0.4541544 , 0.82526173, 0.52270252,\n",
       "        0.34397068, 0.80986601, 0.42297698, 0.54510528, 0.64821922,\n",
       "        0.41517838, 0.3184012 , 0.20548166, 0.77252489, 0.41615259,\n",
       "        0.46993799, 0.24004675, 0.54956879, 0.64212844, 0.37763944,\n",
       "        0.39123638, 0.57406287, 0.45917148, 0.44694894, 0.76479074,\n",
       "        0.61455339, 0.77202764, 0.14589295, 0.42477291, 0.87602462,\n",
       "        0.07036472, 0.13041814, 0.42004663, 0.44030053, 0.7587025 ,\n",
       "        0.46381071, 0.        , 0.26830795, 0.50360177, 0.62758263,\n",
       "        0.31075339, 0.53710931, 0.09491534, 0.2984674 , 0.13912789,\n",
       "        0.85314956, 0.90696924, 0.48139291, 0.38824487, 0.46000208,\n",
       "        0.74895748, 0.48453097, 0.34162182, 0.74676593, 0.11893051,\n",
       "        0.3216903 , 0.15453125, 0.80870298, 0.79488217, 0.49647611,\n",
       "        0.53758747, 0.77911992, 0.62458989, 0.30325389, 0.29026776,\n",
       "        0.42984329, 0.32736674, 0.55686451, 0.42030708, 0.81841251,\n",
       "        0.32371501, 0.57899818, 0.15572364, 0.62126334, 0.18765175,\n",
       "        0.5389021 , 0.50792596, 0.4838093 , 0.11122505, 0.29864098,\n",
       "        0.49041266, 0.46833057, 0.2964986 , 0.25984456, 0.67407468],\n",
       "       [0.2860658 , 0.54498122, 0.41891862, 0.55853221, 0.22478461,\n",
       "        0.07730115, 0.22019805, 0.31513753, 0.49957912, 0.4542108 ,\n",
       "        0.42417433, 0.66570885, 0.55428994, 0.59526879, 0.47068207,\n",
       "        0.55003029, 0.3975155 , 0.21789046, 0.75307859, 0.45999741,\n",
       "        0.25082111, 0.69979799, 0.26183753, 0.55900327, 0.45886531,\n",
       "        0.34075111, 0.1157422 , 0.26176337, 0.66522709, 0.24931205,\n",
       "        0.20268052, 0.36185495, 0.78325071, 0.44432348, 0.13435604,\n",
       "        0.52893747, 0.62323478, 0.31462656, 0.40043489, 0.52758282,\n",
       "        0.51723617, 0.52192686, 0.25752749, 0.32902656, 0.78279516,\n",
       "        0.33831408, 0.39682776, 0.63752578, 0.20511369, 0.49046988,\n",
       "        0.48427478, 0.26830795, 0.        , 0.23961532, 0.360002  ,\n",
       "        0.31006107, 0.3556612 , 0.34226698, 0.1817471 , 0.28449941,\n",
       "        0.81408854, 0.82708691, 0.54788521, 0.58008935, 0.51949871,\n",
       "        0.56245759, 0.28765408, 0.2040548 , 0.55226184, 0.38000656,\n",
       "        0.44929729, 0.30519862, 0.54455345, 0.53244784, 0.22821303,\n",
       "        0.62514564, 0.67244908, 0.40502928, 0.18296578, 0.54402739,\n",
       "        0.26468463, 0.2769948 , 0.43293195, 0.21235555, 0.75639255,\n",
       "        0.19017994, 0.31988368, 0.42081039, 0.40988396, 0.09066048,\n",
       "        0.54212047, 0.26159023, 0.71623321, 0.15771175, 0.12899217,\n",
       "        0.30756584, 0.2441461 , 0.36721341, 0.41036686, 0.59983752],\n",
       "       [0.37337298, 0.34538187, 0.56163356, 0.7963442 , 0.45093544,\n",
       "        0.21677817, 0.35753854, 0.16205159, 0.60201358, 0.4846077 ,\n",
       "        0.65375657, 0.81627186, 0.6424293 , 0.43431956, 0.70423138,\n",
       "        0.73808615, 0.57531603, 0.10921599, 0.82532389, 0.57870485,\n",
       "        0.40678354, 0.74149653, 0.24833876, 0.71519267, 0.4431354 ,\n",
       "        0.38083331, 0.20774401, 0.4836288 , 0.71355445, 0.23738208,\n",
       "        0.04627365, 0.58604497, 1.02050725, 0.41905721, 0.13683067,\n",
       "        0.74525428, 0.7935938 , 0.39987164, 0.54305022, 0.41230069,\n",
       "        0.59624515, 0.37568043, 0.49159288, 0.45418007, 0.83304222,\n",
       "        0.57224135, 0.62835653, 0.87263625, 0.21941291, 0.26310959,\n",
       "        0.65341168, 0.50360177, 0.23961532, 0.        , 0.12966853,\n",
       "        0.42497892, 0.38094952, 0.58158575, 0.28632631, 0.52024742,\n",
       "        0.90935531, 0.8862311 , 0.73374217, 0.81029759, 0.70468352,\n",
       "        0.53108326, 0.20159177, 0.26669681, 0.51066026, 0.6085162 ,\n",
       "        0.66757102, 0.53996117, 0.34940896, 0.34535232, 0.06818499,\n",
       "        0.81510973, 0.72056573, 0.35204748, 0.28299764, 0.78359707,\n",
       "        0.34913497, 0.37017999, 0.50345918, 0.169375  , 0.83720738,\n",
       "        0.3464641 , 0.18629118, 0.65081951, 0.37077638, 0.31651394,\n",
       "        0.69374564, 0.08191411, 0.95358964, 0.39250172, 0.23998313,\n",
       "        0.34973265, 0.13736149, 0.57544133, 0.63753187, 0.68692958],\n",
       "       [0.49531907, 0.22398922, 0.68728591, 0.90797724, 0.556095  ,\n",
       "        0.32111162, 0.4303981 , 0.23284946, 0.63571002, 0.49001531,\n",
       "        0.78034676, 0.86685513, 0.6662668 , 0.33101329, 0.8109399 ,\n",
       "        0.81235402, 0.64938168, 0.22575681, 0.83252788, 0.62224327,\n",
       "        0.48173332, 0.73547968, 0.35960617, 0.772083  , 0.42773818,\n",
       "        0.49292338, 0.33736927, 0.58519406, 0.71240629, 0.35064325,\n",
       "        0.1576496 , 0.68656315, 1.13029605, 0.40130533, 0.26649486,\n",
       "        0.83733727, 0.85608855, 0.44355823, 0.60094028, 0.33963881,\n",
       "        0.61807225, 0.28637116, 0.60147859, 0.51051322, 0.82804364,\n",
       "        0.69704324, 0.75425418, 0.97993236, 0.27382783, 0.13354195,\n",
       "        0.7196326 , 0.62758263, 0.360002  , 0.12966853, 0.        ,\n",
       "        0.54929426, 0.39729096, 0.70140338, 0.41397854, 0.63130779,\n",
       "        0.9265175 , 0.88431655, 0.80682756, 0.91272239, 0.77817638,\n",
       "        0.49774727, 0.29709287, 0.39097927, 0.4732138 , 0.73532281,\n",
       "        0.7623768 , 0.64975535, 0.23033   , 0.23135408, 0.13651102,\n",
       "        0.88875796, 0.7189717 , 0.32844528, 0.41040904, 0.9018833 ,\n",
       "        0.40033329, 0.4931627 , 0.52811188, 0.28719529, 0.84866314,\n",
       "        0.42843647, 0.15752287, 0.77727271, 0.35229777, 0.44215019,\n",
       "        0.74892683, 0.17615904, 1.06378039, 0.51640231, 0.36942419,\n",
       "        0.38041845, 0.24364778, 0.66613412, 0.7393461 , 0.70788087],\n",
       "       [0.05919148, 0.77018519, 0.13902662, 0.62888641, 0.43341876,\n",
       "        0.38502234, 0.52037859, 0.35971949, 0.79309877, 0.76404129,\n",
       "        0.37354692, 0.92039463, 0.85114967, 0.85393782, 0.5873373 ,\n",
       "        0.77087959, 0.64779332, 0.3240548 , 1.05044565, 0.74825067,\n",
       "        0.53866096, 1.00594033, 0.20674965, 0.81523659, 0.76688519,\n",
       "        0.11989052, 0.23424702, 0.46957767, 0.97054154, 0.21022844,\n",
       "        0.4189502 , 0.53780861, 0.83583057, 0.75080195, 0.29806604,\n",
       "        0.69901041, 0.86058701, 0.621369  , 0.67962079, 0.81021087,\n",
       "        0.81820164, 0.78861336, 0.42541564, 0.62344982, 1.08612162,\n",
       "        0.3404837 , 0.36459823, 0.72123983, 0.50690934, 0.67776193,\n",
       "        0.73418956, 0.31075339, 0.31006107, 0.42497892, 0.54929426,\n",
       "        0.        , 0.66554325, 0.40148818, 0.14445454, 0.4333811 ,\n",
       "        1.10053075, 1.12742224, 0.77200912, 0.69757377, 0.74726293,\n",
       "        0.8698281 , 0.28453607, 0.15847203, 0.85790532, 0.33595787,\n",
       "        0.625544  , 0.45336953, 0.77438691, 0.76987535, 0.46098694,\n",
       "        0.83660985, 0.97770624, 0.70476586, 0.14644205, 0.56826651,\n",
       "        0.57336488, 0.05764728, 0.7384382 , 0.26362352, 1.05054292,\n",
       "        0.48687308, 0.5837545 , 0.37337974, 0.71298167, 0.25038724,\n",
       "        0.80351297, 0.37813811, 0.77349549, 0.27193795, 0.20209372,\n",
       "        0.61759666, 0.31280197, 0.57948012, 0.5665097 , 0.89562912],\n",
       "       [0.63759531, 0.4239853 , 0.77096168, 0.68654226, 0.37004104,\n",
       "        0.28092613, 0.1822037 , 0.54007896, 0.24116134, 0.10590478,\n",
       "        0.68908511, 0.48126739, 0.26901694, 0.38544031, 0.57642326,\n",
       "        0.46884869, 0.32348446, 0.45967401, 0.44449828, 0.2372558 ,\n",
       "        0.20890635, 0.36388641, 0.57364991, 0.39764529, 0.11113193,\n",
       "        0.68219165, 0.44726424, 0.37302966, 0.33399526, 0.56020263,\n",
       "        0.34249836, 0.44463695, 0.88231227, 0.10718945, 0.41153076,\n",
       "        0.54180519, 0.48678454, 0.09377609, 0.24275663, 0.27002641,\n",
       "        0.22094275, 0.31281404, 0.42432342, 0.16808508, 0.45406433,\n",
       "        0.59950163, 0.65854124, 0.73062357, 0.17341324, 0.46007396,\n",
       "        0.36576499, 0.53710931, 0.3556612 , 0.38094952, 0.39729096,\n",
       "        0.66554325, 0.        , 0.56062342, 0.53099945, 0.452233  ,\n",
       "        0.53192423, 0.50600468, 0.46100506, 0.6481672 , 0.4355555 ,\n",
       "        0.21337826, 0.55990451, 0.54235992, 0.20966415, 0.65402798,\n",
       "        0.48523542, 0.45941503, 0.41427628, 0.39039458, 0.31335265,\n",
       "        0.53901949, 0.34111426, 0.12263006, 0.5311204 , 0.72064423,\n",
       "        0.10728425, 0.62929725, 0.13123936, 0.49789468, 0.45723782,\n",
       "        0.21340084, 0.24165063, 0.68471842, 0.10454147, 0.42949469,\n",
       "        0.3730365 , 0.45943347, 0.8219293 , 0.45810667, 0.47296303,\n",
       "        0.04889916, 0.49496287, 0.38989644, 0.4934636 , 0.31121645],\n",
       "       [0.43134688, 0.87168452, 0.39757151, 0.23515262, 0.19059445,\n",
       "        0.38674549, 0.37938318, 0.62879313, 0.55613841, 0.62015758,\n",
       "        0.13958804, 0.5910564 , 0.61649602, 0.89777252, 0.18736356,\n",
       "        0.41669878, 0.35281551, 0.54104496, 0.79785848, 0.50429201,\n",
       "        0.35499644, 0.79629852, 0.51709184, 0.49885131, 0.67009045,\n",
       "        0.50890287, 0.40682769, 0.19415065, 0.75897535, 0.50993282,\n",
       "        0.54470518, 0.18492715, 0.45608877, 0.66768704, 0.46180514,\n",
       "        0.31276866, 0.51492675, 0.47446546, 0.4287316 , 0.80588625,\n",
       "        0.60324008, 0.82080012, 0.13690583, 0.4261863 , 0.85480601,\n",
       "        0.0748751 , 0.11148863, 0.32514056, 0.49006864, 0.82992246,\n",
       "        0.42036506, 0.09491534, 0.34226698, 0.58158575, 0.70140338,\n",
       "        0.40148818, 0.56062342, 0.        , 0.39270494, 0.11204438,\n",
       "        0.81390568, 0.88039604, 0.4210323 , 0.29611227, 0.40327645,\n",
       "        0.76662874, 0.57698854, 0.43579065, 0.76787898, 0.12251378,\n",
       "        0.25169939, 0.11365716, 0.86906701, 0.85339914, 0.56706114,\n",
       "        0.46799118, 0.76515472, 0.66011372, 0.39744945, 0.20255144,\n",
       "        0.45485195, 0.42126229, 0.55810158, 0.51086342, 0.78768868,\n",
       "        0.35168828, 0.6371122 , 0.13502993, 0.65327853, 0.27144805,\n",
       "        0.49659722, 0.59310851, 0.38993977, 0.19371579, 0.3895303 ,\n",
       "        0.51715139, 0.5574644 , 0.25308983, 0.18782679, 0.65206185],\n",
       "       [0.10670686, 0.63128749, 0.27649687, 0.62773191, 0.35827823,\n",
       "        0.25074914, 0.40132068, 0.25554032, 0.68008939, 0.63251846,\n",
       "        0.41536916, 0.83319378, 0.73554739, 0.71071168, 0.56310539,\n",
       "        0.70076074, 0.56026896, 0.19431345, 0.93456053, 0.63897941,\n",
       "        0.42821515, 0.88096957, 0.12453118, 0.72637966, 0.62870457,\n",
       "        0.16018511, 0.08995875, 0.39715832, 0.84664011, 0.11830271,\n",
       "        0.27616151, 0.48369791, 0.84799263, 0.61140622, 0.15469605,\n",
       "        0.65288738, 0.78271557, 0.49605677, 0.5759458 , 0.66578832,\n",
       "        0.69893689, 0.64457688, 0.36812719, 0.50921724, 0.96445742,\n",
       "        0.35290271, 0.39663871, 0.71656398, 0.36687259, 0.54546525,\n",
       "        0.64808026, 0.2984674 , 0.1817471 , 0.28632631, 0.41397854,\n",
       "        0.14445454, 0.53099945, 0.39270494, 0.        , 0.38547473,\n",
       "        0.99343562, 1.00882005, 0.70019968, 0.67648539, 0.67319828,\n",
       "        0.73073079, 0.19087096, 0.04317925, 0.71764039, 0.37101793,\n",
       "        0.5744945 , 0.4073419 , 0.63472962, 0.62898929, 0.31760413,\n",
       "        0.77223712, 0.85387021, 0.5626556 , 0.0049297 , 0.58617476,\n",
       "        0.44535606, 0.09892258, 0.61448012, 0.14073014, 0.93739481,\n",
       "        0.37012243, 0.43942453, 0.41363059, 0.57196738, 0.1546208 ,\n",
       "        0.71156518, 0.2514433 , 0.78227524, 0.21285203, 0.05896395,\n",
       "        0.48417607, 0.19321277, 0.50962033, 0.52293021, 0.78096932],\n",
       "       [0.44935091, 0.78500928, 0.46244021, 0.27676205, 0.08486481,\n",
       "        0.31028988, 0.2730383 , 0.59362333, 0.44704614, 0.50855844,\n",
       "        0.25014663, 0.50495549, 0.50780162, 0.80085726, 0.18656671,\n",
       "        0.34149716, 0.24975655, 0.49916363, 0.69324884, 0.39532566,\n",
       "        0.2447053 , 0.68656194, 0.50447336, 0.40626022, 0.56067242,\n",
       "        0.52535992, 0.3741526 , 0.08214897, 0.64918236, 0.49499319,\n",
       "        0.47907761, 0.10457552, 0.50030867, 0.55942193, 0.41604978,\n",
       "        0.26889056, 0.43580171, 0.36423471, 0.3193865 , 0.70392388,\n",
       "        0.49264891, 0.72363257, 0.03084739, 0.31418087, 0.74761084,\n",
       "        0.17092151, 0.22077006, 0.35309514, 0.3976485 , 0.75468482,\n",
       "        0.32521257, 0.13912789, 0.28449941, 0.52024742, 0.63130779,\n",
       "        0.4333811 , 0.452233  , 0.11204438, 0.38547473, 0.        ,\n",
       "        0.71625766, 0.77550968, 0.34381503, 0.29782471, 0.32158096,\n",
       "        0.65595184, 0.55291036, 0.42618865, 0.6579768 , 0.22600249,\n",
       "        0.1927501 , 0.02198056, 0.78119862, 0.76390308, 0.49486921,\n",
       "        0.40395366, 0.65548013, 0.55606964, 0.38964712, 0.27992669,\n",
       "        0.3479572 , 0.43863822, 0.44605948, 0.48081456, 0.68475919,\n",
       "        0.24821731, 0.54944023, 0.24558165, 0.54761961, 0.23856857,\n",
       "        0.40069793, 0.54573153, 0.43344697, 0.17298043, 0.36556553,\n",
       "        0.41029401, 0.52144272, 0.15741457, 0.13755123, 0.54481511],\n",
       "       [1.09197525, 0.89826621, 1.16599582, 0.77500354, 0.67901808,\n",
       "        0.75856048, 0.59458483, 1.06392674, 0.31573534, 0.43690433,\n",
       "        0.94951392, 0.24696357, 0.26756002, 0.80231896, 0.69365592,\n",
       "        0.42341617, 0.46733367, 0.97572868, 0.11177618, 0.35445675,\n",
       "        0.56536847, 0.23259789, 1.0692046 , 0.31692276, 0.51034039,\n",
       "        1.15359458, 0.92680627, 0.64971294, 0.2353214 , 1.05592101,\n",
       "        0.86795265, 0.62927031, 0.85776285, 0.53663428, 0.9126791 ,\n",
       "        0.56403182, 0.33347989, 0.51565991, 0.42091626, 0.6865641 ,\n",
       "        0.31311028, 0.75766252, 0.70745351, 0.48513954, 0.1731948 ,\n",
       "        0.88403124, 0.92409527, 0.75306712, 0.69184236, 0.96921384,\n",
       "        0.39354631, 0.85314956, 0.81408854, 0.90935531, 0.9265175 ,\n",
       "        1.10053075, 0.53192423, 0.81390568, 0.99343562, 0.71625766,\n",
       "        0.        , 0.136828  , 0.41545202, 0.67637505, 0.42271941,\n",
       "        0.48593754, 1.07225356, 1.01813081, 0.51351347, 0.9361965 ,\n",
       "        0.5821841 , 0.70548815, 0.88517884, 0.85978314, 0.84299287,\n",
       "        0.41805315, 0.23107016, 0.6075082 , 0.99529212, 0.85808681,\n",
       "        0.56910939, 1.08187473, 0.40590385, 1.00268603, 0.08469018,\n",
       "        0.62394563, 0.76909299, 0.94513115, 0.58186016, 0.8514326 ,\n",
       "        0.3173203 , 0.98460571, 0.8266414 , 0.83565529, 0.94307746,\n",
       "        0.55962278, 1.01079483, 0.56146698, 0.63957689, 0.22250192],\n",
       "       [1.11181585, 0.82523701, 1.20657626, 0.87208535, 0.72558616,\n",
       "        0.76312918, 0.60833659, 1.04605794, 0.33684403, 0.40163179,\n",
       "        1.01915265, 0.35871321, 0.27698809, 0.71693585, 0.78181459,\n",
       "        0.52076874, 0.52758072, 0.96448501, 0.08260601, 0.38575632,\n",
       "        0.58954219, 0.14946663, 1.07091841, 0.40283842, 0.45689996,\n",
       "        1.16733838, 0.93433865, 0.70154088, 0.17293378, 1.05744579,\n",
       "        0.84849222, 0.6997035 , 0.97475756, 0.48351215, 0.91005861,\n",
       "        0.66175546, 0.44152735, 0.51441557, 0.46058357, 0.60902099,\n",
       "        0.30995983, 0.68219518, 0.76187341, 0.50411215, 0.05855673,\n",
       "        0.94626889, 0.99186178, 0.86031407, 0.67693139, 0.90923336,\n",
       "        0.46839824, 0.90696924, 0.82708691, 0.8862311 , 0.88431655,\n",
       "        1.12742224, 0.50600468, 0.88039604, 1.00882005, 0.77550968,\n",
       "        0.136828  , 0.        , 0.51176787, 0.77959808, 0.51281855,\n",
       "        0.40745837, 1.06400482, 1.02853539, 0.43547451, 1.00063094,\n",
       "        0.66688533, 0.76804631, 0.8114643 , 0.78655534, 0.81824062,\n",
       "        0.52979605, 0.1660654 , 0.55651687, 1.01004097, 0.94937098,\n",
       "        0.56705076, 1.10225278, 0.3963384 , 0.99885007, 0.09872827,\n",
       "        0.64103812, 0.72798758, 1.01464733, 0.53214507, 0.87719228,\n",
       "        0.39568465, 0.96535983, 0.93880724, 0.87337948, 0.95467866,\n",
       "        0.54292182, 0.99983686, 0.62849337, 0.71875455, 0.23417092],\n",
       "       [0.7804401 , 0.88252612, 0.80574246, 0.36108482, 0.3428543 ,\n",
       "        0.52620169, 0.37812287, 0.85500166, 0.27620517, 0.44068014,\n",
       "        0.54813578, 0.17438226, 0.31392363, 0.84324603, 0.27915708,\n",
       "        0.00988136, 0.15854184, 0.75687712, 0.43259903, 0.24334408,\n",
       "        0.32755101, 0.47915316, 0.80538535, 0.11245192, 0.5279173 ,\n",
       "        0.85309649, 0.66093919, 0.30463456, 0.44697605, 0.79371031,\n",
       "        0.68747312, 0.24148457, 0.48050013, 0.54277486, 0.67677148,\n",
       "        0.15010409, 0.09390238, 0.37910077, 0.21843544, 0.72314134,\n",
       "        0.33423114, 0.77290648, 0.34712428, 0.3030916 , 0.5046904 ,\n",
       "        0.49526185, 0.52571717, 0.35170083, 0.5330044 , 0.90069217,\n",
       "        0.09557843, 0.48139291, 0.54788521, 0.73374217, 0.80682756,\n",
       "        0.77200912, 0.46100506, 0.4210323 , 0.70019968, 0.34381503,\n",
       "        0.41545202, 0.51176787, 0.        , 0.26866213, 0.02907016,\n",
       "        0.58365826, 0.83532978, 0.73565176, 0.5999753 , 0.54223093,\n",
       "        0.17270325, 0.32690316, 0.87360183, 0.85029658, 0.6824463 ,\n",
       "        0.08193854, 0.45067194, 0.58265458, 0.70352786, 0.44263758,\n",
       "        0.41096012, 0.76968536, 0.36096217, 0.76003262, 0.41308415,\n",
       "        0.38739879, 0.67252343, 0.54399414, 0.56159747, 0.5456189 ,\n",
       "        0.12820383, 0.78795224, 0.43546816, 0.50135517, 0.6644831 ,\n",
       "        0.44959491, 0.78734334, 0.19275998, 0.2350507 , 0.32553234],\n",
       "       [0.72572488, 1.03980966, 0.68435763, 0.10843637, 0.35936681,\n",
       "        0.59468413, 0.50297153, 0.89138054, 0.52404831, 0.66166338,\n",
       "        0.37264661, 0.42948629, 0.57153877, 1.02970338, 0.11338429,\n",
       "        0.25934078, 0.33183671, 0.79644759, 0.70107756, 0.48019839,\n",
       "        0.45586981, 0.74442926, 0.79848909, 0.3804966 , 0.73890892,\n",
       "        0.80329565, 0.671774  , 0.32775338, 0.71082693, 0.7897205 ,\n",
       "        0.76698024, 0.22621661, 0.23426294, 0.74728993, 0.71307635,\n",
       "        0.12193357, 0.34289689, 0.55496313, 0.42553204, 0.91795841,\n",
       "        0.5823158 , 0.9541087 , 0.32283512, 0.48069982, 0.77332646,\n",
       "        0.36224227, 0.36215854, 0.08633129, 0.65540749, 1.02832252,\n",
       "        0.33545654, 0.38824487, 0.58008935, 0.81029759, 0.91272239,\n",
       "        0.69757377, 0.6481672 , 0.29611227, 0.67648539, 0.29782471,\n",
       "        0.67637505, 0.77959808, 0.26866213, 0.        , 0.27279888,\n",
       "        0.81344976, 0.85001543, 0.71856125, 0.82475014, 0.38778693,\n",
       "        0.16301142, 0.27622978, 1.03366239, 1.01329215, 0.77700785,\n",
       "        0.26146152, 0.71505061, 0.76848287, 0.68094685, 0.20278085,\n",
       "        0.56466071, 0.71543346, 0.5829557 , 0.77846102, 0.68087218,\n",
       "        0.49295822, 0.80901937, 0.36977998, 0.75259899, 0.53534475,\n",
       "        0.39336093, 0.84165299, 0.17670465, 0.46476125, 0.66184909,\n",
       "        0.62012922, 0.81922014, 0.26074873, 0.17340487, 0.58951312],\n",
       "       [0.75459568, 0.85603277, 0.78399753, 0.35955427, 0.3165909 ,\n",
       "        0.49721394, 0.34920329, 0.82610759, 0.25979064, 0.41926504,\n",
       "        0.53314921, 0.18808175, 0.30158475, 0.81889751, 0.27125423,\n",
       "        0.03431885, 0.12953878, 0.72800926, 0.43234515, 0.22343245,\n",
       "        0.29856431, 0.47172439, 0.77751367, 0.11000173, 0.50543648,\n",
       "        0.82680657, 0.63283419, 0.27872795, 0.43844607, 0.76576929,\n",
       "        0.65841529, 0.2210418 , 0.49172531, 0.51952539, 0.6480386 ,\n",
       "        0.15138565, 0.11425592, 0.35226561, 0.19280404, 0.69936269,\n",
       "        0.31830431, 0.74795334, 0.32326112, 0.27580063, 0.50242782,\n",
       "        0.47691047, 0.50978976, 0.35766263, 0.50437391, 0.87277786,\n",
       "        0.07268944, 0.46000208, 0.51949871, 0.70468352, 0.77817638,\n",
       "        0.74726293, 0.4355555 , 0.40327645, 0.67319828, 0.32158096,\n",
       "        0.42271941, 0.51281855, 0.02907016, 0.27279888, 0.        ,\n",
       "        0.56438493, 0.80683188, 0.70828625, 0.57985226, 0.52521466,\n",
       "        0.15992324, 0.30553098, 0.84726771, 0.82411553, 0.65350198,\n",
       "        0.11076064, 0.44252501, 0.55759645, 0.67646952, 0.43739205,\n",
       "        0.38302592, 0.74385282, 0.33919716, 0.7315465 , 0.41451816,\n",
       "        0.35833034, 0.64462473, 0.52892301, 0.53694895, 0.51870586,\n",
       "        0.12065844, 0.75892477, 0.44383438, 0.47604819, 0.63679609,\n",
       "        0.42278766, 0.75856423, 0.16782895, 0.2199186 , 0.31697402],\n",
       "       [0.83720553, 0.41787323, 0.98067578, 0.86802076, 0.57676025,\n",
       "        0.48571093, 0.39310107, 0.69235917, 0.31003502, 0.15293947,\n",
       "        0.89847453, 0.53867999, 0.29214318, 0.31645424, 0.75842415,\n",
       "        0.59303979, 0.48206368, 0.62812248, 0.3768048 , 0.34095359,\n",
       "        0.41163386, 0.2607898 , 0.75590367, 0.48989935, 0.10389357,\n",
       "        0.87442613, 0.64326785, 0.57455548, 0.25075581, 0.7428233 ,\n",
       "        0.50339635, 0.63242534, 1.04569256, 0.11935262, 0.59686226,\n",
       "        0.69695176, 0.5764992 , 0.29226917, 0.38791887, 0.2022572 ,\n",
       "        0.25564402, 0.27502018, 0.62972367, 0.34749443, 0.34893805,\n",
       "        0.80976996, 0.86796911, 0.89908358, 0.36387293, 0.50487558,\n",
       "        0.49200205, 0.74895748, 0.56245759, 0.53108326, 0.49774727,\n",
       "        0.8698281 , 0.21337826, 0.76662874, 0.73073079, 0.65595184,\n",
       "        0.48593754, 0.40745837, 0.58365826, 0.81344976, 0.56438493,\n",
       "        0.        , 0.72811615, 0.73657713, 0.02806414, 0.86485013,\n",
       "        0.65503647, 0.66052811, 0.40417618, 0.37917772, 0.46477281,\n",
       "        0.64964627, 0.25541562, 0.17910889, 0.73025162, 0.91323621,\n",
       "        0.31977093, 0.82965322, 0.2304944 , 0.67609192, 0.40132633,\n",
       "        0.42561607, 0.35077644, 0.89404349, 0.16257401, 0.64056963,\n",
       "        0.4664204 , 0.61298463, 0.99012557, 0.67146538, 0.67183738,\n",
       "        0.26185466, 0.6619067 , 0.56881353, 0.67630532, 0.31127895],\n",
       "       [0.2254688 , 0.52000162, 0.42158414, 0.81036622, 0.50745968,\n",
       "        0.31953416, 0.4857814 , 0.07612254, 0.75751839, 0.66576424,\n",
       "        0.60620857, 0.94656687, 0.80538897, 0.62558975, 0.73724511,\n",
       "        0.83760184, 0.68316984, 0.10075075, 0.99750715, 0.72539228,\n",
       "        0.52661358, 0.92377557, 0.07788777, 0.84074751, 0.63557761,\n",
       "        0.20147922, 0.17953618, 0.54579972, 0.89329114, 0.07677026,\n",
       "        0.22472793, 0.64229145, 1.03303902, 0.61292852, 0.16230207,\n",
       "        0.81165476, 0.90887587, 0.5567556 , 0.67521148, 0.61319397,\n",
       "        0.76229806, 0.57272401, 0.5305658 , 0.59393543, 1.01346643,\n",
       "        0.54237771, 0.58741917, 0.89689351, 0.387228  , 0.412252  ,\n",
       "        0.76881875, 0.48453097, 0.28765408, 0.20159177, 0.29709287,\n",
       "        0.28453607, 0.55990451, 0.57698854, 0.19087096, 0.55291036,\n",
       "        1.07225356, 1.06400482, 0.83532978, 0.85001543, 0.80683188,\n",
       "        0.72811615, 0.        , 0.14943527, 0.70897534, 0.56188812,\n",
       "        0.73192235, 0.57479691, 0.52707477, 0.52835797, 0.26420283,\n",
       "        0.9127997 , 0.9004655 , 0.54925093, 0.18594618, 0.77429349,\n",
       "        0.50322393, 0.22745274, 0.67070619, 0.07530877, 1.00595579,\n",
       "        0.46291371, 0.38778675, 0.60449249, 0.56606737, 0.31467068,\n",
       "        0.82228194, 0.1245412 , 0.96671295, 0.38747013, 0.18873325,\n",
       "        0.52108461, 0.0662251 , 0.65401545, 0.687237  , 0.85108662],\n",
       "       [0.1078252 , 0.61175122, 0.29637567, 0.67076583, 0.39522331,\n",
       "        0.2659624 , 0.4239118 , 0.21711301, 0.70340688, 0.64575572,\n",
       "        0.45709394, 0.86463554, 0.75748051, 0.69769873, 0.60517936,\n",
       "        0.73654775, 0.59276027, 0.166424  , 0.9557339 , 0.66403855,\n",
       "        0.45436379, 0.89760812, 0.08135851, 0.75773052, 0.63597929,\n",
       "        0.13997212, 0.09522743, 0.43422317, 0.86398949, 0.07536556,\n",
       "        0.26323359, 0.52307281, 0.89116145, 0.61732999, 0.14511072,\n",
       "        0.69263888, 0.81659853, 0.51429492, 0.60344983, 0.65990442,\n",
       "        0.71927641, 0.6341599 , 0.4078465 , 0.53302782, 0.98271832,\n",
       "        0.39588506, 0.43892967, 0.75943181, 0.37367305, 0.52026779,\n",
       "        0.68048017, 0.34162182, 0.2040548 , 0.26669681, 0.39097927,\n",
       "        0.15847203, 0.54235992, 0.43579065, 0.04317925, 0.42618865,\n",
       "        1.01813081, 1.02853539, 0.73565176, 0.71856125, 0.70828625,\n",
       "        0.73657713, 0.14943527, 0.        , 0.72204559, 0.41301347,\n",
       "        0.61387178, 0.44811948, 0.61605377, 0.61188893, 0.30596365,\n",
       "        0.80888447, 0.87123522, 0.56474174, 0.03836853, 0.6292916 ,\n",
       "        0.46234335, 0.1037156 , 0.63272856, 0.1077544 , 0.95977598,\n",
       "        0.39423357, 0.43120607, 0.45546186, 0.57584828, 0.19171809,\n",
       "        0.7421132 , 0.22192298, 0.82542379, 0.25421474, 0.07513306,\n",
       "        0.49682822, 0.15938384, 0.54632715, 0.56341589, 0.80315652],\n",
       "       [0.82383641, 0.3898228 , 0.971077  , 0.87638159, 0.57747881,\n",
       "        0.47514705, 0.39144454, 0.6713517 , 0.32860528, 0.16314328,\n",
       "        0.89810019, 0.56097925, 0.31434978, 0.28912909, 0.76645106,\n",
       "        0.60923092, 0.49293468, 0.60941307, 0.40462908, 0.35668899,\n",
       "        0.41327224, 0.28884411, 0.73888003, 0.50878546, 0.0985489 ,\n",
       "        0.85910712, 0.62947153, 0.57716893, 0.27846071, 0.72590467,\n",
       "        0.48445627, 0.63884545, 1.05774912, 0.10812698, 0.58101013,\n",
       "        0.70952196, 0.59623203, 0.29375616, 0.39960727, 0.17422033,\n",
       "        0.27586747, 0.24695609, 0.63106683, 0.35349017, 0.37694572,\n",
       "        0.80881369, 0.86756141, 0.91001776, 0.35106106, 0.4775689 ,\n",
       "        0.50724629, 0.74676593, 0.55226184, 0.51066026, 0.4732138 ,\n",
       "        0.85790532, 0.20966415, 0.76787898, 0.71764039, 0.6579768 ,\n",
       "        0.51351347, 0.43547451, 0.5999753 , 0.82475014, 0.57985226,\n",
       "        0.02806414, 0.70897534, 0.72204559, 0.        , 0.86351865,\n",
       "        0.66507869, 0.66346007, 0.37611778, 0.3511289 , 0.44504318,\n",
       "        0.66764848, 0.28320719, 0.15995631, 0.71699356, 0.9190459 ,\n",
       "        0.31692351, 0.81651724, 0.24273501, 0.65864817, 0.42894839,\n",
       "        0.42305133, 0.32849717, 0.89370604, 0.14622715, 0.63234421,\n",
       "        0.48498577, 0.59246405, 1.00126334, 0.66619649, 0.65868155,\n",
       "        0.25704226, 0.64283896, 0.57682487, 0.68393708, 0.33554689],\n",
       "       [0.37875018, 0.9245731 , 0.29768525, 0.30239898, 0.29171971,\n",
       "        0.44095595, 0.47209662, 0.62395428, 0.67299581, 0.72318818,\n",
       "        0.04546562, 0.71316939, 0.73379093, 0.96599281, 0.29105167,\n",
       "        0.53754571, 0.47338554, 0.54738915, 0.91820818, 0.62130566,\n",
       "        0.45625151, 0.91221156, 0.49235772, 0.62135937, 0.7649967 ,\n",
       "        0.45331115, 0.41160556, 0.30496049, 0.87481687, 0.48812462,\n",
       "        0.57812728, 0.30743228, 0.50036787, 0.75966279, 0.47684872,\n",
       "        0.42626847, 0.63611194, 0.57362397, 0.54533637, 0.88369278,\n",
       "        0.71779691, 0.8902329 , 0.24418296, 0.53370431, 0.97352028,\n",
       "        0.05602917, 0.02874312, 0.39457821, 0.55882216, 0.8678235 ,\n",
       "        0.54270179, 0.11893051, 0.38000656, 0.6085162 , 0.73532281,\n",
       "        0.33595787, 0.65402798, 0.12251378, 0.37101793, 0.22600249,\n",
       "        0.9361965 , 1.00063094, 0.54223093, 0.38778693, 0.52521466,\n",
       "        0.86485013, 0.56188812, 0.41301347, 0.86351865, 0.        ,\n",
       "        0.37119533, 0.23261315, 0.92370809, 0.91061432, 0.60749238,\n",
       "        0.58561692, 0.88117241, 0.74336949, 0.37594363, 0.23301749,\n",
       "        0.54677007, 0.37009548, 0.66634129, 0.50559296, 0.90875545,\n",
       "        0.44077612, 0.69540188, 0.04303185, 0.73973358, 0.29338391,\n",
       "        0.61893172, 0.60342658, 0.43910161, 0.22296475, 0.38641365,\n",
       "        0.60787607, 0.55647989, 0.37496626, 0.30761952, 0.7706991 ],\n",
       "       [0.64201643, 0.87961709, 0.64443108, 0.2175643 , 0.22490002,\n",
       "        0.45084681, 0.34326085, 0.76443379, 0.37785145, 0.50243338,\n",
       "        0.37556323, 0.34652401, 0.43100721, 0.86684645, 0.11567606,\n",
       "        0.16718078, 0.17354525, 0.66699143, 0.58514186, 0.33012217,\n",
       "        0.29477746, 0.61016672, 0.6899103 , 0.26642557, 0.57739433,\n",
       "        0.71778881, 0.55253874, 0.18756371, 0.57461611, 0.67958543,\n",
       "        0.62274545, 0.09080974, 0.39707715, 0.58504268, 0.58359921,\n",
       "        0.07976877, 0.26602654, 0.3919628 , 0.2683476 , 0.75496232,\n",
       "        0.43451608, 0.7914043 , 0.20644721, 0.31803247, 0.65151389,\n",
       "        0.3265323 , 0.35365855, 0.24595703, 0.49855451, 0.87345656,\n",
       "        0.20001283, 0.3216903 , 0.44929729, 0.66757102, 0.7623768 ,\n",
       "        0.625544  , 0.48523542, 0.25169939, 0.5744945 , 0.1927501 ,\n",
       "        0.5821841 , 0.66688533, 0.17270325, 0.16301142, 0.15992324,\n",
       "        0.65503647, 0.73192235, 0.61387178, 0.66507869, 0.37119533,\n",
       "        0.        , 0.17223047, 0.87307574, 0.85227942, 0.62840695,\n",
       "        0.21689414, 0.57962375, 0.60547589, 0.57844065, 0.28381768,\n",
       "        0.40246313, 0.63129202, 0.42500817, 0.65769014, 0.56958148,\n",
       "        0.33645157, 0.65102706, 0.37145234, 0.58962999, 0.42280354,\n",
       "        0.27124065, 0.70731357, 0.33741506, 0.36402729, 0.5487989 ,\n",
       "        0.45726229, 0.69323796, 0.09911023, 0.06387262, 0.45601446],\n",
       "       [0.47033016, 0.80022569, 0.47883937, 0.25831867, 0.09794875,\n",
       "        0.32864468, 0.28240021, 0.61515267, 0.44249033, 0.51171377,\n",
       "        0.25322685, 0.49042912, 0.50289139, 0.81318337, 0.16550852,\n",
       "        0.32419055, 0.24081473, 0.52045371, 0.68560495, 0.39064714,\n",
       "        0.25079738, 0.68264373, 0.52644919, 0.39338904, 0.56675683,\n",
       "        0.54652913, 0.39595508, 0.08644122, 0.64532367, 0.51697371,\n",
       "        0.49837937, 0.08591826, 0.48099334, 0.56649988, 0.43723668,\n",
       "        0.24760144, 0.41954167, 0.36986772, 0.31507655, 0.71440817,\n",
       "        0.48975093, 0.73595746, 0.0484177 , 0.31614981, 0.74157859,\n",
       "        0.17888904, 0.22473919, 0.33282992, 0.41216155, 0.77218909,\n",
       "        0.31300333, 0.15453125, 0.30519862, 0.53996117, 0.64975535,\n",
       "        0.45336953, 0.45941503, 0.11365716, 0.4073419 , 0.02198056,\n",
       "        0.70548815, 0.76804631, 0.32690316, 0.27622978, 0.30553098,\n",
       "        0.66052811, 0.57479691, 0.44811948, 0.66346007, 0.23261315,\n",
       "        0.17223047, 0.        , 0.79613523, 0.778453  , 0.51325329,\n",
       "        0.38506493, 0.65149867, 0.56578485, 0.41152845, 0.26673394,\n",
       "        0.35656689, 0.45963463, 0.44697486, 0.50259942, 0.6762337 ,\n",
       "        0.25941913, 0.56476959, 0.24866566, 0.5564673 , 0.26051899,\n",
       "        0.38893965, 0.56663061, 0.41426017, 0.19473527, 0.38752648,\n",
       "        0.41871131, 0.54299036, 0.14447498, 0.11585606, 0.53877259],\n",
       "       [0.72226105, 0.01438365, 0.91078219, 1.04993178, 0.69822479,\n",
       "        0.48452071, 0.53071814, 0.46015549, 0.64431154, 0.46854727,\n",
       "        0.96717548, 0.88883122, 0.65450297, 0.12237787, 0.94443219,\n",
       "        0.88106113, 0.72796864, 0.45375507, 0.77863616, 0.64945001,\n",
       "        0.57830064, 0.66478816, 0.58960192, 0.81103829, 0.38168057,\n",
       "        0.72305229, 0.55157828, 0.7186335 , 0.65218877, 0.5803142 ,\n",
       "        0.36093292, 0.81224741, 1.26320299, 0.35757766, 0.48139734,\n",
       "        0.93937133, 0.90056149, 0.49535637, 0.65528639, 0.20265656,\n",
       "        0.60765638, 0.12929207, 0.75035128, 0.57261994, 0.75291229,\n",
       "        0.87903686, 0.9388926 , 1.10998374, 0.38408203, 0.13726055,\n",
       "        0.77898032, 0.80870298, 0.54455345, 0.34940896, 0.23033   ,\n",
       "        0.77438691, 0.41427628, 0.86906701, 0.63472962, 0.78119862,\n",
       "        0.88517884, 0.8114643 , 0.87360183, 1.03366239, 0.84726771,\n",
       "        0.40417618, 0.52707477, 0.61605377, 0.37611778, 0.92370809,\n",
       "        0.87307574, 0.79613523, 0.        , 0.02545723, 0.32320757,\n",
       "        0.95265743, 0.65742547, 0.29772938, 0.63162037, 1.06073793,\n",
       "        0.47241629, 0.71937924, 0.53404341, 0.515386  , 0.80134395,\n",
       "        0.54329159, 0.23215383, 0.96361414, 0.32216667, 0.63402805,\n",
       "        0.78630637, 0.4063274 , 1.19888445, 0.70074368, 0.58487221,\n",
       "        0.42497552, 0.47366898, 0.7739954 , 0.86519723, 0.68729794],\n",
       "       [0.71872414, 0.03870078, 0.9054072 , 1.03125334, 0.68050472,\n",
       "        0.47037679, 0.51057071, 0.46339008, 0.61939619, 0.44333883,\n",
       "        0.95376137, 0.86395376, 0.62920524, 0.10715113, 0.92521783,\n",
       "        0.85783269, 0.70556945, 0.45154024, 0.75333582, 0.62504134,\n",
       "        0.55759455, 0.63969258, 0.58870021, 0.78673212, 0.35629977,\n",
       "        0.72224176, 0.54447409, 0.70005816, 0.62689758, 0.57899583,\n",
       "        0.35369232, 0.79271944, 1.24345837, 0.33227412, 0.47489078,\n",
       "        0.91786503, 0.87632649, 0.47252757, 0.63190273, 0.1780624 ,\n",
       "        0.58242149, 0.10460939, 0.73306384, 0.54990986, 0.7280098 ,\n",
       "        0.86513993, 0.92522307, 1.09020025, 0.36631503, 0.15173612,\n",
       "        0.75551543, 0.79488217, 0.53244784, 0.34535232, 0.23135408,\n",
       "        0.76987535, 0.39039458, 0.85339914, 0.62898929, 0.76390308,\n",
       "        0.85978314, 0.78655534, 0.85029658, 1.01329215, 0.82411553,\n",
       "        0.37917772, 0.52835797, 0.61188893, 0.3511289 , 0.91061432,\n",
       "        0.85227942, 0.778453  , 0.02545723, 0.        , 0.31456442,\n",
       "        0.92910908, 0.63215764, 0.27303105, 0.62603305, 1.0436885 ,\n",
       "        0.45086842, 0.71548061, 0.50928183, 0.51304933, 0.77597677,\n",
       "        0.52413046, 0.21642239, 0.95013644, 0.29730132, 0.62242133,\n",
       "        0.76198387, 0.40611675, 1.17939633, 0.68774414, 0.57789309,\n",
       "        0.4022833 , 0.47302757, 0.75325953, 0.84554156, 0.66189149],\n",
       "       [0.41376891, 0.32186017, 0.59372663, 0.77149642, 0.41971123,\n",
       "        0.18461743, 0.3043428 , 0.22995796, 0.53773563, 0.41660946,\n",
       "        0.65197956, 0.75676472, 0.57655556, 0.39311181, 0.67457088,\n",
       "        0.68734669, 0.5239953 , 0.16601422, 0.75784366, 0.51656236,\n",
       "        0.35500569, 0.67333802, 0.3018679 , 0.65744804, 0.37539825,\n",
       "        0.43098077, 0.23077145, 0.44929655, 0.64550846, 0.28979627,\n",
       "        0.04314666, 0.55100981, 0.9938006 , 0.35158289, 0.16299121,\n",
       "        0.70437894, 0.73804338, 0.33677346, 0.48502822, 0.35685023,\n",
       "        0.52996863, 0.32820408, 0.46499042, 0.39513547, 0.76492938,\n",
       "        0.56652632, 0.62491912, 0.84356377, 0.15671676, 0.26293583,\n",
       "        0.59893854, 0.49647611, 0.22821303, 0.06818499, 0.13651102,\n",
       "        0.46098694, 0.31335265, 0.56706114, 0.31760413, 0.49486921,\n",
       "        0.84299287, 0.81824062, 0.6824463 , 0.77700785, 0.65350198,\n",
       "        0.46477281, 0.26420283, 0.30596365, 0.44504318, 0.60749238,\n",
       "        0.62840695, 0.51325329, 0.32320757, 0.31456442, 0.        ,\n",
       "        0.76424859, 0.65250813, 0.28567494, 0.31507078, 0.76660567,\n",
       "        0.28759354, 0.40915344, 0.43728667, 0.22079789, 0.77011845,\n",
       "        0.29794553, 0.1273173 , 0.64869301, 0.30363817, 0.31461467,\n",
       "        0.63537168, 0.14935083, 0.92727278, 0.38588156, 0.26426032,\n",
       "        0.28362412, 0.19829767, 0.53332655, 0.60360313, 0.62074039],\n",
       "       [0.84850503, 0.96183849, 0.86110573, 0.36550714, 0.41396121,\n",
       "        0.60634529, 0.45996223, 0.93441675, 0.33963913, 0.51165633,\n",
       "        0.58580647, 0.17204556, 0.3683587 , 0.91878228, 0.30421776,\n",
       "        0.07702429, 0.24025823, 0.83617452, 0.45558232, 0.31367823,\n",
       "        0.40928111, 0.51937075, 0.88036746, 0.16112439, 0.60051591,\n",
       "        0.92249021, 0.73696114, 0.37509307, 0.4903087 , 0.8689655 ,\n",
       "        0.76885284, 0.29941877, 0.44543521, 0.61676483, 0.75541021,\n",
       "        0.16370931, 0.08893439, 0.45929918, 0.2975781 , 0.79774714,\n",
       "        0.3956078 , 0.84963043, 0.41156411, 0.38395577, 0.5315931 ,\n",
       "        0.54286376, 0.5662564 , 0.33521016, 0.6149324 , 0.98203251,\n",
       "        0.17378973, 0.53758747, 0.62514564, 0.81510973, 0.88875796,\n",
       "        0.83660985, 0.53901949, 0.46799118, 0.77223712, 0.40395366,\n",
       "        0.41805315, 0.52979605, 0.08193854, 0.26146152, 0.11076064,\n",
       "        0.64964627, 0.9127997 , 0.80888447, 0.66764848, 0.58561692,\n",
       "        0.21689414, 0.38506493, 0.95265743, 0.92910908, 0.76424859,\n",
       "        0.        , 0.49303938, 0.65979954, 0.7757524 , 0.45509994,\n",
       "        0.49242019, 0.83773435, 0.43310202, 0.83749877, 0.43203879,\n",
       "        0.46865913, 0.75387723, 0.58194661, 0.63806715, 0.61772171,\n",
       "        0.18357535, 0.8683305 , 0.40957892, 0.56865682, 0.73895994,\n",
       "        0.52966762, 0.86615356, 0.26263334, 0.2805083 , 0.37145139],\n",
       "       [0.95841855, 0.67080417, 1.06496347, 0.79512432, 0.59529788,\n",
       "        0.60527287, 0.4574826 , 0.88079793, 0.20925624, 0.2360389 ,\n",
       "        0.90469552, 0.34172563, 0.15022907, 0.57149613, 0.69477248,\n",
       "        0.46049864, 0.41915385, 0.80052254, 0.12143997, 0.261077  ,\n",
       "        0.44590056, 0.03117895, 0.91015802, 0.33898129, 0.29240963,\n",
       "        1.01080608, 0.77638518, 0.57660761, 0.00724779, 0.89667193,\n",
       "        0.68332752, 0.59375458, 0.93083881, 0.31910314, 0.74855961,\n",
       "        0.59319983, 0.40640362, 0.35783567, 0.33642375, 0.45703872,\n",
       "        0.16476367, 0.52897337, 0.63761624, 0.36007616, 0.11300495,\n",
       "        0.82553665, 0.87589219, 0.80018389, 0.51325388, 0.74851952,\n",
       "        0.38195876, 0.77911992, 0.67244908, 0.72056573, 0.7189717 ,\n",
       "        0.97770624, 0.34111426, 0.76515472, 0.85387021, 0.65548013,\n",
       "        0.23107016, 0.1660654 , 0.45067194, 0.71505061, 0.44252501,\n",
       "        0.25541562, 0.9004655 , 0.87123522, 0.28320719, 0.88117241,\n",
       "        0.57962375, 0.65149867, 0.65742547, 0.63215764, 0.65250813,\n",
       "        0.49303938, 0.        , 0.39196722, 0.85478365, 0.86224589,\n",
       "        0.40895155, 0.94918257, 0.23960111, 0.83663425, 0.1463876 ,\n",
       "        0.49141534, 0.56230756, 0.90013149, 0.36723022, 0.72898908,\n",
       "        0.32277749, 0.80002653, 0.88580445, 0.73316318, 0.79833999,\n",
       "        0.37985522, 0.83584829, 0.52172949, 0.62234968, 0.12555482],\n",
       "       [0.66811067, 0.30856067, 0.82285976, 0.80231567, 0.47167461,\n",
       "        0.32794802, 0.28338465, 0.51354471, 0.34685832, 0.17470189,\n",
       "        0.78152016, 0.59122474, 0.36096948, 0.26290403, 0.69268871,\n",
       "        0.59066524, 0.445942  , 0.4495188 , 0.50828073, 0.35235827,\n",
       "        0.32014648, 0.40735222, 0.57919974, 0.51424013, 0.09963041,\n",
       "        0.70068237, 0.4735274 , 0.48052092, 0.38559838, 0.56628184,\n",
       "        0.32461368, 0.55976807, 1.00229831, 0.0730079 , 0.42234532,\n",
       "        0.66381457, 0.60400173, 0.21378672, 0.36484502, 0.15032418,\n",
       "        0.31310908, 0.19037357, 0.52663144, 0.29003756, 0.49985657,\n",
       "        0.69085314, 0.75117766, 0.85000202, 0.20002712, 0.36240822,\n",
       "        0.48719233, 0.62458989, 0.40502928, 0.35204748, 0.32844528,\n",
       "        0.70476586, 0.12263006, 0.66011372, 0.5626556 , 0.55606964,\n",
       "        0.6075082 , 0.55651687, 0.58265458, 0.76848287, 0.55759645,\n",
       "        0.17910889, 0.54925093, 0.56474174, 0.15995631, 0.74336949,\n",
       "        0.60547589, 0.56578485, 0.29772938, 0.27303105, 0.28567494,\n",
       "        0.65979954, 0.39196722, 0.        , 0.56171018, 0.83084645,\n",
       "        0.21016214, 0.66120098, 0.23632415, 0.49881837, 0.52668868,\n",
       "        0.30857707, 0.17481463, 0.77732706, 0.02580651, 0.49001572,\n",
       "        0.48945808, 0.43395991, 0.9410725 , 0.53339399, 0.50377285,\n",
       "        0.14975436, 0.48307325, 0.50879012, 0.61008512, 0.39726201],\n",
       "       [0.10696873, 0.62809446, 0.27938033, 0.63245432, 0.3617933 ,\n",
       "        0.25115817, 0.4027959 , 0.25073858, 0.68173369, 0.63289193,\n",
       "        0.42028824, 0.83594954, 0.73702114, 0.708179  , 0.56756416,\n",
       "        0.70413968, 0.56314551, 0.19019008, 0.93595932, 0.64084526,\n",
       "        0.43017533, 0.88179636, 0.11972673, 0.72911362, 0.62837025,\n",
       "        0.15831538, 0.08852246, 0.40070106, 0.84755078, 0.11341176,\n",
       "        0.27346221, 0.48763684, 0.85279343, 0.61091127, 0.15209301,\n",
       "        0.65690246, 0.78581702, 0.49700972, 0.57812783, 0.66399303,\n",
       "        0.70020195, 0.64229953, 0.37211388, 0.51089072, 0.96549302,\n",
       "        0.35780506, 0.4015683 , 0.7212278 , 0.36637874, 0.54172937,\n",
       "        0.65095512, 0.30325389, 0.18296578, 0.28299764, 0.41040904,\n",
       "        0.14644205, 0.5311204 , 0.39744945, 0.0049297 , 0.38964712,\n",
       "        0.99529212, 1.01004097, 0.70352786, 0.68094685, 0.67646952,\n",
       "        0.73025162, 0.18594618, 0.03836853, 0.71699356, 0.37594363,\n",
       "        0.57844065, 0.41152845, 0.63162037, 0.62603305, 0.31507078,\n",
       "        0.7757524 , 0.85478365, 0.56171018, 0.        , 0.59104839,\n",
       "        0.44613332, 0.09954814, 0.61546597, 0.13618083, 0.93894789,\n",
       "        0.37178389, 0.43731491, 0.41855269, 0.57122785, 0.15805257,\n",
       "        0.71418509, 0.24724371, 0.78705738, 0.2171289 , 0.05844266,\n",
       "        0.48443615, 0.18866339, 0.51312336, 0.52707006, 0.7824816 ],\n",
       "       [0.60839901, 1.06429172, 0.52384429, 0.09478746, 0.36416778,\n",
       "        0.58389081, 0.54787171, 0.8290743 , 0.65736379, 0.76111451,\n",
       "        0.20164582, 0.61440277, 0.71274459, 1.07991515, 0.16814702,\n",
       "        0.43472414, 0.44693842, 0.74291427, 0.86806729, 0.60762094,\n",
       "        0.51218078, 0.89298665, 0.7104556 , 0.5469375 , 0.8246861 ,\n",
       "        0.68425036, 0.60792624, 0.35047559, 0.85704073, 0.70443675,\n",
       "        0.7459226 , 0.28106583, 0.26756423, 0.82688349, 0.66422695,\n",
       "        0.29546535, 0.52854812, 0.62852713, 0.53904255, 0.98016354,\n",
       "        0.71219191, 1.00269019, 0.31072465, 0.56582766, 0.93524288,\n",
       "        0.23418755, 0.20427731, 0.17461672, 0.6775236 , 1.02889068,\n",
       "        0.48382174, 0.29026776, 0.54402739, 0.78359707, 0.9018833 ,\n",
       "        0.56826651, 0.72064423, 0.20255144, 0.58617476, 0.27992669,\n",
       "        0.85808681, 0.94937098, 0.44263758, 0.20278085, 0.43739205,\n",
       "        0.91323621, 0.77429349, 0.6292916 , 0.9190459 , 0.23301749,\n",
       "        0.28381768, 0.26673394, 1.06073793, 1.0436885 , 0.76660567,\n",
       "        0.45509994, 0.86224589, 0.83084645, 0.59104839, 0.        ,\n",
       "        0.6208258 , 0.59922492, 0.68908791, 0.7105613 , 0.85146845,\n",
       "        0.52605006, 0.82874367, 0.20041846, 0.82032289, 0.47367804,\n",
       "        0.55390606, 0.7954448 , 0.20626099, 0.39582472, 0.5888995 ,\n",
       "        0.68238705, 0.75827272, 0.34835312, 0.241885  , 0.73941312],\n",
       "       [0.5506243 , 0.47977563, 0.67195582, 0.59304208, 0.26458499,\n",
       "        0.19641521, 0.07549762, 0.4969699 , 0.25554108, 0.1920243 ,\n",
       "        0.58205601, 0.4695045 , 0.30220556, 0.46627309, 0.48387654,\n",
       "        0.41733496, 0.25797905, 0.40681102, 0.49658431, 0.22957127,\n",
       "        0.11056843, 0.43568829, 0.50438467, 0.37210512, 0.21837601,\n",
       "        0.601855  , 0.36765703, 0.27078777, 0.40170858, 0.49094006,\n",
       "        0.3048363 , 0.35060737, 0.79710165, 0.21335712, 0.34486412,\n",
       "        0.46700527, 0.45579387, 0.05356853, 0.20060837, 0.36009822,\n",
       "        0.26003557, 0.39000718, 0.31929127, 0.11022551, 0.52041009,\n",
       "        0.49232637, 0.55151539, 0.64409874, 0.13089874, 0.48975553,\n",
       "        0.32066   , 0.42984329, 0.26468463, 0.34913497, 0.40033329,\n",
       "        0.57336488, 0.10728425, 0.45485195, 0.44535606, 0.3479572 ,\n",
       "        0.56910939, 0.56705076, 0.41096012, 0.56466071, 0.38302592,\n",
       "        0.31977093, 0.50322393, 0.46234335, 0.31692351, 0.54677007,\n",
       "        0.40246313, 0.35656689, 0.47241629, 0.45086842, 0.28759354,\n",
       "        0.49242019, 0.40895155, 0.21016214, 0.44613332, 0.6208258 ,\n",
       "        0.        , 0.54164606, 0.17072154, 0.43459091, 0.50344965,\n",
       "        0.10612829, 0.26159886, 0.57770558, 0.1999014 , 0.33019998,\n",
       "        0.34931275, 0.41923715, 0.73461002, 0.35294331, 0.38942532,\n",
       "        0.06236809, 0.44178278, 0.30391707, 0.40176069, 0.34795893],\n",
       "       [0.0107707 , 0.71486922, 0.19654058, 0.65363448, 0.42740766,\n",
       "        0.3485762 , 0.49391965, 0.30233655, 0.77077159, 0.73014064,\n",
       "        0.41052098, 0.91147417, 0.82745641, 0.80132134, 0.60334254,\n",
       "        0.76929253, 0.63786577, 0.26755482, 1.02682133, 0.72786851,\n",
       "        0.5169614 , 0.97670474, 0.1495733 , 0.80527502, 0.72758666,\n",
       "        0.08787606, 0.18774851, 0.4651416 , 0.94197054, 0.15266581,\n",
       "        0.36661022, 0.54167525, 0.86612566, 0.71032863, 0.24706461,\n",
       "        0.70715919, 0.85583789, 0.59147257, 0.66197293, 0.7614997 ,\n",
       "        0.79232559, 0.73732277, 0.42677343, 0.60004161, 1.05904746,\n",
       "        0.36684245, 0.39819548, 0.74522477, 0.46579439, 0.62089676,\n",
       "        0.72526679, 0.32736674, 0.2769948 , 0.37017999, 0.4931627 ,\n",
       "        0.05764728, 0.62929725, 0.42126229, 0.09892258, 0.43863822,\n",
       "        1.08187473, 1.10225278, 0.76968536, 0.71543346, 0.74385282,\n",
       "        0.82965322, 0.22745274, 0.1037156 , 0.81651724, 0.37009548,\n",
       "        0.63129202, 0.45963463, 0.71937924, 0.71548061, 0.40915344,\n",
       "        0.83773435, 0.94918257, 0.66120098, 0.09954814, 0.59922492,\n",
       "        0.54164606, 0.        , 0.7095876 , 0.20669548, 1.02849021,\n",
       "        0.46154804, 0.53357547, 0.40983741, 0.6707747 , 0.23156941,\n",
       "        0.79204186, 0.32103001, 0.80241616, 0.26907979, 0.15784903,\n",
       "        0.58217237, 0.25535873, 0.57705974, 0.57485437, 0.87253677],\n",
       "       [0.71884043, 0.54486109, 0.82891652, 0.63942431, 0.37479356,\n",
       "        0.36697623, 0.21893513, 0.6586838 , 0.11132684, 0.0802216 ,\n",
       "        0.69516019, 0.35500323, 0.13945287, 0.48750763, 0.53050069,\n",
       "        0.36987773, 0.25172027, 0.572479  , 0.32691227, 0.11965648,\n",
       "        0.21412016, 0.26750536, 0.67478561, 0.2806323 , 0.16741808,\n",
       "        0.77197708, 0.53823937, 0.36403428, 0.23239462, 0.66132383,\n",
       "        0.46218171, 0.40826929, 0.81537655, 0.18442881, 0.51446285,\n",
       "        0.46687512, 0.3704921 , 0.11850065, 0.15742449, 0.36550453,\n",
       "        0.09280393, 0.42143824, 0.42331737, 0.13263771, 0.35009402,\n",
       "        0.61032947, 0.66517236, 0.66860915, 0.28643269, 0.58957879,\n",
       "        0.26654066, 0.55686451, 0.43293195, 0.50345918, 0.52811188,\n",
       "        0.7384382 , 0.13123936, 0.55810158, 0.61448012, 0.44605948,\n",
       "        0.40590385, 0.3963384 , 0.36096217, 0.5829557 , 0.33919716,\n",
       "        0.2304944 , 0.67070619, 0.63272856, 0.24273501, 0.66634129,\n",
       "        0.42500817, 0.44697486, 0.53404341, 0.50928183, 0.43728667,\n",
       "        0.43310202, 0.23960111, 0.23632415, 0.61546597, 0.68908791,\n",
       "        0.17072154, 0.7095876 , 0.        , 0.60375761, 0.33562057,\n",
       "        0.25331137, 0.37288197, 0.69061888, 0.2120608 , 0.49052878,\n",
       "        0.25587944, 0.57900458, 0.75963183, 0.49969141, 0.55934675,\n",
       "        0.15373741, 0.60775602, 0.34163867, 0.44930362, 0.18348308],\n",
       "       [0.20833233, 0.51018313, 0.40249191, 0.74239494, 0.43298338,\n",
       "        0.24655992, 0.41309549, 0.11886359, 0.68730242, 0.60369399,\n",
       "        0.55065097, 0.87240811, 0.73661133, 0.60367575, 0.66612472,\n",
       "        0.76229421, 0.60810341, 0.0616349 , 0.93061679, 0.65374114,\n",
       "        0.45275365, 0.86087684, 0.08114491, 0.76637784, 0.58004553,\n",
       "        0.21166549, 0.10668738, 0.47115773, 0.82942002, 0.06902   ,\n",
       "        0.17807406, 0.56838476, 0.96610761, 0.558703  , 0.09003016,\n",
       "        0.73745242, 0.83385494, 0.48814171, 0.60184943, 0.57734519,\n",
       "        0.69449877, 0.5443882 , 0.45763303, 0.52192026, 0.9494887 ,\n",
       "        0.48141898, 0.52982779, 0.82761233, 0.32448392, 0.41420761,\n",
       "        0.69394737, 0.42030708, 0.21235555, 0.169375  , 0.28719529,\n",
       "        0.26362352, 0.49789468, 0.51086342, 0.14073014, 0.48081456,\n",
       "        1.00268603, 0.99885007, 0.76003262, 0.77846102, 0.7315465 ,\n",
       "        0.67609192, 0.07530877, 0.1077544 , 0.65864817, 0.50559296,\n",
       "        0.65769014, 0.50259942, 0.515386  , 0.51304933, 0.22079789,\n",
       "        0.83749877, 0.83663425, 0.49881837, 0.13618083, 0.7105613 ,\n",
       "        0.43459091, 0.20669548, 0.60375761, 0.        , 0.93803062,\n",
       "        0.38919547, 0.34805165, 0.54857023, 0.51352279, 0.24382478,\n",
       "        0.74817825, 0.11459762, 0.89947973, 0.31882725, 0.12166704,\n",
       "        0.4568015 , 0.05248349, 0.578926  , 0.61405169, 0.78242665],\n",
       "       [1.03833982, 0.8145164 , 1.12371678, 0.77357243, 0.63915118,\n",
       "        0.69677154, 0.53621386, 0.9939613 , 0.25773557, 0.35870327,\n",
       "        0.92579306, 0.2619039 , 0.2023763 , 0.71766689, 0.68417338,\n",
       "        0.42206268, 0.43542515, 0.90805098, 0.03086381, 0.30283101,\n",
       "        0.51206094, 0.14930078, 1.0070441 , 0.30462158, 0.42860812,\n",
       "        1.09708256, 0.86690386, 0.61305956, 0.15064512, 0.99365141,\n",
       "        0.796961  , 0.60546948, 0.87734945, 0.45509009, 0.84830386,\n",
       "        0.56310726, 0.34348822, 0.44992105, 0.37512152, 0.60221141,\n",
       "        0.24366229, 0.67354016, 0.67270051, 0.42849304, 0.10693311,\n",
       "        0.85497638, 0.89898794, 0.76169304, 0.62184925, 0.887462  ,\n",
       "        0.37218424, 0.81841251, 0.75639255, 0.83720738, 0.84866314,\n",
       "        1.05054292, 0.45723782, 0.78768868, 0.93739481, 0.68475919,\n",
       "        0.08469018, 0.09872827, 0.41308415, 0.68087218, 0.41451816,\n",
       "        0.40132633, 1.00595579, 0.95977598, 0.42894839, 0.90875545,\n",
       "        0.56958148, 0.6762337 , 0.80134395, 0.77597677, 0.77011845,\n",
       "        0.43203879, 0.1463876 , 0.52668868, 0.93894789, 0.85146845,\n",
       "        0.50344965, 1.02849021, 0.33562057, 0.93803062, 0.        ,\n",
       "        0.56738853, 0.69114309, 0.92131516, 0.5012001 , 0.80026388,\n",
       "        0.29839077, 0.91398333, 0.84058786, 0.79103596, 0.88510408,\n",
       "        0.4882301 , 0.94330697, 0.53491289, 0.62255684, 0.15662409],\n",
       "       [0.47126359, 0.54863013, 0.57589289, 0.50735442, 0.16345572,\n",
       "        0.14384619, 0.03470492, 0.47255907, 0.30996725, 0.29199955,\n",
       "        0.47652503, 0.48384572, 0.36593721, 0.55399674, 0.40114842,\n",
       "        0.39163861, 0.2292054 , 0.37573634, 0.56527628, 0.26983069,\n",
       "        0.06378194, 0.52015285, 0.44875467, 0.37856356, 0.32450423,\n",
       "        0.53006557, 0.3040632 , 0.17691353, 0.48429353, 0.43576344,\n",
       "        0.30021923, 0.26918507, 0.72024258, 0.31894969, 0.30066978,\n",
       "        0.40952267, 0.45110609, 0.14094329, 0.21280906, 0.45574161,\n",
       "        0.33140824, 0.47679873, 0.21836167, 0.13910737, 0.59925466,\n",
       "        0.38653578, 0.44600198, 0.56715968, 0.1624951 , 0.53700509,\n",
       "        0.31018617, 0.32371501, 0.19017994, 0.3464641 , 0.42843647,\n",
       "        0.48687308, 0.21340084, 0.35168828, 0.37012243, 0.24821731,\n",
       "        0.62394563, 0.64103812, 0.38739879, 0.49295822, 0.35833034,\n",
       "        0.42561607, 0.46291371, 0.39423357, 0.42305133, 0.44077612,\n",
       "        0.33645157, 0.25941913, 0.54329159, 0.52413046, 0.29794553,\n",
       "        0.46865913, 0.49141534, 0.30857707, 0.37178389, 0.52605006,\n",
       "        0.10612829, 0.46154804, 0.25331137, 0.38919547, 0.56738853,\n",
       "        0.        , 0.31612608, 0.47220585, 0.30171121, 0.23757376,\n",
       "        0.35953512, 0.40209282, 0.65565327, 0.25001383, 0.31914824,\n",
       "        0.16719309, 0.40835539, 0.23859007, 0.32232116, 0.41113663],\n",
       "       [0.53871682, 0.23557709, 0.71346286, 0.81999164, 0.46699804,\n",
       "        0.25453699, 0.30816964, 0.34398987, 0.48204324, 0.33249467,\n",
       "        0.73816837, 0.71790166, 0.51001815, 0.27645616, 0.71592016,\n",
       "        0.67893317, 0.51883702, 0.29206835, 0.67513581, 0.47242371,\n",
       "        0.35826447, 0.57961271, 0.42905862, 0.62717831, 0.27262991,\n",
       "        0.55821376, 0.35035187, 0.48894012, 0.55566634, 0.41706587,\n",
       "        0.17034465, 0.58500315, 1.03584092, 0.24662587, 0.28651438,\n",
       "        0.72117029, 0.71366127, 0.29781393, 0.45929812, 0.22960495,\n",
       "        0.46167643, 0.20606058, 0.518601  , 0.37029724, 0.67217651,\n",
       "        0.6491621 , 0.7094049 , 0.88295006, 0.15410603, 0.22816888,\n",
       "        0.58142811, 0.57899818, 0.31988368, 0.18629118, 0.15752287,\n",
       "        0.5837545 , 0.24165063, 0.6371122 , 0.43942453, 0.54944023,\n",
       "        0.76909299, 0.72798758, 0.67252343, 0.80901937, 0.64462473,\n",
       "        0.35077644, 0.38778675, 0.43120607, 0.32849717, 0.69540188,\n",
       "        0.65102706, 0.56476959, 0.23215383, 0.21642239, 0.1273173 ,\n",
       "        0.75387723, 0.56230756, 0.17481463, 0.43731491, 0.82874367,\n",
       "        0.26159886, 0.53357547, 0.37288197, 0.34805165, 0.69114309,\n",
       "        0.31612608, 0.        , 0.73448268, 0.19725616, 0.41050183,\n",
       "        0.60332398, 0.26677461, 0.97080901, 0.47291581, 0.38348374,\n",
       "        0.23038233, 0.32286085, 0.55217727, 0.63823586, 0.55105825],\n",
       "       [0.41821012, 0.9647193 , 0.32386463, 0.27743035, 0.31796642,\n",
       "        0.47994866, 0.50251495, 0.6668821 , 0.69115599, 0.75016403,\n",
       "        0.00456763, 0.71690176, 0.75152588, 1.00369194, 0.28107917,\n",
       "        0.53863215, 0.48720483, 0.5903984 , 0.93206601, 0.63931236,\n",
       "        0.48344486, 0.9312681 , 0.53449365, 0.62877266, 0.79533652,\n",
       "        0.4918036 , 0.45457133, 0.32691139, 0.89393342, 0.53046673,\n",
       "        0.61991789, 0.31630711, 0.46594471, 0.79101565, 0.51958947,\n",
       "        0.41996242, 0.63747779, 0.60200826, 0.56371034, 0.91923594,\n",
       "        0.73795692, 0.92761726, 0.26733338, 0.55818167, 0.98966182,\n",
       "        0.0866495 , 0.02620572, 0.36821627, 0.59573675, 0.90955967,\n",
       "        0.55193918, 0.15572364, 0.42081039, 0.65081951, 0.77727271,\n",
       "        0.37337974, 0.68471842, 0.13502993, 0.41363059, 0.24558165,\n",
       "        0.94513115, 1.01464733, 0.54399414, 0.36977998, 0.52892301,\n",
       "        0.89404349, 0.60449249, 0.45546186, 0.89370604, 0.04303185,\n",
       "        0.37145234, 0.24866566, 0.96361414, 0.95013644, 0.64869301,\n",
       "        0.58194661, 0.90013149, 0.77732706, 0.41855269, 0.20041846,\n",
       "        0.57770558, 0.40983741, 0.69061888, 0.54857023, 0.92131516,\n",
       "        0.47220585, 0.73448268, 0.        , 0.77278372, 0.33514652,\n",
       "        0.62801929, 0.6463963 , 0.40640705, 0.26326554, 0.42944534,\n",
       "        0.63935962, 0.5994958 , 0.38640955, 0.30917073, 0.78696935],\n",
       "       [0.67797496, 0.33323272, 0.82863187, 0.78924515, 0.46375195,\n",
       "        0.33258434, 0.27459823, 0.53268234, 0.32215234, 0.14898049,\n",
       "        0.7770338 , 0.56666739, 0.33534317, 0.28211491, 0.67931753,\n",
       "        0.56975626, 0.42762752, 0.46585225, 0.48302199, 0.32907427,\n",
       "        0.30837811, 0.38318673, 0.59340652, 0.49101771, 0.07549071,\n",
       "        0.71290855, 0.48349348, 0.47063592, 0.36079598, 0.58035336,\n",
       "        0.34137225, 0.54687567, 0.98669005, 0.04938314, 0.4349005 ,\n",
       "        0.6462314 , 0.58086332, 0.19774989, 0.34447963, 0.16548495,\n",
       "        0.28756431, 0.21156984, 0.51863165, 0.27260727, 0.47574692,\n",
       "        0.68655401, 0.74659162, 0.8348228 , 0.20626069, 0.38820402,\n",
       "        0.46603984, 0.62126334, 0.40988396, 0.37077638, 0.35229777,\n",
       "        0.71298167, 0.10454147, 0.65327853, 0.57196738, 0.54761961,\n",
       "        0.58186016, 0.53214507, 0.56159747, 0.75259899, 0.53694895,\n",
       "        0.16257401, 0.56606737, 0.57584828, 0.14622715, 0.73973358,\n",
       "        0.58962999, 0.5564673 , 0.32216667, 0.29730132, 0.30363817,\n",
       "        0.63806715, 0.36723022, 0.02580651, 0.57122785, 0.82032289,\n",
       "        0.1999014 , 0.6707747 , 0.2120608 , 0.51352279, 0.5012001 ,\n",
       "        0.30171121, 0.19725616, 0.77278372, 0.        , 0.49293323,\n",
       "        0.46622124, 0.45263124, 0.92606674, 0.53300144, 0.51300515,\n",
       "        0.13794795, 0.49984228, 0.49383761, 0.59648341, 0.37147743],\n",
       "       [0.24197021, 0.6340714 , 0.34189573, 0.49949466, 0.20378294,\n",
       "        0.16355429, 0.27164858, 0.35962029, 0.54273891, 0.52222427,\n",
       "        0.33826031, 0.68123707, 0.6007837 , 0.68591176, 0.42263655,\n",
       "        0.54614351, 0.4077071 , 0.26972603, 0.80006068, 0.49826176,\n",
       "        0.28828745, 0.75767823, 0.26720639, 0.57470317, 0.53667993,\n",
       "        0.30985208, 0.13748732, 0.24272927, 0.72186648, 0.25716505,\n",
       "        0.28477998, 0.33211178, 0.72386778, 0.52424065, 0.19068431,\n",
       "        0.50193728, 0.62872052, 0.37516093, 0.43090372, 0.61663387,\n",
       "        0.56833117, 0.61242661, 0.21774289, 0.37312381, 0.83650341,\n",
       "        0.25574768, 0.3121524 , 0.58389767, 0.2914972 , 0.57445594,\n",
       "        0.49541661, 0.18765175, 0.09066048, 0.31651394, 0.44215019,\n",
       "        0.25038724, 0.42949469, 0.27144805, 0.1546208 , 0.23856857,\n",
       "        0.8514326 , 0.87719228, 0.5456189 , 0.53534475, 0.51870586,\n",
       "        0.64056963, 0.31467068, 0.19171809, 0.63234421, 0.29338391,\n",
       "        0.42280354, 0.26051899, 0.63402805, 0.62242133, 0.31461467,\n",
       "        0.61772171, 0.72898908, 0.49001572, 0.15805257, 0.47367804,\n",
       "        0.33019998, 0.23156941, 0.49052878, 0.24382478, 0.80026388,\n",
       "        0.23757376, 0.41050183, 0.33514652, 0.49293323, 0.        ,\n",
       "        0.56091697, 0.32177148, 0.65703201, 0.07786875, 0.12704023,\n",
       "        0.3806274 , 0.28765317, 0.35508853, 0.37432973, 0.64524248],\n",
       "       [0.80256406, 0.79644949, 0.85703072, 0.47905622, 0.37205964,\n",
       "        0.50334579, 0.3396312 , 0.83059978, 0.15644002, 0.33202738,\n",
       "        0.63242112, 0.12431065, 0.18694961, 0.74336084, 0.38616318,\n",
       "        0.1380748 , 0.15629213, 0.73467532, 0.31416457, 0.13714712,\n",
       "        0.29576025, 0.35159697, 0.80394042, 0.02479885, 0.42212502,\n",
       "        0.87019977, 0.65786248, 0.33922687, 0.31895332, 0.79133568,\n",
       "        0.64808367, 0.31196931, 0.60870256, 0.44024227, 0.66013619,\n",
       "        0.27204227, 0.11469255, 0.30600358, 0.15070018, 0.62118969,\n",
       "        0.21203541, 0.67692118, 0.39426713, 0.24024827, 0.38254062,\n",
       "        0.56706229, 0.60681469, 0.47788127, 0.47945604, 0.82914845,\n",
       "        0.07623281, 0.5389021 , 0.54212047, 0.69374564, 0.74892683,\n",
       "        0.80351297, 0.3730365 , 0.49659722, 0.71156518, 0.40069793,\n",
       "        0.3173203 , 0.39568465, 0.12820383, 0.39336093, 0.12065844,\n",
       "        0.4664204 , 0.82228194, 0.7421132 , 0.48498577, 0.61893172,\n",
       "        0.27124065, 0.38893965, 0.78630637, 0.76198387, 0.63537168,\n",
       "        0.18357535, 0.32277749, 0.48945808, 0.71418509, 0.55390606,\n",
       "        0.34931275, 0.79204186, 0.25587944, 0.74817825, 0.29839077,\n",
       "        0.35953512, 0.60332398, 0.62801929, 0.46622124, 0.56091697,\n",
       "        0.        , 0.75736802, 0.56303047, 0.53287726, 0.66775166,\n",
       "        0.37320866, 0.76769039, 0.24455788, 0.32480657, 0.19743778],\n",
       "       [0.32224863, 0.40014826, 0.51706112, 0.81755633, 0.48469962,\n",
       "        0.26206762, 0.41802393, 0.08084793, 0.67427993, 0.56399139,\n",
       "        0.64887083, 0.88099787, 0.71714846, 0.50167912, 0.73213913,\n",
       "        0.79156391, 0.63071129, 0.05744107, 0.90299992, 0.64796999,\n",
       "        0.46479293, 0.82151294, 0.18347238, 0.77787836, 0.52473688,\n",
       "        0.31676977, 0.19182549, 0.52025369, 0.79296913, 0.17477387,\n",
       "        0.11709069, 0.62179951, 1.04245442, 0.50081128, 0.13141774,\n",
       "        0.78639973, 0.85302651, 0.47144711, 0.60705483, 0.48955349,\n",
       "        0.67175301, 0.44818408, 0.51909855, 0.52018002, 0.91273159,\n",
       "        0.57342302, 0.62584664, 0.89838387, 0.2927686 , 0.30005397,\n",
       "        0.71215422, 0.50792596, 0.26159023, 0.08191411, 0.17615904,\n",
       "        0.37813811, 0.45943347, 0.59310851, 0.2514433 , 0.54573153,\n",
       "        0.98460571, 0.96535983, 0.78795224, 0.84165299, 0.75892477,\n",
       "        0.61298463, 0.1245412 , 0.22192298, 0.59246405, 0.60342658,\n",
       "        0.70731357, 0.56663061, 0.4063274 , 0.40611675, 0.14935083,\n",
       "        0.8683305 , 0.80002653, 0.43395991, 0.24724371, 0.7954448 ,\n",
       "        0.41923715, 0.32103001, 0.57900458, 0.11459762, 0.91398333,\n",
       "        0.40209282, 0.26677461, 0.6463963 , 0.45263124, 0.32177148,\n",
       "        0.75736802, 0.        , 0.97543952, 0.39963632, 0.21849991,\n",
       "        0.4257589 , 0.06756328, 0.61974235, 0.67130958, 0.76212266],\n",
       "       [0.81185907, 1.20428065, 0.7289454 , 0.1578832 , 0.50824154,\n",
       "        0.74274757, 0.66931864, 1.01651926, 0.69925544, 0.83822378,\n",
       "        0.40744582, 0.58160717, 0.74495759, 1.20080754, 0.25492116,\n",
       "        0.42571824, 0.50833351, 0.92591269, 0.86292691, 0.65631504,\n",
       "        0.62452218, 0.91453345, 0.90677384, 0.54782618, 0.91469857,\n",
       "        0.88834319, 0.79417956, 0.482372  , 0.88191997, 0.89979847,\n",
       "        0.91250665, 0.38667784, 0.06703001, 0.92244296, 0.84433276,\n",
       "        0.296263  , 0.49730732, 0.72833254, 0.60220774, 1.09106414,\n",
       "        0.75771293, 1.12461331, 0.46265797, 0.65530754, 0.93740793,\n",
       "        0.43561293, 0.41038321, 0.09145925, 0.81670902, 1.18455964,\n",
       "        0.50976301, 0.4838093 , 0.71623321, 0.95358964, 1.06378039,\n",
       "        0.77349549, 0.8219293 , 0.38993977, 0.78227524, 0.43344697,\n",
       "        0.8266414 , 0.93880724, 0.43546816, 0.17670465, 0.44383438,\n",
       "        0.99012557, 0.96671295, 0.82542379, 1.00126334, 0.43910161,\n",
       "        0.33741506, 0.41426017, 1.19888445, 1.17939633, 0.92727278,\n",
       "        0.40957892, 0.88580445, 0.9410725 , 0.78705738, 0.20626099,\n",
       "        0.73461002, 0.80241616, 0.75963183, 0.89947973, 0.84058786,\n",
       "        0.65565327, 0.97080901, 0.40640705, 0.92606674, 0.65703201,\n",
       "        0.56303047, 0.97543952, 0.        , 0.58071352, 0.77869451,\n",
       "        0.79186342, 0.94466143, 0.43231023, 0.33394323, 0.76037897],\n",
       "       [0.27985035, 0.70163727, 0.33319686, 0.42357147, 0.16156225,\n",
       "        0.21898057, 0.28452607, 0.43592127, 0.53654166, 0.54198997,\n",
       "        0.26670214, 0.64863549, 0.59664489, 0.74522031, 0.35144941,\n",
       "        0.50067729, 0.37673021, 0.3473296 , 0.79383336, 0.48857511,\n",
       "        0.28732871, 0.7629675 , 0.3337421 , 0.54386418, 0.56841061,\n",
       "        0.3544141 , 0.21361279, 0.19773899, 0.72622438, 0.32499396,\n",
       "        0.3587529 , 0.27365514, 0.64741272, 0.55910882, 0.26853374,\n",
       "        0.4414555 , 0.58896757, 0.39088134, 0.41625811, 0.66799594,\n",
       "        0.56927179, 0.67014468, 0.15811083, 0.37308969, 0.83668595,\n",
       "        0.18077174, 0.23913053, 0.50942895, 0.34107664, 0.64773119,\n",
       "        0.46256953, 0.11122505, 0.15771175, 0.39250172, 0.51640231,\n",
       "        0.27193795, 0.45810667, 0.19371579, 0.21285203, 0.17298043,\n",
       "        0.83565529, 0.87337948, 0.50135517, 0.46476125, 0.47604819,\n",
       "        0.67146538, 0.38747013, 0.25421474, 0.66619649, 0.22296475,\n",
       "        0.36402729, 0.19473527, 0.70074368, 0.68774414, 0.38588156,\n",
       "        0.56865682, 0.73316318, 0.53339399, 0.2171289 , 0.39582472,\n",
       "        0.35294331, 0.26907979, 0.49969141, 0.31882725, 0.79103596,\n",
       "        0.25001383, 0.47291581, 0.26326554, 0.53300144, 0.07786875,\n",
       "        0.53287726, 0.39963632, 0.58071352, 0.        , 0.19875761,\n",
       "        0.40966538, 0.36425953, 0.30859519, 0.31053095, 0.63934501],\n",
       "       [0.16540863, 0.58217118, 0.3301501 , 0.62198211, 0.32681176,\n",
       "        0.19364924, 0.34904279, 0.2403636 , 0.62850508, 0.57511347,\n",
       "        0.43173411, 0.79058221, 0.68288052, 0.65667846, 0.54887478,\n",
       "        0.66572421, 0.5194336 , 0.16159534, 0.88138003, 0.58893152,\n",
       "        0.37924563, 0.82507738, 0.14166033, 0.6836845 , 0.56992759,\n",
       "        0.21267688, 0.03348888, 0.36576508, 0.79109979, 0.13086837,\n",
       "        0.22420366, 0.45832787, 0.84519501, 0.55250268, 0.10376413,\n",
       "        0.62819214, 0.74399472, 0.44084688, 0.52841472, 0.60850489,\n",
       "        0.64512952, 0.58923073, 0.34459996, 0.45801488, 0.90943959,\n",
       "        0.3602001 , 0.40985764, 0.70818594, 0.30796647, 0.50244483,\n",
       "        0.6070141 , 0.29864098, 0.12899217, 0.23998313, 0.36942419,\n",
       "        0.20209372, 0.47296303, 0.3895303 , 0.05896395, 0.36556553,\n",
       "        0.94307746, 0.95467866, 0.6644831 , 0.66184909, 0.63679609,\n",
       "        0.67183738, 0.18873325, 0.07513306, 0.65868155, 0.38641365,\n",
       "        0.5487989 , 0.38752648, 0.58487221, 0.57789309, 0.26426032,\n",
       "        0.73895994, 0.79833999, 0.50377285, 0.05844266, 0.5888995 ,\n",
       "        0.38942532, 0.15784903, 0.55934675, 0.12166704, 0.88510408,\n",
       "        0.31914824, 0.38348374, 0.42944534, 0.51300515, 0.12704023,\n",
       "        0.66775166, 0.21849991, 0.77869451, 0.19875761, 0.        ,\n",
       "        0.42648676, 0.17067914, 0.47694967, 0.50128741, 0.72850451],\n",
       "       [0.59061845, 0.4334273 , 0.72216852, 0.65256785, 0.32694504,\n",
       "        0.23359696, 0.13776893, 0.5057711 , 0.25628943, 0.14894807,\n",
       "        0.64368788, 0.48773209, 0.29293156, 0.40958538, 0.54293934,\n",
       "        0.4567759 , 0.30345781, 0.42168136, 0.47774901, 0.24237964,\n",
       "        0.17066072, 0.40420653, 0.53103402, 0.39723071, 0.15883598,\n",
       "        0.63678655, 0.40161139, 0.33275256, 0.37264726, 0.51755479,\n",
       "        0.308771  , 0.41002445, 0.85353864, 0.15178677, 0.36908966,\n",
       "        0.51831015, 0.48452229, 0.07052205, 0.23233393, 0.30007688,\n",
       "        0.24651295, 0.33432465, 0.38165936, 0.14764794, 0.49276417,\n",
       "        0.5537273 , 0.6131584 , 0.70094601, 0.13418107, 0.45611556,\n",
       "        0.35596012, 0.49041266, 0.30756584, 0.34973265, 0.38041845,\n",
       "        0.61759666, 0.04889916, 0.51715139, 0.48417607, 0.41029401,\n",
       "        0.55962278, 0.54292182, 0.44959491, 0.62012922, 0.42278766,\n",
       "        0.26185466, 0.52108461, 0.49682822, 0.25704226, 0.60787607,\n",
       "        0.45726229, 0.41871131, 0.42497552, 0.4022833 , 0.28362412,\n",
       "        0.52966762, 0.37985522, 0.14975436, 0.48443615, 0.68238705,\n",
       "        0.06236809, 0.58217237, 0.15373741, 0.4568015 , 0.4882301 ,\n",
       "        0.16719309, 0.23038233, 0.63935962, 0.13794795, 0.3806274 ,\n",
       "        0.37320866, 0.4257589 , 0.79186342, 0.40966538, 0.42648676,\n",
       "        0.        , 0.45703438, 0.35980793, 0.46036954, 0.33721988],\n",
       "       [0.25602941, 0.4676232 , 0.45182745, 0.7871471 , 0.46843029,\n",
       "        0.26455123, 0.42904898, 0.07221079, 0.69693968, 0.60072865,\n",
       "        0.6016646 , 0.89196663, 0.74350842, 0.56727412, 0.70766886,\n",
       "        0.79015523, 0.63276257, 0.03535382, 0.93423242, 0.66647161,\n",
       "        0.47210863, 0.85883197, 0.11596231, 0.78691826, 0.56944021,\n",
       "        0.24938806, 0.15066962, 0.50580218, 0.82869227, 0.10724784,\n",
       "        0.15851158, 0.60509126, 1.01146744, 0.54672864, 0.11082156,\n",
       "        0.7729385 , 0.85776239, 0.49515165, 0.61914146, 0.54966109,\n",
       "        0.69976765, 0.51164771, 0.49690096, 0.53578705, 0.94885023,\n",
       "        0.5308234 , 0.58032004, 0.87103335, 0.32291483, 0.3668951 ,\n",
       "        0.71708762, 0.46833057, 0.2441461 , 0.13736149, 0.24364778,\n",
       "        0.31280197, 0.49496287, 0.5574644 , 0.19321277, 0.52144272,\n",
       "        1.01079483, 0.99983686, 0.78734334, 0.81922014, 0.75856423,\n",
       "        0.6619067 , 0.0662251 , 0.15938384, 0.64283896, 0.55647989,\n",
       "        0.69323796, 0.54299036, 0.47366898, 0.47302757, 0.19829767,\n",
       "        0.86615356, 0.83584829, 0.48307325, 0.18866339, 0.75827272,\n",
       "        0.44178278, 0.25535873, 0.60775602, 0.05248349, 0.94330697,\n",
       "        0.40835539, 0.32286085, 0.5994958 , 0.49984228, 0.28765317,\n",
       "        0.76769039, 0.06756328, 0.94466143, 0.36425953, 0.17067914,\n",
       "        0.45703438, 0.        , 0.61081875, 0.65232953, 0.78907117],\n",
       "       [0.5878202 , 0.7805109 , 0.61871533, 0.29957734, 0.15134466,\n",
       "        0.3597001 , 0.24422843, 0.68083957, 0.31330036, 0.41592468,\n",
       "        0.39089217, 0.34784198, 0.37154304, 0.7692313 , 0.18965806,\n",
       "        0.19223757, 0.10273514, 0.58267446, 0.54588898, 0.26218844,\n",
       "        0.1956967 , 0.55285327, 0.61854398, 0.2490452 , 0.48609016,\n",
       "        0.66088603, 0.4763877 , 0.11256321, 0.51600989, 0.60736279,\n",
       "        0.53000836, 0.07211999, 0.49373602, 0.49197859, 0.5001628 ,\n",
       "        0.17120455, 0.28162329, 0.29617917, 0.19106085, 0.65875473,\n",
       "        0.36589013, 0.69346209, 0.15586558, 0.224898  , 0.60535169,\n",
       "        0.32257719, 0.36416543, 0.34121533, 0.40013867, 0.77535118,\n",
       "        0.16853978, 0.2964986 , 0.36721341, 0.57544133, 0.66613412,\n",
       "        0.57948012, 0.38989644, 0.25308983, 0.50962033, 0.15741457,\n",
       "        0.56146698, 0.62849337, 0.19275998, 0.26074873, 0.16782895,\n",
       "        0.56881353, 0.65401545, 0.54632715, 0.57682487, 0.37496626,\n",
       "        0.09911023, 0.14447498, 0.7739954 , 0.75325953, 0.53332655,\n",
       "        0.26263334, 0.52172949, 0.50879012, 0.51312336, 0.34835312,\n",
       "        0.30391707, 0.57705974, 0.34163867, 0.578926  , 0.53491289,\n",
       "        0.23859007, 0.55217727, 0.38640955, 0.49383761, 0.35508853,\n",
       "        0.24455788, 0.61974235, 0.43231023, 0.30859519, 0.47694967,\n",
       "        0.35980793, 0.61081875, 0.        , 0.10768638, 0.40361493],\n",
       "       [0.58551687, 0.87079185, 0.58140113, 0.19323998, 0.18702947,\n",
       "        0.42151425, 0.33538647, 0.72419307, 0.41600317, 0.52346978,\n",
       "        0.3133617 , 0.40776416, 0.47234149, 0.86795685, 0.08300506,\n",
       "        0.23005674, 0.20513522, 0.62794487, 0.63645883, 0.36590719,\n",
       "        0.29129251, 0.65328346, 0.64115731, 0.32269926, 0.59226752,\n",
       "        0.66198801, 0.5077998 , 0.15438123, 0.6169407 , 0.63139944,\n",
       "        0.59392043, 0.05328743, 0.39801433, 0.59716034, 0.54435177,\n",
       "        0.13255509, 0.32879272, 0.39976418, 0.29733161, 0.76039891,\n",
       "        0.4703959 , 0.79146596, 0.15676068, 0.33105968, 0.70015704,\n",
       "        0.26266322, 0.2906673 , 0.24485216, 0.48422293, 0.85567683,\n",
       "        0.25041985, 0.25984456, 0.41036686, 0.63753187, 0.7393461 ,\n",
       "        0.5665097 , 0.4934636 , 0.18782679, 0.52293021, 0.13755123,\n",
       "        0.63957689, 0.71875455, 0.2350507 , 0.17340487, 0.2199186 ,\n",
       "        0.67630532, 0.687237  , 0.56341589, 0.68393708, 0.30761952,\n",
       "        0.06387262, 0.11585606, 0.86519723, 0.84554156, 0.60360313,\n",
       "        0.2805083 , 0.62234968, 0.61008512, 0.52707006, 0.241885  ,\n",
       "        0.40176069, 0.57485437, 0.44930362, 0.61405169, 0.62255684,\n",
       "        0.32232116, 0.63823586, 0.30917073, 0.59648341, 0.37432973,\n",
       "        0.32480657, 0.67130958, 0.33394323, 0.31053095, 0.50128741,\n",
       "        0.46036954, 0.65232953, 0.10768638, 0.        , 0.50110697],\n",
       "       [0.88232069, 0.69951359, 0.97252737, 0.67050466, 0.49189687,\n",
       "        0.54032004, 0.37969626, 0.84152537, 0.10290243, 0.22275245,\n",
       "        0.79151224, 0.23262056, 0.04586521, 0.61927283, 0.57151446,\n",
       "        0.33538323, 0.30100642, 0.75391958, 0.15491123, 0.15174732,\n",
       "        0.3569909 , 0.1550905 , 0.85075741, 0.21447125, 0.30568863,\n",
       "        0.94056115, 0.71030436, 0.46898111, 0.121541  , 0.83738355,\n",
       "        0.64545077, 0.47569055, 0.80596226, 0.33043995, 0.69256317,\n",
       "        0.4676835 , 0.2870244 , 0.29439265, 0.22713942, 0.49784571,\n",
       "        0.09079498, 0.56434551, 0.52968026, 0.27254816, 0.20282918,\n",
       "        0.71572439, 0.76344497, 0.67463017, 0.46937069, 0.75921   ,\n",
       "        0.25717983, 0.67407468, 0.59983752, 0.68692958, 0.70788087,\n",
       "        0.89562912, 0.31121645, 0.65206185, 0.78096932, 0.54481511,\n",
       "        0.22250192, 0.23417092, 0.32553234, 0.58951312, 0.31697402,\n",
       "        0.31127895, 0.85108662, 0.80315652, 0.33554689, 0.7706991 ,\n",
       "        0.45601446, 0.53877259, 0.68729794, 0.66189149, 0.62074039,\n",
       "        0.37145139, 0.12555482, 0.39726201, 0.7824816 , 0.73941312,\n",
       "        0.34795893, 0.87253677, 0.18348308, 0.78242665, 0.15662409,\n",
       "        0.41113663, 0.55105825, 0.78696935, 0.37147743, 0.64524248,\n",
       "        0.19743778, 0.76212266, 0.76037897, 0.63934501, 0.72850451,\n",
       "        0.33721988, 0.78907117, 0.40361493, 0.50110697, 0.        ]])"
      ]
     },
     "execution_count": 90,
     "metadata": {},
     "output_type": "execute_result"
    }
   ],
   "source": [
    "hint(52)\n",
    "answer(52)\n",
    "points = np.random.random((100, 2))\n",
    "X, Y = np.atleast_2d(points[:, 0], points[:, 1])\n",
    "D = np.sqrt((X - X.T) ** 2 + (Y - Y.T) ** 2)\n",
    "D"
   ]
  },
  {
   "cell_type": "markdown",
   "id": "343c5a85",
   "metadata": {},
   "source": [
    "#### 53. How to convert a float (32 bits) array into an integer (32 bits) in place?\n"
   ]
  },
  {
   "cell_type": "code",
   "execution_count": 95,
   "id": "fc1b687b",
   "metadata": {},
   "outputs": [
    {
     "name": "stdout",
     "output_type": "stream",
     "text": [
      "hint: view and [:] =\n"
     ]
    },
    {
     "data": {
      "text/plain": [
       "array([1060122007, 1065105641, 1018140459, 1063656823, 1064115098,\n",
       "       1059843920, 1060416496, 1053846495, 1059226784, 1060463134],\n",
       "      dtype=int32)"
      ]
     },
     "execution_count": 95,
     "metadata": {},
     "output_type": "execute_result"
    }
   ],
   "source": [
    "hint(53)\n",
    "vec = np.random.random(10).astype(np.float32)\n",
    "vec.view(np.int32)"
   ]
  },
  {
   "cell_type": "markdown",
   "id": "a69e1ace",
   "metadata": {},
   "source": [
    "#### 54. How to read the following file? (★★☆)\n",
    "\n",
    "```\n",
    "1, 2, 3, 4, 5\n",
    "6,  ,  , 7, 8\n",
    " ,  , 9,10,11\n",
    "```\n"
   ]
  },
  {
   "cell_type": "code",
   "execution_count": 97,
   "id": "1c7957d4",
   "metadata": {},
   "outputs": [
    {
     "name": "stdout",
     "output_type": "stream",
     "text": [
      "hint: np.genfromtxt\n",
      "[[ 1  2  3  4  5]\n",
      " [ 6 -1 -1  7  8]\n",
      " [-1 -1  9 10 11]]\n"
     ]
    }
   ],
   "source": [
    "hint(54)\n",
    "from io import StringIO\n",
    "\n",
    "\n",
    "s = StringIO(\n",
    "    \"\"\"1, 2, 3, 4, 5\n",
    "\n",
    "                6,  ,  , 7, 8\n",
    "\n",
    "                 ,  , 9,10,11\n",
    "\"\"\"\n",
    ")\n",
    "Z = np.genfromtxt(s, delimiter=\",\", dtype=np.int32)\n",
    "print(Z)"
   ]
  },
  {
   "cell_type": "markdown",
   "id": "c23bd80d",
   "metadata": {},
   "source": [
    "#### 55. What is the equivalent of enumerate for numpy arrays? (★★☆)\n"
   ]
  },
  {
   "cell_type": "code",
   "execution_count": 99,
   "id": "d95d9578",
   "metadata": {},
   "outputs": [
    {
     "name": "stdout",
     "output_type": "stream",
     "text": [
      "hint: np.ndenumerate, np.ndindex\n",
      "(0, 0) 0\n",
      "(0, 1) 1\n",
      "(0, 2) 2\n",
      "(1, 0) 3\n",
      "(1, 1) 4\n",
      "(1, 2) 5\n",
      "(2, 0) 6\n",
      "(2, 1) 7\n",
      "(2, 2) 8\n",
      "(0, 0)\n",
      "(0, 1)\n",
      "(0, 2)\n",
      "(1, 0)\n",
      "(1, 1)\n",
      "(1, 2)\n",
      "(2, 0)\n",
      "(2, 1)\n",
      "(2, 2)\n"
     ]
    }
   ],
   "source": [
    "hint(55)\n",
    "matrix = np.arange(9).reshape((3, 3))\n",
    "for i, v in np.ndenumerate(matrix):\n",
    "    print(i, v)\n",
    "for i in np.ndindex(matrix.shape):\n",
    "    print(i)"
   ]
  },
  {
   "cell_type": "markdown",
   "id": "2153a5ec",
   "metadata": {},
   "source": [
    "#### 56. Generate a generic 2D Gaussian-like array (★★☆)\n"
   ]
  },
  {
   "cell_type": "code",
   "execution_count": 100,
   "id": "61122d1e",
   "metadata": {},
   "outputs": [
    {
     "name": "stdout",
     "output_type": "stream",
     "text": [
      "hint: np.meshgrid, np.exp\n"
     ]
    }
   ],
   "source": [
    "hint(56)"
   ]
  },
  {
   "cell_type": "markdown",
   "id": "2e76d589",
   "metadata": {},
   "source": [
    "#### 57. How to randomly place p elements in a 2D array? (★★☆)\n"
   ]
  },
  {
   "cell_type": "code",
   "execution_count": 107,
   "id": "0c2e4fcc",
   "metadata": {},
   "outputs": [
    {
     "name": "stdout",
     "output_type": "stream",
     "text": [
      "hint: np.put, np.random.choice\n",
      "Help on built-in function choice:\n",
      "\n",
      "choice(...) method of numpy.random.mtrand.RandomState instance\n",
      "    choice(a, size=None, replace=True, p=None)\n",
      "    \n",
      "    Generates a random sample from a given 1-D array\n",
      "    \n",
      "    .. versionadded:: 1.7.0\n",
      "    \n",
      "    .. note::\n",
      "        New code should use the `~numpy.random.Generator.choice`\n",
      "        method of a `~numpy.random.Generator` instance instead;\n",
      "        please see the :ref:`random-quick-start`.\n",
      "    \n",
      "    Parameters\n",
      "    ----------\n",
      "    a : 1-D array-like or int\n",
      "        If an ndarray, a random sample is generated from its elements.\n",
      "        If an int, the random sample is generated as if it were ``np.arange(a)``\n",
      "    size : int or tuple of ints, optional\n",
      "        Output shape.  If the given shape is, e.g., ``(m, n, k)``, then\n",
      "        ``m * n * k`` samples are drawn.  Default is None, in which case a\n",
      "        single value is returned.\n",
      "    replace : boolean, optional\n",
      "        Whether the sample is with or without replacement. Default is True,\n",
      "        meaning that a value of ``a`` can be selected multiple times.\n",
      "    p : 1-D array-like, optional\n",
      "        The probabilities associated with each entry in a.\n",
      "        If not given, the sample assumes a uniform distribution over all\n",
      "        entries in ``a``.\n",
      "    \n",
      "    Returns\n",
      "    -------\n",
      "    samples : single item or ndarray\n",
      "        The generated random samples\n",
      "    \n",
      "    Raises\n",
      "    ------\n",
      "    ValueError\n",
      "        If a is an int and less than zero, if a or p are not 1-dimensional,\n",
      "        if a is an array-like of size 0, if p is not a vector of\n",
      "        probabilities, if a and p have different lengths, or if\n",
      "        replace=False and the sample size is greater than the population\n",
      "        size\n",
      "    \n",
      "    See Also\n",
      "    --------\n",
      "    randint, shuffle, permutation\n",
      "    random.Generator.choice: which should be used in new code\n",
      "    \n",
      "    Notes\n",
      "    -----\n",
      "    Setting user-specified probabilities through ``p`` uses a more general but less\n",
      "    efficient sampler than the default. The general sampler produces a different sample\n",
      "    than the optimized sampler even if each element of ``p`` is 1 / len(a).\n",
      "    \n",
      "    Sampling random rows from a 2-D array is not possible with this function,\n",
      "    but is possible with `Generator.choice` through its ``axis`` keyword.\n",
      "    \n",
      "    Examples\n",
      "    --------\n",
      "    Generate a uniform random sample from np.arange(5) of size 3:\n",
      "    \n",
      "    >>> np.random.choice(5, 3)\n",
      "    array([0, 3, 4]) # random\n",
      "    >>> #This is equivalent to np.random.randint(0,5,3)\n",
      "    \n",
      "    Generate a non-uniform random sample from np.arange(5) of size 3:\n",
      "    \n",
      "    >>> np.random.choice(5, 3, p=[0.1, 0, 0.3, 0.6, 0])\n",
      "    array([3, 3, 0]) # random\n",
      "    \n",
      "    Generate a uniform random sample from np.arange(5) of size 3 without\n",
      "    replacement:\n",
      "    \n",
      "    >>> np.random.choice(5, 3, replace=False)\n",
      "    array([3,1,0]) # random\n",
      "    >>> #This is equivalent to np.random.permutation(np.arange(5))[:3]\n",
      "    \n",
      "    Generate a non-uniform random sample from np.arange(5) of size\n",
      "    3 without replacement:\n",
      "    \n",
      "    >>> np.random.choice(5, 3, replace=False, p=[0.1, 0, 0.3, 0.6, 0])\n",
      "    array([2, 3, 0]) # random\n",
      "    \n",
      "    Any of the above can be repeated with an arbitrary array-like\n",
      "    instead of just integers. For instance:\n",
      "    \n",
      "    >>> aa_milne_arr = ['pooh', 'rabbit', 'piglet', 'Christopher']\n",
      "    >>> np.random.choice(aa_milne_arr, 5, p=[0.5, 0.1, 0.1, 0.3])\n",
      "    array(['pooh', 'pooh', 'pooh', 'Christopher', 'piglet'], # random\n",
      "          dtype='<U11')\n",
      "\n"
     ]
    },
    {
     "data": {
      "text/plain": [
       "array([[1.        , 0.91448201, 0.57080942, 0.12248268, 0.92405629,\n",
       "        0.24513578, 1.        , 0.23273917, 0.9912417 , 0.35341367],\n",
       "       [0.34145683, 0.9882331 , 0.35137773, 0.00492756, 0.20104459,\n",
       "        0.71094221, 0.5300415 , 0.84076495, 0.19054744, 0.72615644],\n",
       "       [0.20587469, 0.66740077, 0.88263773, 0.29703618, 0.30498653,\n",
       "        0.83912971, 0.44963221, 0.35293082, 0.99180406, 0.62261652],\n",
       "       [0.45727667, 0.25325043, 0.52779729, 0.05956508, 0.88072351,\n",
       "        0.07625333, 0.07015697, 0.07603538, 0.65590416, 0.25097401],\n",
       "       [0.65864227, 0.07425263, 0.73355909, 0.90222036, 0.97146733,\n",
       "        0.35621066, 0.79238544, 0.90058899, 0.91873104, 0.11594489],\n",
       "       [0.05244919, 0.2235791 , 0.71978396, 0.17478218, 0.97841487,\n",
       "        0.41515712, 0.27224286, 0.74168031, 0.08853693, 0.46509286],\n",
       "       [0.29670916, 0.92687138, 0.28765027, 0.93298724, 0.55338014,\n",
       "        0.58341839, 0.73655173, 1.        , 0.03518614, 0.49493214],\n",
       "       [0.93087626, 0.24020378, 0.96985557, 0.11818149, 0.05791304,\n",
       "        0.17707944, 0.99839285, 0.73840793, 0.78296289, 0.26930015],\n",
       "       [0.89939214, 0.89306741, 0.8358175 , 0.40952187, 0.017941  ,\n",
       "        0.33175237, 0.62363991, 0.07853537, 0.33158886, 0.73133671],\n",
       "       [0.89687932, 0.01336198, 0.8162897 , 0.50926147, 0.9114712 ,\n",
       "        0.44631443, 0.62001417, 0.61193916, 0.64103581, 0.63175612]])"
      ]
     },
     "execution_count": 107,
     "metadata": {},
     "output_type": "execute_result"
    }
   ],
   "source": [
    "hint(57)\n",
    "help(np.random.choice)\n",
    "n, p = 10, 3\n",
    "matrix = np.random.random((n, n))\n",
    "np.put(matrix, np.random.choice(range(n * n), p, replace=False), 1)\n",
    "matrix"
   ]
  },
  {
   "cell_type": "markdown",
   "id": "8b3933eb",
   "metadata": {},
   "source": [
    "#### 58. Subtract the mean of each row of a matrix (★★☆)\n"
   ]
  },
  {
   "cell_type": "code",
   "execution_count": 110,
   "id": "a306c9ef",
   "metadata": {},
   "outputs": [
    {
     "name": "stdout",
     "output_type": "stream",
     "text": [
      "hint: mean(axis=,keepdims=)\n"
     ]
    },
    {
     "data": {
      "text/plain": [
       "array([[-1.,  0.,  1.],\n",
       "       [-1.,  0.,  1.],\n",
       "       [-1.,  0.,  1.]])"
      ]
     },
     "execution_count": 110,
     "metadata": {},
     "output_type": "execute_result"
    }
   ],
   "source": [
    "hint(58)\n",
    "matrix = np.arange(9).reshape((3, 3))\n",
    "matrix - matrix.mean(axis=1, keepdims=True)"
   ]
  },
  {
   "cell_type": "markdown",
   "id": "ea8807c0",
   "metadata": {},
   "source": [
    "#### 59. How to sort an array by the nth column? (★★☆)\n"
   ]
  },
  {
   "cell_type": "code",
   "execution_count": 116,
   "id": "cc89a699",
   "metadata": {},
   "outputs": [
    {
     "name": "stdout",
     "output_type": "stream",
     "text": [
      "hint: argsort\n",
      "Help on _ArrayFunctionDispatcher in module numpy:\n",
      "\n",
      "argsort(a, axis=-1, kind=None, order=None)\n",
      "    Returns the indices that would sort an array.\n",
      "    \n",
      "    Perform an indirect sort along the given axis using the algorithm specified\n",
      "    by the `kind` keyword. It returns an array of indices of the same shape as\n",
      "    `a` that index data along the given axis in sorted order.\n",
      "    \n",
      "    Parameters\n",
      "    ----------\n",
      "    a : array_like\n",
      "        Array to sort.\n",
      "    axis : int or None, optional\n",
      "        Axis along which to sort.  The default is -1 (the last axis). If None,\n",
      "        the flattened array is used.\n",
      "    kind : {'quicksort', 'mergesort', 'heapsort', 'stable'}, optional\n",
      "        Sorting algorithm. The default is 'quicksort'. Note that both 'stable'\n",
      "        and 'mergesort' use timsort under the covers and, in general, the\n",
      "        actual implementation will vary with data type. The 'mergesort' option\n",
      "        is retained for backwards compatibility.\n",
      "    \n",
      "        .. versionchanged:: 1.15.0.\n",
      "           The 'stable' option was added.\n",
      "    order : str or list of str, optional\n",
      "        When `a` is an array with fields defined, this argument specifies\n",
      "        which fields to compare first, second, etc.  A single field can\n",
      "        be specified as a string, and not all fields need be specified,\n",
      "        but unspecified fields will still be used, in the order in which\n",
      "        they come up in the dtype, to break ties.\n",
      "    \n",
      "    Returns\n",
      "    -------\n",
      "    index_array : ndarray, int\n",
      "        Array of indices that sort `a` along the specified `axis`.\n",
      "        If `a` is one-dimensional, ``a[index_array]`` yields a sorted `a`.\n",
      "        More generally, ``np.take_along_axis(a, index_array, axis=axis)``\n",
      "        always yields the sorted `a`, irrespective of dimensionality.\n",
      "    \n",
      "    See Also\n",
      "    --------\n",
      "    sort : Describes sorting algorithms used.\n",
      "    lexsort : Indirect stable sort with multiple keys.\n",
      "    ndarray.sort : Inplace sort.\n",
      "    argpartition : Indirect partial sort.\n",
      "    take_along_axis : Apply ``index_array`` from argsort\n",
      "                      to an array as if by calling sort.\n",
      "    \n",
      "    Notes\n",
      "    -----\n",
      "    See `sort` for notes on the different sorting algorithms.\n",
      "    \n",
      "    As of NumPy 1.4.0 `argsort` works with real/complex arrays containing\n",
      "    nan values. The enhanced sort order is documented in `sort`.\n",
      "    \n",
      "    Examples\n",
      "    --------\n",
      "    One dimensional array:\n",
      "    \n",
      "    >>> x = np.array([3, 1, 2])\n",
      "    >>> np.argsort(x)\n",
      "    array([1, 2, 0])\n",
      "    \n",
      "    Two-dimensional array:\n",
      "    \n",
      "    >>> x = np.array([[0, 3], [2, 2]])\n",
      "    >>> x\n",
      "    array([[0, 3],\n",
      "           [2, 2]])\n",
      "    \n",
      "    >>> ind = np.argsort(x, axis=0)  # sorts along first axis (down)\n",
      "    >>> ind\n",
      "    array([[0, 1],\n",
      "           [1, 0]])\n",
      "    >>> np.take_along_axis(x, ind, axis=0)  # same as np.sort(x, axis=0)\n",
      "    array([[0, 2],\n",
      "           [2, 3]])\n",
      "    \n",
      "    >>> ind = np.argsort(x, axis=1)  # sorts along last axis (across)\n",
      "    >>> ind\n",
      "    array([[0, 1],\n",
      "           [0, 1]])\n",
      "    >>> np.take_along_axis(x, ind, axis=1)  # same as np.sort(x, axis=1)\n",
      "    array([[0, 3],\n",
      "           [2, 2]])\n",
      "    \n",
      "    Indices of the sorted elements of a N-dimensional array:\n",
      "    \n",
      "    >>> ind = np.unravel_index(np.argsort(x, axis=None), x.shape)\n",
      "    >>> ind\n",
      "    (array([0, 1, 1, 0]), array([0, 0, 1, 1]))\n",
      "    >>> x[ind]  # same as np.sort(x, axis=None)\n",
      "    array([0, 2, 2, 3])\n",
      "    \n",
      "    Sorting with keys:\n",
      "    \n",
      "    >>> x = np.array([(1, 0), (0, 1)], dtype=[('x', '<i4'), ('y', '<i4')])\n",
      "    >>> x\n",
      "    array([(1, 0), (0, 1)],\n",
      "          dtype=[('x', '<i4'), ('y', '<i4')])\n",
      "    \n",
      "    >>> np.argsort(x, order=('x','y'))\n",
      "    array([1, 0])\n",
      "    \n",
      "    >>> np.argsort(x, order=('y','x'))\n",
      "    array([0, 1])\n",
      "\n",
      "[[7 0 9]\n",
      " [0 3 1]\n",
      " [5 0 1]]\n",
      "[0 2 1]\n"
     ]
    },
    {
     "data": {
      "text/plain": [
       "array([[7, 0, 9],\n",
       "       [5, 0, 1],\n",
       "       [0, 3, 1]])"
      ]
     },
     "execution_count": 116,
     "metadata": {},
     "output_type": "execute_result"
    }
   ],
   "source": [
    "hint(59)\n",
    "help(np.argsort)\n",
    "matrix = np.random.randint(0, 10, (3, 3))\n",
    "print(matrix)\n",
    "print(matrix[:, 1].argsort())\n",
    "matrix[matrix[:, 1].argsort()]"
   ]
  },
  {
   "cell_type": "markdown",
   "id": "00fa00a1",
   "metadata": {},
   "source": [
    "#### 60. How to tell if a given 2D array has null columns? (★★☆)\n"
   ]
  },
  {
   "cell_type": "code",
   "execution_count": 118,
   "id": "3436e165",
   "metadata": {},
   "outputs": [
    {
     "name": "stdout",
     "output_type": "stream",
     "text": [
      "hint: any, ~\n"
     ]
    },
    {
     "data": {
      "text/plain": [
       "array([False, False, False])"
      ]
     },
     "execution_count": 118,
     "metadata": {},
     "output_type": "execute_result"
    }
   ],
   "source": [
    "hint(60)\n",
    "np.isnan(matrix).all(axis=0)"
   ]
  },
  {
   "cell_type": "markdown",
   "id": "5a65c7a2",
   "metadata": {},
   "source": [
    "#### 61. Find the nearest value from a given value in an array (★★☆)\n"
   ]
  },
  {
   "cell_type": "code",
   "execution_count": 122,
   "id": "73f149d6",
   "metadata": {},
   "outputs": [
    {
     "data": {
      "text/plain": [
       "array([0, 3, 1])"
      ]
     },
     "execution_count": 122,
     "metadata": {},
     "output_type": "execute_result"
    }
   ],
   "source": [
    "matrix[np.abs(matrix - 0.5).argmin()]"
   ]
  },
  {
   "cell_type": "markdown",
   "id": "dd83e8af",
   "metadata": {},
   "source": [
    "#### 62. Considering two arrays with shape (1,3) and (3,1), how to compute their sum using an iterator? (★★☆)\n"
   ]
  },
  {
   "cell_type": "code",
   "execution_count": 124,
   "id": "29a709a1",
   "metadata": {},
   "outputs": [
    {
     "name": "stdout",
     "output_type": "stream",
     "text": [
      "hint: np.nditer\n",
      "Help on class nditer in module numpy:\n",
      "\n",
      "class nditer(builtins.object)\n",
      " |  nditer(op, flags=None, op_flags=None, op_dtypes=None, order='K', casting='safe', op_axes=None, itershape=None, buffersize=0)\n",
      " |  \n",
      " |  Efficient multi-dimensional iterator object to iterate over arrays.\n",
      " |  To get started using this object, see the\n",
      " |  :ref:`introductory guide to array iteration <arrays.nditer>`.\n",
      " |  \n",
      " |  Parameters\n",
      " |  ----------\n",
      " |  op : ndarray or sequence of array_like\n",
      " |      The array(s) to iterate over.\n",
      " |  \n",
      " |  flags : sequence of str, optional\n",
      " |        Flags to control the behavior of the iterator.\n",
      " |  \n",
      " |        * ``buffered`` enables buffering when required.\n",
      " |        * ``c_index`` causes a C-order index to be tracked.\n",
      " |        * ``f_index`` causes a Fortran-order index to be tracked.\n",
      " |        * ``multi_index`` causes a multi-index, or a tuple of indices\n",
      " |          with one per iteration dimension, to be tracked.\n",
      " |        * ``common_dtype`` causes all the operands to be converted to\n",
      " |          a common data type, with copying or buffering as necessary.\n",
      " |        * ``copy_if_overlap`` causes the iterator to determine if read\n",
      " |          operands have overlap with write operands, and make temporary\n",
      " |          copies as necessary to avoid overlap. False positives (needless\n",
      " |          copying) are possible in some cases.\n",
      " |        * ``delay_bufalloc`` delays allocation of the buffers until\n",
      " |          a reset() call is made. Allows ``allocate`` operands to\n",
      " |          be initialized before their values are copied into the buffers.\n",
      " |        * ``external_loop`` causes the ``values`` given to be\n",
      " |          one-dimensional arrays with multiple values instead of\n",
      " |          zero-dimensional arrays.\n",
      " |        * ``grow_inner`` allows the ``value`` array sizes to be made\n",
      " |          larger than the buffer size when both ``buffered`` and\n",
      " |          ``external_loop`` is used.\n",
      " |        * ``ranged`` allows the iterator to be restricted to a sub-range\n",
      " |          of the iterindex values.\n",
      " |        * ``refs_ok`` enables iteration of reference types, such as\n",
      " |          object arrays.\n",
      " |        * ``reduce_ok`` enables iteration of ``readwrite`` operands\n",
      " |          which are broadcasted, also known as reduction operands.\n",
      " |        * ``zerosize_ok`` allows `itersize` to be zero.\n",
      " |  op_flags : list of list of str, optional\n",
      " |        This is a list of flags for each operand. At minimum, one of\n",
      " |        ``readonly``, ``readwrite``, or ``writeonly`` must be specified.\n",
      " |  \n",
      " |        * ``readonly`` indicates the operand will only be read from.\n",
      " |        * ``readwrite`` indicates the operand will be read from and written to.\n",
      " |        * ``writeonly`` indicates the operand will only be written to.\n",
      " |        * ``no_broadcast`` prevents the operand from being broadcasted.\n",
      " |        * ``contig`` forces the operand data to be contiguous.\n",
      " |        * ``aligned`` forces the operand data to be aligned.\n",
      " |        * ``nbo`` forces the operand data to be in native byte order.\n",
      " |        * ``copy`` allows a temporary read-only copy if required.\n",
      " |        * ``updateifcopy`` allows a temporary read-write copy if required.\n",
      " |        * ``allocate`` causes the array to be allocated if it is None\n",
      " |          in the ``op`` parameter.\n",
      " |        * ``no_subtype`` prevents an ``allocate`` operand from using a subtype.\n",
      " |        * ``arraymask`` indicates that this operand is the mask to use\n",
      " |          for selecting elements when writing to operands with the\n",
      " |          'writemasked' flag set. The iterator does not enforce this,\n",
      " |          but when writing from a buffer back to the array, it only\n",
      " |          copies those elements indicated by this mask.\n",
      " |        * ``writemasked`` indicates that only elements where the chosen\n",
      " |          ``arraymask`` operand is True will be written to.\n",
      " |        * ``overlap_assume_elementwise`` can be used to mark operands that are\n",
      " |          accessed only in the iterator order, to allow less conservative\n",
      " |          copying when ``copy_if_overlap`` is present.\n",
      " |  op_dtypes : dtype or tuple of dtype(s), optional\n",
      " |      The required data type(s) of the operands. If copying or buffering\n",
      " |      is enabled, the data will be converted to/from their original types.\n",
      " |  order : {'C', 'F', 'A', 'K'}, optional\n",
      " |      Controls the iteration order. 'C' means C order, 'F' means\n",
      " |      Fortran order, 'A' means 'F' order if all the arrays are Fortran\n",
      " |      contiguous, 'C' order otherwise, and 'K' means as close to the\n",
      " |      order the array elements appear in memory as possible. This also\n",
      " |      affects the element memory order of ``allocate`` operands, as they\n",
      " |      are allocated to be compatible with iteration order.\n",
      " |      Default is 'K'.\n",
      " |  casting : {'no', 'equiv', 'safe', 'same_kind', 'unsafe'}, optional\n",
      " |      Controls what kind of data casting may occur when making a copy\n",
      " |      or buffering.  Setting this to 'unsafe' is not recommended,\n",
      " |      as it can adversely affect accumulations.\n",
      " |  \n",
      " |      * 'no' means the data types should not be cast at all.\n",
      " |      * 'equiv' means only byte-order changes are allowed.\n",
      " |      * 'safe' means only casts which can preserve values are allowed.\n",
      " |      * 'same_kind' means only safe casts or casts within a kind,\n",
      " |        like float64 to float32, are allowed.\n",
      " |      * 'unsafe' means any data conversions may be done.\n",
      " |  op_axes : list of list of ints, optional\n",
      " |      If provided, is a list of ints or None for each operands.\n",
      " |      The list of axes for an operand is a mapping from the dimensions\n",
      " |      of the iterator to the dimensions of the operand. A value of\n",
      " |      -1 can be placed for entries, causing that dimension to be\n",
      " |      treated as `newaxis`.\n",
      " |  itershape : tuple of ints, optional\n",
      " |      The desired shape of the iterator. This allows ``allocate`` operands\n",
      " |      with a dimension mapped by op_axes not corresponding to a dimension\n",
      " |      of a different operand to get a value not equal to 1 for that\n",
      " |      dimension.\n",
      " |  buffersize : int, optional\n",
      " |      When buffering is enabled, controls the size of the temporary\n",
      " |      buffers. Set to 0 for the default value.\n",
      " |  \n",
      " |  Attributes\n",
      " |  ----------\n",
      " |  dtypes : tuple of dtype(s)\n",
      " |      The data types of the values provided in `value`. This may be\n",
      " |      different from the operand data types if buffering is enabled.\n",
      " |      Valid only before the iterator is closed.\n",
      " |  finished : bool\n",
      " |      Whether the iteration over the operands is finished or not.\n",
      " |  has_delayed_bufalloc : bool\n",
      " |      If True, the iterator was created with the ``delay_bufalloc`` flag,\n",
      " |      and no reset() function was called on it yet.\n",
      " |  has_index : bool\n",
      " |      If True, the iterator was created with either the ``c_index`` or\n",
      " |      the ``f_index`` flag, and the property `index` can be used to\n",
      " |      retrieve it.\n",
      " |  has_multi_index : bool\n",
      " |      If True, the iterator was created with the ``multi_index`` flag,\n",
      " |      and the property `multi_index` can be used to retrieve it.\n",
      " |  index\n",
      " |      When the ``c_index`` or ``f_index`` flag was used, this property\n",
      " |      provides access to the index. Raises a ValueError if accessed\n",
      " |      and ``has_index`` is False.\n",
      " |  iterationneedsapi : bool\n",
      " |      Whether iteration requires access to the Python API, for example\n",
      " |      if one of the operands is an object array.\n",
      " |  iterindex : int\n",
      " |      An index which matches the order of iteration.\n",
      " |  itersize : int\n",
      " |      Size of the iterator.\n",
      " |  itviews\n",
      " |      Structured view(s) of `operands` in memory, matching the reordered\n",
      " |      and optimized iterator access pattern. Valid only before the iterator\n",
      " |      is closed.\n",
      " |  multi_index\n",
      " |      When the ``multi_index`` flag was used, this property\n",
      " |      provides access to the index. Raises a ValueError if accessed\n",
      " |      accessed and ``has_multi_index`` is False.\n",
      " |  ndim : int\n",
      " |      The dimensions of the iterator.\n",
      " |  nop : int\n",
      " |      The number of iterator operands.\n",
      " |  operands : tuple of operand(s)\n",
      " |      The array(s) to be iterated over. Valid only before the iterator is\n",
      " |      closed.\n",
      " |  shape : tuple of ints\n",
      " |      Shape tuple, the shape of the iterator.\n",
      " |  value\n",
      " |      Value of ``operands`` at current iteration. Normally, this is a\n",
      " |      tuple of array scalars, but if the flag ``external_loop`` is used,\n",
      " |      it is a tuple of one dimensional arrays.\n",
      " |  \n",
      " |  Notes\n",
      " |  -----\n",
      " |  `nditer` supersedes `flatiter`.  The iterator implementation behind\n",
      " |  `nditer` is also exposed by the NumPy C API.\n",
      " |  \n",
      " |  The Python exposure supplies two iteration interfaces, one which follows\n",
      " |  the Python iterator protocol, and another which mirrors the C-style\n",
      " |  do-while pattern.  The native Python approach is better in most cases, but\n",
      " |  if you need the coordinates or index of an iterator, use the C-style pattern.\n",
      " |  \n",
      " |  Examples\n",
      " |  --------\n",
      " |  Here is how we might write an ``iter_add`` function, using the\n",
      " |  Python iterator protocol:\n",
      " |  \n",
      " |  >>> def iter_add_py(x, y, out=None):\n",
      " |  ...     addop = np.add\n",
      " |  ...     it = np.nditer([x, y, out], [],\n",
      " |  ...                 [['readonly'], ['readonly'], ['writeonly','allocate']])\n",
      " |  ...     with it:\n",
      " |  ...         for (a, b, c) in it:\n",
      " |  ...             addop(a, b, out=c)\n",
      " |  ...         return it.operands[2]\n",
      " |  \n",
      " |  Here is the same function, but following the C-style pattern:\n",
      " |  \n",
      " |  >>> def iter_add(x, y, out=None):\n",
      " |  ...    addop = np.add\n",
      " |  ...    it = np.nditer([x, y, out], [],\n",
      " |  ...                [['readonly'], ['readonly'], ['writeonly','allocate']])\n",
      " |  ...    with it:\n",
      " |  ...        while not it.finished:\n",
      " |  ...            addop(it[0], it[1], out=it[2])\n",
      " |  ...            it.iternext()\n",
      " |  ...        return it.operands[2]\n",
      " |  \n",
      " |  Here is an example outer product function:\n",
      " |  \n",
      " |  >>> def outer_it(x, y, out=None):\n",
      " |  ...     mulop = np.multiply\n",
      " |  ...     it = np.nditer([x, y, out], ['external_loop'],\n",
      " |  ...             [['readonly'], ['readonly'], ['writeonly', 'allocate']],\n",
      " |  ...             op_axes=[list(range(x.ndim)) + [-1] * y.ndim,\n",
      " |  ...                      [-1] * x.ndim + list(range(y.ndim)),\n",
      " |  ...                      None])\n",
      " |  ...     with it:\n",
      " |  ...         for (a, b, c) in it:\n",
      " |  ...             mulop(a, b, out=c)\n",
      " |  ...         return it.operands[2]\n",
      " |  \n",
      " |  >>> a = np.arange(2)+1\n",
      " |  >>> b = np.arange(3)+1\n",
      " |  >>> outer_it(a,b)\n",
      " |  array([[1, 2, 3],\n",
      " |         [2, 4, 6]])\n",
      " |  \n",
      " |  Here is an example function which operates like a \"lambda\" ufunc:\n",
      " |  \n",
      " |  >>> def luf(lamdaexpr, *args, **kwargs):\n",
      " |  ...    '''luf(lambdaexpr, op1, ..., opn, out=None, order='K', casting='safe', buffersize=0)'''\n",
      " |  ...    nargs = len(args)\n",
      " |  ...    op = (kwargs.get('out',None),) + args\n",
      " |  ...    it = np.nditer(op, ['buffered','external_loop'],\n",
      " |  ...            [['writeonly','allocate','no_broadcast']] +\n",
      " |  ...                            [['readonly','nbo','aligned']]*nargs,\n",
      " |  ...            order=kwargs.get('order','K'),\n",
      " |  ...            casting=kwargs.get('casting','safe'),\n",
      " |  ...            buffersize=kwargs.get('buffersize',0))\n",
      " |  ...    while not it.finished:\n",
      " |  ...        it[0] = lamdaexpr(*it[1:])\n",
      " |  ...        it.iternext()\n",
      " |  ...    return it.operands[0]\n",
      " |  \n",
      " |  >>> a = np.arange(5)\n",
      " |  >>> b = np.ones(5)\n",
      " |  >>> luf(lambda i,j:i*i + j/2, a, b)\n",
      " |  array([  0.5,   1.5,   4.5,   9.5,  16.5])\n",
      " |  \n",
      " |  If operand flags ``\"writeonly\"`` or ``\"readwrite\"`` are used the\n",
      " |  operands may be views into the original data with the\n",
      " |  `WRITEBACKIFCOPY` flag. In this case `nditer` must be used as a\n",
      " |  context manager or the `nditer.close` method must be called before\n",
      " |  using the result. The temporary data will be written back to the\n",
      " |  original data when the `__exit__` function is called but not before:\n",
      " |  \n",
      " |  >>> a = np.arange(6, dtype='i4')[::-2]\n",
      " |  >>> with np.nditer(a, [],\n",
      " |  ...        [['writeonly', 'updateifcopy']],\n",
      " |  ...        casting='unsafe',\n",
      " |  ...        op_dtypes=[np.dtype('f4')]) as i:\n",
      " |  ...    x = i.operands[0]\n",
      " |  ...    x[:] = [-1, -2, -3]\n",
      " |  ...    # a still unchanged here\n",
      " |  >>> a, x\n",
      " |  (array([-1, -2, -3], dtype=int32), array([-1., -2., -3.], dtype=float32))\n",
      " |  \n",
      " |  It is important to note that once the iterator is exited, dangling\n",
      " |  references (like `x` in the example) may or may not share data with\n",
      " |  the original data `a`. If writeback semantics were active, i.e. if\n",
      " |  `x.base.flags.writebackifcopy` is `True`, then exiting the iterator\n",
      " |  will sever the connection between `x` and `a`, writing to `x` will\n",
      " |  no longer write to `a`. If writeback semantics are not active, then\n",
      " |  `x.data` will still point at some part of `a.data`, and writing to\n",
      " |  one will affect the other.\n",
      " |  \n",
      " |  Context management and the `close` method appeared in version 1.15.0.\n",
      " |  \n",
      " |  Methods defined here:\n",
      " |  \n",
      " |  __copy__(...)\n",
      " |  \n",
      " |  __delitem__(self, key, /)\n",
      " |      Delete self[key].\n",
      " |  \n",
      " |  __enter__(...)\n",
      " |  \n",
      " |  __exit__(...)\n",
      " |  \n",
      " |  __getitem__(self, key, /)\n",
      " |      Return self[key].\n",
      " |  \n",
      " |  __init__(self, /, *args, **kwargs)\n",
      " |      Initialize self.  See help(type(self)) for accurate signature.\n",
      " |  \n",
      " |  __iter__(self, /)\n",
      " |      Implement iter(self).\n",
      " |  \n",
      " |  __len__(self, /)\n",
      " |      Return len(self).\n",
      " |  \n",
      " |  __next__(self, /)\n",
      " |      Implement next(self).\n",
      " |  \n",
      " |  __setitem__(self, key, value, /)\n",
      " |      Set self[key] to value.\n",
      " |  \n",
      " |  close(...)\n",
      " |      close()\n",
      " |      \n",
      " |      Resolve all writeback semantics in writeable operands.\n",
      " |      \n",
      " |      .. versionadded:: 1.15.0\n",
      " |      \n",
      " |      See Also\n",
      " |      --------\n",
      " |      \n",
      " |      :ref:`nditer-context-manager`\n",
      " |  \n",
      " |  copy(...)\n",
      " |      copy()\n",
      " |      \n",
      " |      Get a copy of the iterator in its current state.\n",
      " |      \n",
      " |      Examples\n",
      " |      --------\n",
      " |      >>> x = np.arange(10)\n",
      " |      >>> y = x + 1\n",
      " |      >>> it = np.nditer([x, y])\n",
      " |      >>> next(it)\n",
      " |      (array(0), array(1))\n",
      " |      >>> it2 = it.copy()\n",
      " |      >>> next(it2)\n",
      " |      (array(1), array(2))\n",
      " |  \n",
      " |  debug_print(...)\n",
      " |      debug_print()\n",
      " |      \n",
      " |      Print the current state of the `nditer` instance and debug info to stdout.\n",
      " |  \n",
      " |  enable_external_loop(...)\n",
      " |      enable_external_loop()\n",
      " |      \n",
      " |      When the \"external_loop\" was not used during construction, but\n",
      " |      is desired, this modifies the iterator to behave as if the flag\n",
      " |      was specified.\n",
      " |  \n",
      " |  iternext(...)\n",
      " |      iternext()\n",
      " |      \n",
      " |      Check whether iterations are left, and perform a single internal iteration\n",
      " |      without returning the result.  Used in the C-style pattern do-while\n",
      " |      pattern.  For an example, see `nditer`.\n",
      " |      \n",
      " |      Returns\n",
      " |      -------\n",
      " |      iternext : bool\n",
      " |          Whether or not there are iterations left.\n",
      " |  \n",
      " |  remove_axis(...)\n",
      " |      remove_axis(i, /)\n",
      " |      \n",
      " |      Removes axis `i` from the iterator. Requires that the flag \"multi_index\"\n",
      " |      be enabled.\n",
      " |  \n",
      " |  remove_multi_index(...)\n",
      " |      remove_multi_index()\n",
      " |      \n",
      " |      When the \"multi_index\" flag was specified, this removes it, allowing\n",
      " |      the internal iteration structure to be optimized further.\n",
      " |  \n",
      " |  reset(...)\n",
      " |      reset()\n",
      " |      \n",
      " |      Reset the iterator to its initial state.\n",
      " |  \n",
      " |  ----------------------------------------------------------------------\n",
      " |  Static methods defined here:\n",
      " |  \n",
      " |  __new__(*args, **kwargs) from builtins.type\n",
      " |      Create and return a new object.  See help(type) for accurate signature.\n",
      " |  \n",
      " |  ----------------------------------------------------------------------\n",
      " |  Data descriptors defined here:\n",
      " |  \n",
      " |  dtypes\n",
      " |  \n",
      " |  finished\n",
      " |  \n",
      " |  has_delayed_bufalloc\n",
      " |  \n",
      " |  has_index\n",
      " |  \n",
      " |  has_multi_index\n",
      " |  \n",
      " |  index\n",
      " |  \n",
      " |  iterationneedsapi\n",
      " |  \n",
      " |  iterindex\n",
      " |  \n",
      " |  iterrange\n",
      " |  \n",
      " |  itersize\n",
      " |  \n",
      " |  itviews\n",
      " |  \n",
      " |  multi_index\n",
      " |  \n",
      " |  ndim\n",
      " |  \n",
      " |  nop\n",
      " |  \n",
      " |  operands\n",
      " |      operands[`Slice`]\n",
      " |      \n",
      " |      The array(s) to be iterated over. Valid only before the iterator is closed.\n",
      " |  \n",
      " |  shape\n",
      " |  \n",
      " |  value\n",
      "\n"
     ]
    }
   ],
   "source": [
    "hint(62)\n",
    "help(np.nditer)"
   ]
  },
  {
   "cell_type": "markdown",
   "id": "6c042efa",
   "metadata": {},
   "source": [
    "#### 63. Create an array class that has a name attribute (★★☆)\n"
   ]
  },
  {
   "cell_type": "code",
   "execution_count": null,
   "id": "45b3d2e0",
   "metadata": {},
   "outputs": [],
   "source": []
  },
  {
   "cell_type": "markdown",
   "id": "0a075c3d",
   "metadata": {},
   "source": [
    "#### 64. Consider a given vector, how to add 1 to each element indexed by a second vector (be careful with repeated indices)? (★★★)\n"
   ]
  },
  {
   "cell_type": "code",
   "execution_count": 128,
   "id": "36c50470",
   "metadata": {},
   "outputs": [
    {
     "name": "stdout",
     "output_type": "stream",
     "text": [
      "hint: np.bincount | np.add.at\n",
      "# Author: Brett Olsen\n",
      "\n",
      "Z = np.ones(10)\n",
      "I = np.random.randint(0,len(Z),20)\n",
      "Z += np.bincount(I, minlength=len(Z))\n",
      "print(Z)\n",
      "\n",
      "# Another solution\n",
      "# Author: Bartosz Telenczuk\n",
      "np.add.at(Z, I, 1)\n",
      "print(Z)\n"
     ]
    },
    {
     "data": {
      "text/plain": [
       "array([3., 3., 2., 2., 4., 1., 4., 3., 4., 4.])"
      ]
     },
     "execution_count": 128,
     "metadata": {},
     "output_type": "execute_result"
    }
   ],
   "source": [
    "hint(64)\n",
    "answer(64)\n",
    "vec = np.ones(10)\n",
    "vec2 = np.random.randint(0, len(vec), 20)\n",
    "vec += np.bincount(vec2, minlength=len(vec))\n",
    "vec"
   ]
  },
  {
   "cell_type": "markdown",
   "id": "0fb2f0c5",
   "metadata": {},
   "source": [
    "#### 65. How to accumulate elements of a vector (X) to an array (F) based on an index list (I)? (★★★)\n"
   ]
  },
  {
   "cell_type": "code",
   "execution_count": 131,
   "id": "58aa5f82",
   "metadata": {},
   "outputs": [
    {
     "name": "stdout",
     "output_type": "stream",
     "text": [
      "hint: np.bincount\n"
     ]
    },
    {
     "data": {
      "text/plain": [
       "array([0., 7., 0., 6., 5., 0., 0., 0., 0., 3.])"
      ]
     },
     "execution_count": 131,
     "metadata": {},
     "output_type": "execute_result"
    }
   ],
   "source": [
    "hint(65)\n",
    "X = [1, 2, 3, 4, 5, 6]\n",
    "I = [1, 3, 9, 3, 4, 1]\n",
    "F = np.bincount(I, X)\n",
    "F"
   ]
  },
  {
   "cell_type": "markdown",
   "id": "d89dc506",
   "metadata": {},
   "source": [
    "#### 66. Considering a (w,h,3) image of (dtype=ubyte), compute the number of unique colors (★★☆)\n"
   ]
  },
  {
   "cell_type": "code",
   "execution_count": 4,
   "id": "8fb43a49",
   "metadata": {},
   "outputs": [
    {
     "name": "stdout",
     "output_type": "stream",
     "text": [
      "hint: np.unique\n",
      "# Author: Fisher Wang\n",
      "\n",
      "w, h = 256, 256\n",
      "I = np.random.randint(0, 4, (h, w, 3)).astype(np.ubyte)\n",
      "colors = np.unique(I.reshape(-1, 3), axis=0)\n",
      "n = len(colors)\n",
      "print(n)\n",
      "\n",
      "# Faster version\n",
      "# Author: Mark Setchell\n",
      "# https://stackoverflow.com/a/59671950/2836621\n",
      "\n",
      "w, h = 256, 256\n",
      "I = np.random.randint(0,4,(h,w,3), dtype=np.uint8)\n",
      "\n",
      "# View each pixel as a single 24-bit integer, rather than three 8-bit bytes\n",
      "I24 = np.dot(I.astype(np.uint32),[1,256,65536])\n",
      "\n",
      "# Count unique colours\n",
      "n = len(np.unique(I24))\n",
      "print(n)\n"
     ]
    }
   ],
   "source": [
    "hint(66)\n",
    "answer(66)"
   ]
  },
  {
   "cell_type": "markdown",
   "id": "535a5d81",
   "metadata": {},
   "source": [
    "#### 67. Considering a four dimensions array, how to get sum over the last two axis at once? (★★★)\n"
   ]
  },
  {
   "cell_type": "code",
   "execution_count": 7,
   "id": "f954ab9d",
   "metadata": {},
   "outputs": [
    {
     "name": "stdout",
     "output_type": "stream",
     "text": [
      "hint: sum(axis=(-2,-1))\n",
      "A = np.random.randint(0,10,(3,4,3,4))\n",
      "# solution by passing a tuple of axes (introduced in numpy 1.7.0)\n",
      "sum = A.sum(axis=(-2,-1))\n",
      "print(sum)\n",
      "# solution by flattening the last two dimensions into one\n",
      "# (useful for functions that don't accept tuples for axis argument)\n",
      "sum = A.reshape(A.shape[:-2] + (-1,)).sum(axis=-1)\n",
      "print(sum)\n",
      "[[[[0 0]\n",
      "   [1 0]]\n",
      "\n",
      "  [[2 4]\n",
      "   [1 0]]]\n",
      "\n",
      "\n",
      " [[[1 4]\n",
      "   [2 2]]\n",
      "\n",
      "  [[4 4]\n",
      "   [3 1]]]]\n"
     ]
    },
    {
     "data": {
      "text/plain": [
       "array([[ 1,  7],\n",
       "       [ 9, 12]])"
      ]
     },
     "execution_count": 7,
     "metadata": {},
     "output_type": "execute_result"
    }
   ],
   "source": [
    "hint(67)\n",
    "answer(67)\n",
    "tensor = np.random.randint(0, 5, (2, 2, 2, 2))\n",
    "print(tensor)\n",
    "total = tensor.sum(axis=(-2, -1))\n",
    "total"
   ]
  },
  {
   "cell_type": "markdown",
   "id": "eee66d3c",
   "metadata": {},
   "source": [
    "#### 68. Considering a one-dimensional vector D, how to compute means of subsets of D using a vector S of same size describing subset indices? (★★★)\n"
   ]
  },
  {
   "cell_type": "code",
   "execution_count": 9,
   "id": "8929773a",
   "metadata": {},
   "outputs": [
    {
     "name": "stdout",
     "output_type": "stream",
     "text": [
      "hint: np.bincount\n",
      "# Author: Jaime Fernández del Río\n",
      "\n",
      "D = np.random.uniform(0,1,100)\n",
      "S = np.random.randint(0,10,100)\n",
      "D_sums = np.bincount(S, weights=D)\n",
      "D_counts = np.bincount(S)\n",
      "D_means = D_sums / D_counts\n",
      "print(D_means)\n",
      "\n",
      "# Pandas solution as a reference due to more intuitive code\n",
      "import pandas as pd\n",
      "print(pd.Series(D).groupby(S).mean())\n"
     ]
    }
   ],
   "source": [
    "hint(68)\n",
    "answer(68)"
   ]
  },
  {
   "cell_type": "markdown",
   "id": "f90d4c40",
   "metadata": {},
   "source": [
    "#### 69. How to get the diagonal of a dot product? (★★★)\n"
   ]
  },
  {
   "cell_type": "code",
   "execution_count": 11,
   "id": "b47d392d",
   "metadata": {},
   "outputs": [
    {
     "data": {
      "text/plain": [
       "array([12,  8,  8])"
      ]
     },
     "execution_count": 11,
     "metadata": {},
     "output_type": "execute_result"
    }
   ],
   "source": [
    "matrix1 = np.random.randint(0, 5, (3, 3))\n",
    "matrix2 = np.random.randint(0, 5, (3, 3))\n",
    "np.einsum(\"ij,ji->i\", matrix1, matrix2)"
   ]
  },
  {
   "cell_type": "markdown",
   "id": "a8a97e7d",
   "metadata": {},
   "source": [
    "#### 70. Consider the vector [1, 2, 3, 4, 5], how to build a new vector with 3 consecutive zeros interleaved between each value? (★★★)\n"
   ]
  },
  {
   "cell_type": "code",
   "execution_count": 14,
   "id": "ee6c6c37",
   "metadata": {},
   "outputs": [
    {
     "name": "stdout",
     "output_type": "stream",
     "text": [
      "hint: array[::4]\n"
     ]
    },
    {
     "data": {
      "text/plain": [
       "array([1., 0., 0., 0., 2., 0., 0., 0., 3., 0., 0., 0., 4., 0., 0., 0., 5.])"
      ]
     },
     "execution_count": 14,
     "metadata": {},
     "output_type": "execute_result"
    }
   ],
   "source": [
    "hint(70)\n",
    "vec = np.arange(1, 6)\n",
    "inserted_vec = np.zeros(3 * (len(vec) - 1) + len(vec))\n",
    "inserted_vec[::4] = vec\n",
    "inserted_vec"
   ]
  },
  {
   "cell_type": "markdown",
   "id": "d6a30d60",
   "metadata": {},
   "source": [
    "#### 71. Consider an array of dimension (5,5,3), how to mulitply it by an array with dimensions (5,5)? (★★★)\n"
   ]
  },
  {
   "cell_type": "code",
   "execution_count": 20,
   "id": "e9703f2e",
   "metadata": {},
   "outputs": [
    {
     "name": "stdout",
     "output_type": "stream",
     "text": [
      "hint: array[:, :, None]\n"
     ]
    },
    {
     "data": {
      "text/plain": [
       "array([[[ 4,  0,  4],\n",
       "        [ 0,  0,  0],\n",
       "        [ 4,  0, 12],\n",
       "        [ 0,  9,  9],\n",
       "        [16, 12,  4]],\n",
       "\n",
       "       [[ 8, 16, 12],\n",
       "        [12,  0,  6],\n",
       "        [12,  0,  3],\n",
       "        [ 0,  0,  0],\n",
       "        [ 0,  0,  0]],\n",
       "\n",
       "       [[ 6,  3,  9],\n",
       "        [ 0,  0,  0],\n",
       "        [ 8,  8,  4],\n",
       "        [ 0,  0,  2],\n",
       "        [ 6,  8,  0]],\n",
       "\n",
       "       [[ 4,  1,  2],\n",
       "        [ 6,  6,  8],\n",
       "        [ 3,  2,  0],\n",
       "        [ 4,  2,  1],\n",
       "        [ 0,  0,  0]],\n",
       "\n",
       "       [[ 0,  3, 12],\n",
       "        [ 8,  4, 16],\n",
       "        [12,  0, 16],\n",
       "        [ 0, 12,  8],\n",
       "        [ 3,  0,  0]]])"
      ]
     },
     "execution_count": 20,
     "metadata": {},
     "output_type": "execute_result"
    }
   ],
   "source": [
    "hint(71)\n",
    "matrix1 = np.random.randint(0, 5, (5, 5, 3))\n",
    "matrix2 = np.random.randint(0, 5, (5, 5))\n",
    "matrix1 * matrix2[:, :, None]"
   ]
  },
  {
   "cell_type": "markdown",
   "id": "bac359a9",
   "metadata": {},
   "source": [
    "#### 72. How to swap two rows of an array? (★★★)\n"
   ]
  },
  {
   "cell_type": "code",
   "execution_count": 53,
   "id": "f1b432b1",
   "metadata": {},
   "outputs": [
    {
     "name": "stdout",
     "output_type": "stream",
     "text": [
      "[[0 1 2]\n",
      " [3 4 5]\n",
      " [6 7 8]]\n"
     ]
    },
    {
     "data": {
      "text/plain": [
       "array([[1, 0, 2],\n",
       "       [4, 3, 5],\n",
       "       [7, 6, 8]])"
      ]
     },
     "execution_count": 53,
     "metadata": {},
     "output_type": "execute_result"
    }
   ],
   "source": [
    "matrix = np.arange(9).reshape((3, 3))\n",
    "print(matrix)\n",
    "# matrix[:,(1,0)] = matrix[:,(0,1)]\n",
    "# matrix[:2] = matrix[1::-1]\n",
    "matrix[:, :2] = matrix[:, 1::-1]\n",
    "matrix"
   ]
  },
  {
   "cell_type": "markdown",
   "id": "620c9f83",
   "metadata": {},
   "source": [
    "#### 73. Consider a set of 10 triplets describing 10 triangles (with shared vertices), find the set of unique line segments composing all the triangles (★★★)\n"
   ]
  },
  {
   "cell_type": "code",
   "execution_count": 55,
   "id": "4e595ffc",
   "metadata": {},
   "outputs": [
    {
     "name": "stdout",
     "output_type": "stream",
     "text": [
      "hint: repeat, np.roll, np.sort, view, np.unique\n"
     ]
    }
   ],
   "source": [
    "hint(73)"
   ]
  },
  {
   "cell_type": "markdown",
   "id": "a76c55a2",
   "metadata": {},
   "source": [
    "#### 74. Given a sorted array C that corresponds to a bincount, how to produce an array A such that np.bincount(A) == C? (★★★)\n"
   ]
  },
  {
   "cell_type": "code",
   "execution_count": 60,
   "id": "2d2ae65a",
   "metadata": {},
   "outputs": [
    {
     "name": "stdout",
     "output_type": "stream",
     "text": [
      "hint: np.repeat\n",
      "[0 2 1 1 2 0 1]\n"
     ]
    }
   ],
   "source": [
    "hint(74)\n",
    "C = np.bincount([1, 1, 2, 3, 4, 4, 6])  # [0, 2, 1, 1, 2, 0, 1]\n",
    "A = np.repeat(np.arange(len(C)), C)\n",
    "print(np.bincount(A))"
   ]
  },
  {
   "cell_type": "markdown",
   "id": "d550c8e2",
   "metadata": {},
   "source": [
    "#### 75. How to compute averages using a sliding window over an array? (★★★)\n"
   ]
  },
  {
   "cell_type": "code",
   "execution_count": 61,
   "id": "841c457c",
   "metadata": {},
   "outputs": [
    {
     "name": "stdout",
     "output_type": "stream",
     "text": [
      "hint: np.cumsum, from numpy.lib.stride_tricks import sliding_window_view (np>=1.20.0)\n"
     ]
    }
   ],
   "source": [
    "hint(75)"
   ]
  },
  {
   "cell_type": "markdown",
   "id": "6b170b00",
   "metadata": {},
   "source": [
    "#### 76. Consider a one-dimensional array Z, build a two-dimensional array whose first row is (Z[0],Z[1],Z[2]) and each subsequent row is shifted by 1 (last row should be (Z[-3],Z[-2],Z[-1]) (★★★)\n"
   ]
  },
  {
   "cell_type": "code",
   "execution_count": 62,
   "id": "d9a0cf4e",
   "metadata": {},
   "outputs": [
    {
     "name": "stdout",
     "output_type": "stream",
     "text": [
      "hint: from numpy.lib import stride_tricks, from numpy.lib.stride_tricks import sliding_window_view (np>=1.20.0)\n"
     ]
    }
   ],
   "source": [
    "hint(76)"
   ]
  },
  {
   "cell_type": "markdown",
   "id": "e94a5c1d",
   "metadata": {},
   "source": [
    "#### 77. How to negate a boolean, or to change the sign of a float inplace? (★★★)\n"
   ]
  },
  {
   "cell_type": "code",
   "execution_count": 66,
   "id": "c0f9504f",
   "metadata": {},
   "outputs": [
    {
     "name": "stdout",
     "output_type": "stream",
     "text": [
      "hint: np.logical_not, np.negative\n",
      "[0 1 0 0 0 0 1 0 1 0]\n"
     ]
    },
    {
     "data": {
      "text/plain": [
       "array([1, 0, 1, 1, 1, 1, 0, 1, 0, 1])"
      ]
     },
     "execution_count": 66,
     "metadata": {},
     "output_type": "execute_result"
    }
   ],
   "source": [
    "hint(77)\n",
    "vec = np.random.randint(0, 2, 10)\n",
    "print(vec)\n",
    "np.logical_not(vec, out=vec)"
   ]
  },
  {
   "cell_type": "markdown",
   "id": "4eb8b5c1",
   "metadata": {},
   "source": [
    "#### 78. Consider 2 sets of points P0,P1 describing lines (2d) and a point p, how to compute distance from p to each line i (P0[i],P1[i])? (★★★)\n"
   ]
  },
  {
   "cell_type": "code",
   "execution_count": 67,
   "id": "487f47ec",
   "metadata": {},
   "outputs": [
    {
     "name": "stdout",
     "output_type": "stream",
     "text": [
      "No hints provided...\n"
     ]
    }
   ],
   "source": [
    "hint(78)"
   ]
  },
  {
   "cell_type": "markdown",
   "id": "3df99948",
   "metadata": {},
   "source": [
    "#### 79. Consider 2 sets of points P0,P1 describing lines (2d) and a set of points P, how to compute distance from each point j (P[j]) to each line i (P0[i],P1[i])? (★★★)\n"
   ]
  },
  {
   "cell_type": "code",
   "execution_count": 68,
   "id": "dc2df37b",
   "metadata": {},
   "outputs": [
    {
     "name": "stdout",
     "output_type": "stream",
     "text": [
      "No hints provided...\n"
     ]
    }
   ],
   "source": [
    "hint(79)"
   ]
  },
  {
   "cell_type": "markdown",
   "id": "11e972c2",
   "metadata": {},
   "source": [
    "#### 80. Consider an arbitrary array, write a function that extract a subpart with a fixed shape and centered on a given element (pad with a `fill` value when necessary) (★★★)\n"
   ]
  },
  {
   "cell_type": "code",
   "execution_count": 69,
   "id": "0291247f",
   "metadata": {},
   "outputs": [
    {
     "name": "stdout",
     "output_type": "stream",
     "text": [
      "hint: minimum maximum\n"
     ]
    }
   ],
   "source": [
    "hint(80)"
   ]
  },
  {
   "cell_type": "markdown",
   "id": "93cfeab3",
   "metadata": {},
   "source": [
    "#### 81. Consider an array Z = [1,2,3,4,5,6,7,8,9,10,11,12,13,14], how to generate an array R = [[1,2,3,4], [2,3,4,5], [3,4,5,6], ..., [11,12,13,14]]? (★★★)\n"
   ]
  },
  {
   "cell_type": "code",
   "execution_count": null,
   "id": "360de791",
   "metadata": {},
   "outputs": [],
   "source": [
    "# same as 76"
   ]
  },
  {
   "cell_type": "markdown",
   "id": "4c15ceff",
   "metadata": {},
   "source": [
    "#### 82. Compute a matrix rank (★★★)\n"
   ]
  },
  {
   "cell_type": "code",
   "execution_count": 3,
   "id": "9a4272d2",
   "metadata": {},
   "outputs": [
    {
     "data": {
      "text/plain": [
       "5"
      ]
     },
     "execution_count": 3,
     "metadata": {},
     "output_type": "execute_result"
    }
   ],
   "source": [
    "matrix = np.random.randint(0, 5, (5, 5))\n",
    "np.linalg.matrix_rank(matrix)"
   ]
  },
  {
   "cell_type": "markdown",
   "id": "1171cb84",
   "metadata": {},
   "source": [
    "#### 83. How to find the most frequent value in an array?\n"
   ]
  },
  {
   "cell_type": "code",
   "execution_count": 75,
   "id": "33e951c8",
   "metadata": {},
   "outputs": [
    {
     "data": {
      "text/plain": [
       "4"
      ]
     },
     "execution_count": 75,
     "metadata": {},
     "output_type": "execute_result"
    }
   ],
   "source": [
    "matrix = np.random.randint(0, 5, 10)\n",
    "np.bincount(matrix).argmax()"
   ]
  },
  {
   "cell_type": "markdown",
   "id": "04f472aa",
   "metadata": {},
   "source": [
    "#### 84. Extract all the contiguous 3x3 blocks from a random 10x10 matrix (★★★)\n"
   ]
  },
  {
   "cell_type": "code",
   "execution_count": 77,
   "id": "7aade14a",
   "metadata": {},
   "outputs": [
    {
     "name": "stdout",
     "output_type": "stream",
     "text": [
      "hint: stride_tricks.as_strided, from numpy.lib.stride_tricks import sliding_window_view (np>=1.20.0)\n"
     ]
    }
   ],
   "source": [
    "hint(84)"
   ]
  },
  {
   "cell_type": "markdown",
   "id": "52836346",
   "metadata": {},
   "source": [
    "#### 85. Create a 2D array subclass such that Z[i,j] == Z[j,i] (★★★)\n"
   ]
  },
  {
   "cell_type": "code",
   "execution_count": 78,
   "id": "4df70318",
   "metadata": {},
   "outputs": [
    {
     "name": "stdout",
     "output_type": "stream",
     "text": [
      "hint: class method\n"
     ]
    }
   ],
   "source": [
    "# warning that user defined class inherits a raw class"
   ]
  },
  {
   "cell_type": "markdown",
   "id": "78c43ee5",
   "metadata": {},
   "source": [
    "#### 86. Consider a set of p matrices with shape (n,n) and a set of p vectors with shape (n,1). How to compute the sum of of the p matrix products at once? (result has shape (n,1)) (★★★)\n"
   ]
  },
  {
   "cell_type": "code",
   "execution_count": 5,
   "id": "32fd2c3b",
   "metadata": {},
   "outputs": [
    {
     "name": "stdout",
     "output_type": "stream",
     "text": [
      "hint: np.tensordot\n"
     ]
    },
    {
     "data": {
      "text/plain": [
       "array([[40.],\n",
       "       [40.],\n",
       "       [40.],\n",
       "       [40.],\n",
       "       [40.],\n",
       "       [40.],\n",
       "       [40.],\n",
       "       [40.]])"
      ]
     },
     "execution_count": 5,
     "metadata": {},
     "output_type": "execute_result"
    }
   ],
   "source": [
    "hint(86)\n",
    "p, n = 5, 8\n",
    "M = np.ones((p, n, n))\n",
    "V = np.ones((p, n, 1))\n",
    "np.einsum(\"ijk,ikm->jm\", M, V)"
   ]
  },
  {
   "cell_type": "markdown",
   "id": "158f9945",
   "metadata": {},
   "source": [
    "#### 87. Consider a 16x16 array, how to get the block-sum (block size is 4x4)? (★★★)\n"
   ]
  },
  {
   "cell_type": "code",
   "execution_count": 6,
   "id": "5a9b808f",
   "metadata": {},
   "outputs": [
    {
     "name": "stdout",
     "output_type": "stream",
     "text": [
      "hint: np.add.reduceat, from numpy.lib.stride_tricks import sliding_window_view (np>=1.20.0)\n"
     ]
    }
   ],
   "source": [
    "hint(87)\n",
    "matrix = np.ones((16, 16))\n",
    "added_matrix = np.add.reduceat(\n",
    "    np.add.reduceat(matrix, np.arange(0, matrix.shape[0], 4), axis=0), np.arange(0, matrix.shape[1], 4), axis=1\n",
    ")"
   ]
  },
  {
   "cell_type": "markdown",
   "id": "2e0ad860",
   "metadata": {},
   "source": [
    "#### 88. How to implement the Game of Life using numpy arrays? (★★★)\n"
   ]
  },
  {
   "cell_type": "code",
   "execution_count": 7,
   "id": "574acff5",
   "metadata": {},
   "outputs": [
    {
     "name": "stdout",
     "output_type": "stream",
     "text": [
      "No hints provided...\n"
     ]
    }
   ],
   "source": [
    "hint(88)"
   ]
  },
  {
   "cell_type": "markdown",
   "id": "69a892fa",
   "metadata": {},
   "source": [
    "#### 89. How to get the n largest values of an array (★★★)\n"
   ]
  },
  {
   "cell_type": "code",
   "execution_count": 10,
   "id": "21b2bd48",
   "metadata": {},
   "outputs": [
    {
     "name": "stdout",
     "output_type": "stream",
     "text": [
      "hint: np.argsort | np.argpartition\n",
      "[1 8 1 1 4]\n"
     ]
    },
    {
     "data": {
      "text/plain": [
       "4"
      ]
     },
     "execution_count": 10,
     "metadata": {},
     "output_type": "execute_result"
    }
   ],
   "source": [
    "hint(89)\n",
    "vec = np.random.randint(0, 10, 5)\n",
    "print(vec)\n",
    "vec[vec.argsort()[-2]]"
   ]
  },
  {
   "cell_type": "markdown",
   "id": "b55ccacc",
   "metadata": {},
   "source": [
    "#### 90. Given an arbitrary number of vectors, build the cartesian product (every combinations of every item) (★★★)\n"
   ]
  },
  {
   "cell_type": "code",
   "execution_count": 11,
   "id": "4b645da4",
   "metadata": {},
   "outputs": [
    {
     "name": "stdout",
     "output_type": "stream",
     "text": [
      "hint: np.indices\n"
     ]
    }
   ],
   "source": [
    "hint(90)"
   ]
  },
  {
   "cell_type": "markdown",
   "id": "89187a23",
   "metadata": {},
   "source": [
    "#### 91. How to create a record array from a regular array? (★★★)\n"
   ]
  },
  {
   "cell_type": "code",
   "execution_count": 12,
   "id": "da94c71a",
   "metadata": {},
   "outputs": [
    {
     "name": "stdout",
     "output_type": "stream",
     "text": [
      "hint: np.core.records.fromarrays\n"
     ]
    }
   ],
   "source": [
    "hint(91)"
   ]
  },
  {
   "cell_type": "markdown",
   "id": "aa70d4ca",
   "metadata": {},
   "source": [
    "#### 92. Consider a large vector Z, compute Z to the power of 3 using 3 different methods (★★★)\n"
   ]
  },
  {
   "cell_type": "code",
   "execution_count": 4,
   "id": "7cff1bf5",
   "metadata": {},
   "outputs": [
    {
     "name": "stdout",
     "output_type": "stream",
     "text": [
      "1.54 µs ± 5.06 ns per loop (mean ± std. dev. of 7 runs, 1,000,000 loops each)\n",
      "1.54 µs ± 3.64 ns per loop (mean ± std. dev. of 7 runs, 1,000,000 loops each)\n",
      "1.11 µs ± 6.16 ns per loop (mean ± std. dev. of 7 runs, 1,000,000 loops each)\n"
     ]
    }
   ],
   "source": [
    "Z = np.random.rand(100)\n",
    "%timeit np.power(Z, 3)\n",
    "%timeit Z ** 3\n",
    "%timeit np.einsum(\"i,i,i->i\", Z, Z, Z)"
   ]
  },
  {
   "cell_type": "markdown",
   "id": "5f79dd00",
   "metadata": {},
   "source": [
    "#### 93. Consider two arrays A and B of shape (8,3) and (2,2). How to find rows of A that contain elements of each row of B regardless of the order of the elements in B? (★★★)\n"
   ]
  },
  {
   "cell_type": "code",
   "execution_count": 5,
   "id": "20c105b2",
   "metadata": {},
   "outputs": [
    {
     "name": "stdout",
     "output_type": "stream",
     "text": [
      "hint: np.where\n"
     ]
    }
   ],
   "source": [
    "hint(93)"
   ]
  },
  {
   "cell_type": "markdown",
   "id": "a80570cd",
   "metadata": {},
   "source": [
    "#### 94. Considering a 10x3 matrix, extract rows with unequal values (e.g. [2,2,3]) (★★★)\n"
   ]
  },
  {
   "cell_type": "code",
   "execution_count": 6,
   "id": "84db8de1",
   "metadata": {},
   "outputs": [
    {
     "name": "stdout",
     "output_type": "stream",
     "text": [
      "No hints provided...\n"
     ]
    }
   ],
   "source": [
    "hint(94)"
   ]
  },
  {
   "cell_type": "markdown",
   "id": "ba154f43",
   "metadata": {},
   "source": [
    "#### 95. Convert a vector of ints into a matrix binary representation (★★★)\n"
   ]
  },
  {
   "cell_type": "code",
   "execution_count": 7,
   "id": "cfa96e1b",
   "metadata": {},
   "outputs": [
    {
     "name": "stdout",
     "output_type": "stream",
     "text": [
      "hint: np.unpackbits\n"
     ]
    }
   ],
   "source": [
    "hint(95)"
   ]
  },
  {
   "cell_type": "markdown",
   "id": "420e2343",
   "metadata": {},
   "source": [
    "#### 96. Given a two dimensional array, how to extract unique rows? (★★★)\n"
   ]
  },
  {
   "cell_type": "code",
   "execution_count": 9,
   "id": "4680dfd0",
   "metadata": {},
   "outputs": [
    {
     "name": "stdout",
     "output_type": "stream",
     "text": [
      "hint: np.ascontiguousarray | np.unique\n"
     ]
    }
   ],
   "source": [
    "hint(96)"
   ]
  },
  {
   "cell_type": "markdown",
   "id": "89fef2f3",
   "metadata": {},
   "source": [
    "#### 97. Considering 2 vectors A & B, write the einsum equivalent of inner, outer, sum, and mul function (★★★)\n"
   ]
  },
  {
   "cell_type": "code",
   "execution_count": 11,
   "id": "bb9c14b2",
   "metadata": {},
   "outputs": [
    {
     "name": "stdout",
     "output_type": "stream",
     "text": [
      "hint: np.einsum\n",
      "20\n",
      "[[ 2  3  4]\n",
      " [ 4  6  8]\n",
      " [ 6  9 12]]\n",
      "[1 2 3]\n",
      "[ 2  6 12]\n"
     ]
    }
   ],
   "source": [
    "hint(97)\n",
    "A = np.array((1, 2, 3))\n",
    "B = np.array((2, 3, 4))\n",
    "print(np.einsum(\"i,i\", A, B))\n",
    "print(np.einsum(\"i,j->ij\", A, B))\n",
    "print(np.einsum(\"i\", A))\n",
    "print(np.einsum(\"i,i->i\", A, B))"
   ]
  },
  {
   "cell_type": "markdown",
   "id": "7ad5cc5f",
   "metadata": {},
   "source": [
    "#### 98. Considering a path described by two vectors (X,Y), how to sample it using equidistant samples (★★★)?\n"
   ]
  },
  {
   "cell_type": "code",
   "execution_count": 12,
   "id": "0899d1d5",
   "metadata": {},
   "outputs": [
    {
     "name": "stdout",
     "output_type": "stream",
     "text": [
      "hint: np.cumsum, np.interp\n"
     ]
    }
   ],
   "source": [
    "hint(98)"
   ]
  },
  {
   "cell_type": "markdown",
   "id": "2b69272e",
   "metadata": {},
   "source": [
    "#### 99. Given an integer n and a 2D array X, select from X the rows which can be interpreted as draws from a multinomial distribution with n degrees, i.e., the rows which only contain integers and which sum to n. (★★★)\n"
   ]
  },
  {
   "cell_type": "code",
   "execution_count": 13,
   "id": "55c8b034",
   "metadata": {},
   "outputs": [
    {
     "name": "stdout",
     "output_type": "stream",
     "text": [
      "hint: np.logical_and.reduce, np.mod\n"
     ]
    }
   ],
   "source": [
    "hint(99)"
   ]
  },
  {
   "cell_type": "markdown",
   "id": "59ab5516",
   "metadata": {},
   "source": [
    "#### 100. Compute bootstrapped 95% confidence intervals for the mean of a 1D array X (i.e., resample the elements of an array with replacement N times, compute the mean of each sample, and then compute percentiles over the means). (★★★)\n"
   ]
  },
  {
   "cell_type": "code",
   "execution_count": 14,
   "id": "450877d8",
   "metadata": {},
   "outputs": [
    {
     "name": "stdout",
     "output_type": "stream",
     "text": [
      "hint: np.percentile\n"
     ]
    }
   ],
   "source": [
    "hint(100)"
   ]
  }
 ],
 "metadata": {
  "kernelspec": {
   "display_name": ".venv",
   "language": "python",
   "name": "python3"
  },
  "language_info": {
   "codemirror_mode": {
    "name": "ipython",
    "version": 3
   },
   "file_extension": ".py",
   "mimetype": "text/x-python",
   "name": "python",
   "nbconvert_exporter": "python",
   "pygments_lexer": "ipython3",
   "version": "3.9.6"
  }
 },
 "nbformat": 4,
 "nbformat_minor": 5
}
